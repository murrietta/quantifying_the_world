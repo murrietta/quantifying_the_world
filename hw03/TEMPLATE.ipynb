{
 "cells": [
  {
   "cell_type": "markdown",
   "metadata": {},
   "source": [
    "# Report Template Format"
   ]
  },
  {
   "cell_type": "markdown",
   "metadata": {},
   "source": [
    "Robert Slater\n",
    "\n",
    "1/10/18"
   ]
  },
  {
   "cell_type": "markdown",
   "metadata": {},
   "source": [
    "### Abstract\n",
    " The expected content of a case study for classwork is described.  An alternative content is proposed and described.  Both a formal written document  or a Jupyter Notebook (presented here) with appropriate content may be presented."
   ]
  },
  {
   "cell_type": "markdown",
   "metadata": {},
   "source": [
    "### Introduction\n",
    "Writing reports is one of the most stress inducing portions of any science course.  In order to provide guidance and reduce student stress, it is important to describe the required sections of a report.  While these instructions are meant to be guidelines and a minimum framework, putting forth a good effort to make a professional effort is always greatly appreciated.\n",
    "\n",
    "In addition, it is the goal of the instructor to grade for Data Science content and not formal writing styles.  An additional goal in Live Session one was to provide specific feedback to the student on the presentation style that will be ungraded.  It is felt this is necessary as style is much a personal preference, as well as that each organization has its own preferred style.  Comments will attempt to be limited to the overall presentation such as readability and communication and not artistic choices such as serif vs. non-serif, of which the author is not qualified to comment, nor is it we felt such discussions are germane to this course.\n",
    "\n",
    "In the Introduction it is expected a background that would bring an educated reader of the field up to speed.  Please make sure to describe all acronyms before being used, even common ones.  An excellent example is Southern Methodist University (SMU). SMU can now be used as an abbreviation throughout the rest of the paper.  \n",
    "\n",
    "Write mathematical equations correctly.  For instance it is asked that students not write x^2 for $x^2$. Short equations may be inline such as: $ x = y+ 5$.  Longer equations should be broken out and numbered if used in text as in (1)."
   ]
  },
  {
   "cell_type": "markdown",
   "metadata": {},
   "source": [
    "<center>$\\lim_{x\\to 0}{\\frac{e^x-1}{2x}}\n",
    " \\overset{\\left[\\frac{0}{0}\\right]}{\\underset{\\mathrm{H}}{=}}\n",
    " \\lim_{x\\to 0}{\\frac{e^x}{2}}={\\frac{1}{2}}$     (1) </center>"
   ]
  },
  {
   "cell_type": "markdown",
   "metadata": {},
   "source": [
    "### Methods\n",
    "Every report should have a title and author at the top.  All reports must be in English.  It is recognized the English spellings are not consistent, you are free to use either UK or US spellings.   \n",
    "\n",
    "Each report should contain an introduction, description of methods, discussion of results, and conclusion.  Be sure to call out each section.  Presented here is an example by using numbered section headings and bolded large size font.  The abstract is optional.  While it is noted that professional journals almost always require an abstract, internal reports typically do not.  In the author's recollection, no internal report has ever required an abstract.  Use your best judgement.\n",
    "\n",
    "It is expected that every report is undertaken in a serious manner. While the professor may be noted for his humor, coursework is still to be presented professionally.  Reports should always be written in the second or third voice.   Occasional slips are acceptable, but may be noted in commentary.  An attempt to present in the proper format is what is asked and is understood that many who speak English as a second language may struggle.  Please utilize this class to practice with ungraded feedback. \n",
    "\n",
    "It is asked that each person submit their own report.  While the professor has encouraged group collaboration, in the end, each person is responsible for their own report.  Acknowledgement of your collaborators can be done in a multitude of ways include an acknowledgements sections, a team section or as co-authors.  In the case of co-authors, please identify the primary author with a footnote.   Primary authors traditionally are listed first or last.  \n",
    "\n",
    "It is expected that prior work to be cited, however, there is no need to provide an exhaustive list of references.  If in the course of writing the course text is used, there is no need to provide a citation.  There is not a preference of citation style.  Pick one that works and be consistent"
   ]
  },
  {
   "cell_type": "markdown",
   "metadata": {},
   "source": [
    "### Results\n",
    "The results section will include intelligent discussion of the output of the work.  Please stick to the data and avoid commentary on the software including issues with errors, bugs or code.  Figures, tables, and diagrams are especially useful in this section.  Be sure to caption figures and describe them in a manner consistent with a professional report.  For example, if the assignment was to try a new method, compare the results with a previous standard method.  If multiple methods were used, compare the results to each other.  Describe what the data implies at a level of an educated reader in the field.\n",
    "\n",
    "Refer to figures as 'Fig X.' such as Fig 1.  Figures can be presented inline or after the main text, but should always be a part of the main document.  It is asked that figures be generated by the software and not screen captures.  If you are uncertain how to generate a figure from a piece of software, feel free to ask.  Please note that all of the software packages utilized in this course are capable of producing graphics for export.  Label all axes, use units and other best practices.  Make the title descriptive of the data presented.  It is also acceptable to include your code inline for Jupyter, including graphics generation."
   ]
  },
  {
   "cell_type": "code",
   "execution_count": 15,
   "metadata": {},
   "outputs": [
    {
     "data": {
      "image/png": "[encoded data removed]",
      "text/plain": [
       "<matplotlib.figure.Figure at 0x1168d67b8>"
      ]
     },
     "metadata": {},
     "output_type": "display_data"
    }
   ],
   "source": [
    "#Comments are not extra.  They are encouraged\n",
    "%matplotlib inline\n",
    "import numpy as np\n",
    "#going to make a random function\n",
    "x=np.linspace(-10,10)\n",
    "y=x+1/10*(x**3)+20*np.sin(2*x)\n",
    "txt='Figure 1: Do not forget to include a caption'\n",
    "import matplotlib.pyplot as plt\n",
    "fig = plt.figure()\n",
    "ax1 = fig.add_axes((0.1, 0.2, 0.8, 0.7))\n",
    "ax1.set_title(\"This is my title\")\n",
    "ax1.set_xlabel('X-axis')\n",
    "ax1.set_ylabel('Y-axis')\n",
    "# make the edge colors match the facecolors\n",
    "ax1.scatter(x,y, c='r', edgecolors='face')\n",
    "# center text\n",
    "fig.text(.5, .05, txt, ha='center')\n",
    "# resize the figure to match the aspect ratio of the Axes    \n",
    "fig.set_size_inches(7, 8, forward=True)\n",
    "plt.show()"
   ]
  },
  {
   "cell_type": "markdown",
   "metadata": {
    "collapsed": true
   },
   "source": [
    "### Conclusion\n",
    "Summarize your results.  Again, do so in a professional manner.  Conclude with what was learned and any possible follow ups.  Avoiding again commenting on errors and software issues.  It is appropriate to talk about methods and how the results compare."
   ]
  },
  {
   "cell_type": "code",
   "execution_count": null,
   "metadata": {
    "collapsed": true
   },
   "outputs": [],
   "source": []
  }
 ],
 "metadata": {
  "kernelspec": {
   "display_name": "Python 3",
   "language": "python",
   "name": "python3"
  },
  "language_info": {
   "codemirror_mode": {
    "name": "ipython",
    "version": 3
   },
   "file_extension": ".py",
   "mimetype": "text/x-python",
   "name": "python",
   "nbconvert_exporter": "python",
   "pygments_lexer": "ipython3",
   "version": "3.6.3"
  }
 },
 "nbformat": 4,
 "nbformat_minor": 2
}
