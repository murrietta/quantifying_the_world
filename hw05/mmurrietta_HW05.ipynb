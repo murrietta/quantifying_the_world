{
 "cells": [
  {
   "cell_type": "markdown",
   "metadata": {},
   "source": [
    "# Comparison of Classification Models\n",
    "Michael Murrietta\n",
    "\n",
    "3/17/2018"
   ]
  },
  {
   "cell_type": "markdown",
   "metadata": {},
   "source": [
    "## Introduction\n",
    "Classification is a fundamental task of many machine learning and statistical algorithms. An effort is given here to compare three different models on the task of classifying email messages as spam or ham using a single dataset. Since a subset of all available models is used for the task emphasis is made on the method of how to compare such models. Naive Bayes, Classification Trees from the CART algorithm, and random forests will be compared."
   ]
  },
  {
   "cell_type": "markdown",
   "metadata": {},
   "source": [
    "## Abstract\n",
    "A dataset known as the SpamAssassin corpus was processed and modeled using the bag of words (BOW) framework and also by extracting various properties of the messages into features of a tabular dataset. Classification of spam or not-spam was the main objective and the Naive Bayes, CART, and random forest methods were compared on the basis of various metrics. The final results show that random forest to be the best overall in this situation but the Naive Bayes method used on the BOW framework was also a good choice."
   ]
  },
  {
   "cell_type": "markdown",
   "metadata": {},
   "source": [
    "#### Problem Statement:\n",
    "Problem from 10.8 \n",
    "\n",
    "Compare Naive Bayes, CART, and one other algorithm.\n",
    "\n",
    "A comparison means at least a 5 fold CV tuned model for each.\n",
    "\n",
    "+ Which has the best precision\n",
    "+ Which has the best recall\n",
    "+ Which has the best accuracy\n",
    "+ Which has the best F1\n",
    "\n",
    "Based on those questions which model performs 'best' aka which would you implement if given the choice of 1 and only 1 \n",
    "(no secret option D of ensemble them all)."
   ]
  },
  {
   "cell_type": "markdown",
   "metadata": {},
   "source": [
    "## Methods\n",
    "The dataset was processed as documented in chapter 3 of Nolan and Lang's text (Nolan & Lang, 2015). Naive Bayes was implemented in two different ways, the first utilized the Bag of Words model of the dataset by computing the log odds of a message being spam given that a word is included in the message for every word in the training set; this method was presented by Nolan and Lang and provided a thorough look at how the algorithm works and is implemented computationally. The second way Naive Bayes was used was on the derived dataset, this method utilized the `naivebayes` package available on CRAN. The derived dataset did not include the message contents to the extent that the BOW method did but it utilized other information from the header, subject line, and attachments list. The `randomForest` and `rpart` packages were used to use the implement the random forest and classification tree (CART) methods for classifying spam messages in the derived dataset. The derived dataset required some minor preparation before it could be used in the random forest and CART models: CART required logical data to be converted to factors (the R data type), random forest required all numeric data. The metrics used for comparison are as follows:\n",
    "\n",
    "+ Precision\n",
    "+ Recall (True Positive Rate)\n",
    "+ Accuracy\n",
    "+ F1 score\n",
    "+ False Positive Rate\n",
    "\n",
    "The random forest model used only 100 trees and all other parameters were package defaults. The classification tree model used only the package defaults. All models except for the Naive Bayes BOW model used all variables of the derived dataset to predict the outcome. Cross validation was performed for each model using 10 folds.\n",
    "\n",
    "Admittedly the exploration of parameters is non-existent in this exercise and the focus remained on the method of comparing multiple models. An exploration of various parameters for each model could take place similarly but may be extraneous. Another approach is to make a baseline assessment, choose the best model (like in this exercise), and then explore the parameter space for the best results possible using the chosen model."
   ]
  },
  {
   "cell_type": "markdown",
   "metadata": {},
   "source": [
    "The functions that follow are due to Nolan and Lang from chapter 3 of their text (Nolan & Lang, 2015) and are used to read in and process the messages from a sub directory named `data`."
   ]
  },
  {
   "cell_type": "code",
   "execution_count": 1,
   "metadata": {},
   "outputs": [
    {
     "name": "stderr",
     "output_type": "stream",
     "text": [
      "Loading required package: NLP\n"
     ]
    }
   ],
   "source": [
    "#read in functions and stopwords for naive Bayes\n",
    "library(tm)\n",
    "stopWords = stopwords()\n",
    "cleanSW = tolower(gsub(\"[[:punct:]0-9[:blank:]]+\", \" \", stopWords))\n",
    "SWords = unlist(strsplit(cleanSW, \"[[:blank:]]+\"))\n",
    "SWords = SWords[ nchar(SWords) > 1 ]\n",
    "stopWords = unique(SWords)\n",
    "\n",
    "splitMessage = function(msg) {\n",
    "  splitPoint = match(\"\", msg)\n",
    "  header = msg[1:(splitPoint-1)]\n",
    "  body = msg[ -(1:splitPoint) ]\n",
    "  return(list(header = header, body = body))\n",
    "}\n",
    "\n",
    "getBoundary = function(header) {\n",
    "  boundaryIdx = grep(\"boundary=\", header)\n",
    "  boundary = gsub('\"', \"\", header[boundaryIdx])\n",
    "  gsub(\".*boundary= *([^;]*);?.*\", \"\\\\1\", boundary)\n",
    "}\n",
    "\n",
    "dropAttach = function(body, boundary){\n",
    "  \n",
    "  bString = paste(\"--\", boundary, sep = \"\")\n",
    "  bStringLocs = which(bString == body)\n",
    "  \n",
    "  if (length(bStringLocs) <= 1) return(body)\n",
    "  \n",
    "  eString = paste(\"--\", boundary, \"--\", sep = \"\")\n",
    "  eStringLoc = which(eString == body)\n",
    "  if (length(eStringLoc) == 0) \n",
    "    return(body[ (bStringLocs[1] + 1) : (bStringLocs[2] - 1)])\n",
    "  \n",
    "  n = length(body)\n",
    "  if (eStringLoc < n) \n",
    "     return( body[ c( (bStringLocs[1] + 1) : (bStringLocs[2] - 1), \n",
    "                    ( (eStringLoc + 1) : n )) ] )\n",
    "  \n",
    "  return( body[ (bStringLocs[1] + 1) : (bStringLocs[2] - 1) ])\n",
    "}\n",
    "    \n",
    "cleanText =\n",
    "function(msg)   {\n",
    "  tolower(gsub(\"[[:punct:]0-9[:space:][:blank:]]+\", \" \", msg))\n",
    "}\n",
    "\n",
    "findMsgWords = \n",
    "function(msg, stopWords) {\n",
    " if(is.null(msg))\n",
    "  return(character())\n",
    "\n",
    " words = unique(unlist(strsplit(cleanText(msg), \"[[:blank:]\\t]+\")))\n",
    " \n",
    " # drop empty and 1 letter words\n",
    " words = words[ nchar(words) > 1]\n",
    " words = words[ !( words %in% stopWords) ]\n",
    " invisible(words)\n",
    "}\n",
    "\n",
    "processAllWords = function(dirName, stopWords)\n",
    "{\n",
    "       # read all files in the directory\n",
    "  fileNames = list.files(dirName, full.names = TRUE)\n",
    "       # drop files that are not email, i.e., cmds\n",
    "  notEmail = grep(\"cmds$\", fileNames)\n",
    "  if ( length(notEmail) > 0) fileNames = fileNames[ - notEmail ]\n",
    "\n",
    "  messages = lapply(fileNames, readLines, encoding = \"latin1\")\n",
    "  \n",
    "       # split header and body\n",
    "  emailSplit = lapply(messages, splitMessage)\n",
    "       # put body and header in own lists\n",
    "  bodyList = lapply(emailSplit, function(msg) msg$body)\n",
    "  headerList = lapply(emailSplit, function(msg) msg$header)\n",
    "  rm(emailSplit)\n",
    "  \n",
    "       # determine which messages have attachments\n",
    "  hasAttach = sapply(headerList, function(header) {\n",
    "    CTloc = grep(\"Content-Type\", header)\n",
    "    if (length(CTloc) == 0) return(0)\n",
    "    multi = grep(\"multi\", tolower(header[CTloc])) \n",
    "    if (length(multi) == 0) return(0)\n",
    "    multi\n",
    "  })\n",
    "  \n",
    "  hasAttach = which(hasAttach > 0)\n",
    "  \n",
    "       # find boundary strings for messages with attachments\n",
    "  boundaries = sapply(headerList[hasAttach], getBoundary)\n",
    "  \n",
    "       # drop attachments from message body\n",
    "  bodyList[hasAttach] = mapply(dropAttach, bodyList[hasAttach], \n",
    "                               boundaries, SIMPLIFY = FALSE)\n",
    "  \n",
    "       # extract words from body\n",
    "  msgWordsList = lapply(bodyList, findMsgWords, stopWords)\n",
    "  \n",
    "  invisible(msgWordsList)\n",
    "}"
   ]
  },
  {
   "cell_type": "code",
   "execution_count": 2,
   "metadata": {
    "collapsed": true
   },
   "outputs": [],
   "source": [
    "#some other constants to allow us to use the above functions when processing messages\n",
    "#for naive Bayes\n",
    "spamPath = \"./data\"\n",
    "dirNames = list.files(path = paste(spamPath, \"messages\",\n",
    "                      sep = .Platform$file.sep))\n",
    "fullDirNames = paste(spamPath, \"messages\", dirNames, \n",
    "                     sep = .Platform$file.sep)"
   ]
  },
  {
   "cell_type": "code",
   "execution_count": 3,
   "metadata": {},
   "outputs": [
    {
     "name": "stderr",
     "output_type": "stream",
     "text": [
      "Warning message in FUN(X[[i]], ...):\n",
      "\"incomplete final line found on './data/messages/hard_ham/00228.0eaef7857bbbf3ebf5edbbdae2b30493'\"Warning message in FUN(X[[i]], ...):\n",
      "\"incomplete final line found on './data/messages/hard_ham/0231.7c6cc716ce3f3bfad7130dd3c8d7b072'\"Warning message in FUN(X[[i]], ...):\n",
      "\"incomplete final line found on './data/messages/hard_ham/0250.7c6cc716ce3f3bfad7130dd3c8d7b072'\"Warning message in FUN(X[[i]], ...):\n",
      "\"incomplete final line found on './data/messages/spam/00136.faa39d8e816c70f23b4bb8758d8a74f0'\"Warning message in FUN(X[[i]], ...):\n",
      "\"incomplete final line found on './data/messages/spam/0143.260a940290dcb61f9327b224a368d4af'\""
     ]
    },
    {
     "name": "stdout",
     "output_type": "stream",
     "text": [
      "[1] 5051 1400  500 1000 1397\n"
     ]
    }
   ],
   "source": [
    "#now read in and process the raw messages using the above functions\n",
    "msgWordsList = lapply(fullDirNames, processAllWords, \n",
    "                      stopWords = stopWords) \n",
    "\n",
    "#get number of messages in each directory\n",
    "numMsgs = sapply(msgWordsList, length)\n",
    "print(numMsgs)"
   ]
  },
  {
   "cell_type": "markdown",
   "metadata": {},
   "source": [
    "At this point we have `msgWordsList` which is a list of 5 sub lists corresponding to the directories from which they came. The directories are: `easy_ham`, `easy_ham_2`, `hard_ham`, `spam`, and `spam_2`. Each sub list is a list of processed messages from the respective directory."
   ]
  },
  {
   "cell_type": "code",
   "execution_count": 4,
   "metadata": {
    "collapsed": true
   },
   "outputs": [],
   "source": [
    "#create logical labels for each message based on which folder they are in:\n",
    "#the first 3 are ham the last 2 are spam\n",
    "isSpam = rep(c(FALSE, FALSE, FALSE, TRUE, TRUE), numMsgs)\n",
    "\n",
    "#flatten into a single list of msgs\n",
    "msgWordsList = unlist(msgWordsList, recursive = FALSE)"
   ]
  },
  {
   "cell_type": "markdown",
   "metadata": {},
   "source": [
    "The following functions are again from the text (Nolan & Lang, 2015) and are used to train a model given some training messages (`computeFreqs`) and then compute the log likelihood ratio for a given message `computeMsgLLR`."
   ]
  },
  {
   "cell_type": "code",
   "execution_count": 5,
   "metadata": {
    "collapsed": true
   },
   "outputs": [],
   "source": [
    "computeFreqs =\n",
    "function(wordsList, spam, bow = unique(unlist(wordsList)))\n",
    "{\n",
    "   # create a matrix for spam, ham, and log odds\n",
    "  wordTable = matrix(0.5, nrow = 4, ncol = length(bow), \n",
    "                     dimnames = list(c(\"spam\", \"ham\", \n",
    "                                        \"presentLogOdds\", \n",
    "                                        \"absentLogOdds\"),  bow))\n",
    "\n",
    "   # For each spam message, add 1 to counts for words in message\n",
    "  counts.spam = table(unlist(lapply(wordsList[spam], unique)))\n",
    "  wordTable[\"spam\", names(counts.spam)] = counts.spam + .5\n",
    "\n",
    "   # Similarly for ham messages\n",
    "  counts.ham = table(unlist(lapply(wordsList[!spam], unique)))  \n",
    "  wordTable[\"ham\", names(counts.ham)] = counts.ham + .5  \n",
    "\n",
    "\n",
    "   # Find the total number of spam and ham\n",
    "  numSpam = sum(spam)\n",
    "  numHam = length(spam) - numSpam\n",
    "\n",
    "   # Prob(word|spam) and Prob(word | ham)\n",
    "  wordTable[\"spam\", ] = wordTable[\"spam\", ]/(numSpam + .5)\n",
    "  wordTable[\"ham\", ] = wordTable[\"ham\", ]/(numHam + .5)\n",
    "  \n",
    "   # log odds\n",
    "  wordTable[\"presentLogOdds\", ] = \n",
    "     log(wordTable[\"spam\",]) - log(wordTable[\"ham\", ])\n",
    "  wordTable[\"absentLogOdds\", ] = \n",
    "     log((1 - wordTable[\"spam\", ])) - log((1 -wordTable[\"ham\", ]))\n",
    "\n",
    "  invisible(wordTable)\n",
    "}"
   ]
  },
  {
   "cell_type": "code",
   "execution_count": 6,
   "metadata": {
    "collapsed": true
   },
   "outputs": [],
   "source": [
    "#compute LLR of a processed message\n",
    "computeMsgLLR = function(words, freqTable) \n",
    "{\n",
    "       # Discards words not in training data.\n",
    "  words = words[!is.na(match(words, colnames(freqTable)))]\n",
    "\n",
    "       # Find which words are present\n",
    "  present = colnames(freqTable) %in% words\n",
    "\n",
    "  sum(freqTable[\"presentLogOdds\", present]) +\n",
    "    sum(freqTable[\"absentLogOdds\", !present])\n",
    "}"
   ]
  },
  {
   "cell_type": "markdown",
   "metadata": {},
   "source": [
    "These functions are adapted from the `typeIErrorRate` function given by Nolan and Lang, these calculate all rates from the 2 x 2 confusion matrix associated with threshold `tau`, the log likelihood ratios `llrVals`, and the labels of spam or not-spam `spam`."
   ]
  },
  {
   "cell_type": "markdown",
   "metadata": {},
   "source": [
    "### Testing Naive Bayes\n",
    "Here we test the naive Bayes method as implemented in the Nolan and Lang's text (Nolan & Lang, 2015) using 10 fold cross validation. Most of the code below is taken from the text but was modified to easily calculate the metrics of interest as well as to produce the ROC plot.\n",
    "\n",
    "The work in chapter 3 of the text suggests that -35 is a choice for threshold that will produce a false positive rate of 0.01 and a false negative rate of about 0.06. The way this was arrived at was by pooling together the out-of-fold false positive/negative rates and then selecting the threshold that accounted for the best false negative rate after subsetting for thresholds that produced a false positive rate of 0.01. This was in effort to select the best threshold for the model independent of the training set used.\n",
    "\n",
    "In this case the threshold of -35 is retained where log likelihood ratios less than or equal to -35 are considered not spam and those with log likelihood ratios greater than -35 are considered to be spam."
   ]
  },
  {
   "cell_type": "code",
   "execution_count": 7,
   "metadata": {
    "collapsed": true
   },
   "outputs": [],
   "source": [
    "#calculate confusion matrix proportions and some other measures of error\n",
    "#adapted from previous definition but now for a generic vector of predictions and true labels (no threshold needed)\n",
    "falsePosRate = \n",
    "function(yhat, y)\n",
    "{\n",
    "  sum(yhat & !y)/sum(!y) #sum all false positives divide by sum of all actual positives\n",
    "}\n",
    "falseNegRate = \n",
    "function(yhat, y)\n",
    "{\n",
    "  sum(!yhat & y)/sum(y) #sum all false positives divide by sum of all actual positives\n",
    "}\n",
    "truePosRate = \n",
    "function(yhat, y)\n",
    "{\n",
    "  sum(yhat & y)/sum(y)\n",
    "}\n",
    "trueNegRate = \n",
    "function(yhat, y)\n",
    "{\n",
    "  sum(!yhat & !y)/sum(!y) #sum all non-spam that were actually negative, divide by all negatives\n",
    "}\n",
    "#precision is number of true positives divided by number of all predicted positives\n",
    "precision = function(yhat, y)\n",
    "{\n",
    "  sum(yhat & y)/sum(yhat)\n",
    "}\n",
    "#recall is number of true positives divided by number of all actual positives\n",
    "#which is just the true positive rate for which we already have a function to use\n",
    "\n",
    "#f1 score is the harmonic mean of precision and recall\n",
    "f1score = function(yhat, y)\n",
    "{\n",
    "  prec = precision(yhat, y)\n",
    "  rec = truePosRate(yhat, y)\n",
    "  (2*prec*rec)/(prec + rec)\n",
    "}\n",
    "\n",
    "accuracy = function(yhat, y)\n",
    "{\n",
    "  (sum(yhat & y) + sum(!yhat & !y))/length(y)\n",
    "}"
   ]
  },
  {
   "cell_type": "code",
   "execution_count": 8,
   "metadata": {
    "collapsed": true
   },
   "outputs": [],
   "source": [
    "#now collect FPR and TPR for each fold using the suggested threshold from the previous analysis\n",
    "k = 10 #set k\n",
    "numTrain = length(msgWordsList) #get number of training observations\n",
    "partK = sample(numTrain) #randomly sample digits between 1 and numTrain\n",
    "tot = k * floor(numTrain/k) #set the total number of observations we'll use in all k folds, ensures even amounts\n",
    "partK = matrix(partK[1:tot], ncol = k) #matrix using the the first tot items in the vector version of partK\n",
    "\n",
    "testFoldOdds = NULL #a blank vector: we'll append the Odds vectors produced for each test fold\n",
    "for (i in 1:k) {\n",
    "  foldIdx = partK[ , i] #use column i in partK to test, use the rest for training\n",
    "  trainTabFold = computeFreqs(msgWordsList[-foldIdx], isSpam[-foldIdx])\n",
    "  testFoldOdds = c(testFoldOdds, \n",
    "               sapply(msgWordsList[ foldIdx ], computeMsgLLR, trainTabFold))\n",
    "}\n",
    "\n",
    "testFoldSpam = NULL #blank vector that gets the labels for spam or not spam of each test fold\n",
    "for (i in 1:k) {\n",
    "  foldIdx = partK[ , i]\n",
    "  testFoldSpam = c(testFoldSpam, isSpam[foldIdx])\n",
    "}"
   ]
  },
  {
   "cell_type": "code",
   "execution_count": 9,
   "metadata": {
    "collapsed": true
   },
   "outputs": [],
   "source": [
    "#apply our threshold to the odds\n",
    "testFoldPred = testFoldOdds > -35\n",
    "#expand the predictions and actual labels into matrices, one column for each set of out-of-sample folds\n",
    "testFoldPred = matrix(testFoldPred, ncol=k)\n",
    "testFoldSpam = matrix(testFoldSpam, ncol=k)"
   ]
  },
  {
   "cell_type": "code",
   "execution_count": 10,
   "metadata": {},
   "outputs": [
    {
     "data": {
      "text/html": [
       "<table>\n",
       "<thead><tr><th scope=col>fold</th><th scope=col>method</th><th scope=col>tpr</th><th scope=col>fpr</th><th scope=col>prec</th><th scope=col>f1</th><th scope=col>acc</th></tr></thead>\n",
       "<tbody>\n",
       "\t<tr><td>1                  </td><td>naive_bayes_bow    </td><td>0.94468085106383   </td><td>0.0143061516452074 </td><td>0.956896551724138  </td><td>0.950749464668094  </td><td>0.975374732334047  </td></tr>\n",
       "\t<tr><td>2                  </td><td>naive_bayes_bow    </td><td>0.947368421052632  </td><td>0.00727802037845706</td><td>0.97907949790795   </td><td>0.962962962962963  </td><td>0.980728051391863  </td></tr>\n",
       "\t<tr><td>3                  </td><td>naive_bayes_bow    </td><td>0.950617283950617  </td><td>0.00434153400868307</td><td>0.987179487179487  </td><td>0.968553459119497  </td><td>0.983940042826552  </td></tr>\n",
       "\t<tr><td>4                  </td><td>naive_bayes_bow    </td><td>0.958715596330275  </td><td>0.00837988826815642</td><td>0.972093023255814  </td><td>0.965357967667437  </td><td>0.983940042826552  </td></tr>\n",
       "\t<tr><td>5                  </td><td>naive_bayes_bow    </td><td>0.959641255605381  </td><td>0.00562587904360056</td><td>0.981651376146789  </td><td>0.970521541950113  </td><td>0.986081370449679  </td></tr>\n",
       "\t<tr><td>6                  </td><td>naive_bayes_bow    </td><td>0.974576271186441  </td><td>0.0143266475644699 </td><td>0.958333333333333  </td><td>0.966386554621849  </td><td>0.982869379014989  </td></tr>\n",
       "\t<tr><td>7                  </td><td>naive_bayes_bow    </td><td>0.950191570881226  </td><td>0                  </td><td>1                  </td><td>0.974459724950884  </td><td>0.986081370449679  </td></tr>\n",
       "\t<tr><td>8                  </td><td>naive_bayes_bow    </td><td>0.960629921259842  </td><td>0.00441176470588235</td><td>0.987854251012146  </td><td>0.974051896207585  </td><td>0.986081370449679  </td></tr>\n",
       "\t<tr><td>9                  </td><td>naive_bayes_bow    </td><td>0.95397489539749   </td><td>0.00719424460431655</td><td>0.978540772532189  </td><td>0.966101694915254  </td><td>0.982869379014989  </td></tr>\n",
       "\t<tr><td>10                 </td><td>naive_bayes_bow    </td><td>0.954166666666667  </td><td>0.0129682997118156 </td><td>0.96218487394958   </td><td>0.9581589958159    </td><td>0.978586723768737  </td></tr>\n",
       "</tbody>\n",
       "</table>\n"
      ],
      "text/latex": [
       "\\begin{tabular}{lllllll}\n",
       " fold & method & tpr & fpr & prec & f1 & acc\\\\\n",
       "\\hline\n",
       "\t 1                   & naive\\_bayes\\_bow & 0.94468085106383    & 0.0143061516452074  & 0.956896551724138   & 0.950749464668094   & 0.975374732334047  \\\\\n",
       "\t 2                   & naive\\_bayes\\_bow & 0.947368421052632   & 0.00727802037845706 & 0.97907949790795    & 0.962962962962963   & 0.980728051391863  \\\\\n",
       "\t 3                   & naive\\_bayes\\_bow & 0.950617283950617   & 0.00434153400868307 & 0.987179487179487   & 0.968553459119497   & 0.983940042826552  \\\\\n",
       "\t 4                   & naive\\_bayes\\_bow & 0.958715596330275   & 0.00837988826815642 & 0.972093023255814   & 0.965357967667437   & 0.983940042826552  \\\\\n",
       "\t 5                   & naive\\_bayes\\_bow & 0.959641255605381   & 0.00562587904360056 & 0.981651376146789   & 0.970521541950113   & 0.986081370449679  \\\\\n",
       "\t 6                   & naive\\_bayes\\_bow & 0.974576271186441   & 0.0143266475644699  & 0.958333333333333   & 0.966386554621849   & 0.982869379014989  \\\\\n",
       "\t 7                   & naive\\_bayes\\_bow & 0.950191570881226   & 0                   & 1                   & 0.974459724950884   & 0.986081370449679  \\\\\n",
       "\t 8                   & naive\\_bayes\\_bow & 0.960629921259842   & 0.00441176470588235 & 0.987854251012146   & 0.974051896207585   & 0.986081370449679  \\\\\n",
       "\t 9                   & naive\\_bayes\\_bow & 0.95397489539749    & 0.00719424460431655 & 0.978540772532189   & 0.966101694915254   & 0.982869379014989  \\\\\n",
       "\t 10                  & naive\\_bayes\\_bow & 0.954166666666667   & 0.0129682997118156  & 0.96218487394958    & 0.9581589958159     & 0.978586723768737  \\\\\n",
       "\\end{tabular}\n"
      ],
      "text/markdown": [
       "\n",
       "fold | method | tpr | fpr | prec | f1 | acc | \n",
       "|---|---|---|---|---|---|---|---|---|---|\n",
       "| 1                   | naive_bayes_bow     | 0.94468085106383    | 0.0143061516452074  | 0.956896551724138   | 0.950749464668094   | 0.975374732334047   | \n",
       "| 2                   | naive_bayes_bow     | 0.947368421052632   | 0.00727802037845706 | 0.97907949790795    | 0.962962962962963   | 0.980728051391863   | \n",
       "| 3                   | naive_bayes_bow     | 0.950617283950617   | 0.00434153400868307 | 0.987179487179487   | 0.968553459119497   | 0.983940042826552   | \n",
       "| 4                   | naive_bayes_bow     | 0.958715596330275   | 0.00837988826815642 | 0.972093023255814   | 0.965357967667437   | 0.983940042826552   | \n",
       "| 5                   | naive_bayes_bow     | 0.959641255605381   | 0.00562587904360056 | 0.981651376146789   | 0.970521541950113   | 0.986081370449679   | \n",
       "| 6                   | naive_bayes_bow     | 0.974576271186441   | 0.0143266475644699  | 0.958333333333333   | 0.966386554621849   | 0.982869379014989   | \n",
       "| 7                   | naive_bayes_bow     | 0.950191570881226   | 0                   | 1                   | 0.974459724950884   | 0.986081370449679   | \n",
       "| 8                   | naive_bayes_bow     | 0.960629921259842   | 0.00441176470588235 | 0.987854251012146   | 0.974051896207585   | 0.986081370449679   | \n",
       "| 9                   | naive_bayes_bow     | 0.95397489539749    | 0.00719424460431655 | 0.978540772532189   | 0.966101694915254   | 0.982869379014989   | \n",
       "| 10                  | naive_bayes_bow     | 0.954166666666667   | 0.0129682997118156  | 0.96218487394958    | 0.9581589958159     | 0.978586723768737   | \n",
       "\n",
       "\n"
      ],
      "text/plain": [
       "      fold method          tpr               fpr                \n",
       " [1,] 1    naive_bayes_bow 0.94468085106383  0.0143061516452074 \n",
       " [2,] 2    naive_bayes_bow 0.947368421052632 0.00727802037845706\n",
       " [3,] 3    naive_bayes_bow 0.950617283950617 0.00434153400868307\n",
       " [4,] 4    naive_bayes_bow 0.958715596330275 0.00837988826815642\n",
       " [5,] 5    naive_bayes_bow 0.959641255605381 0.00562587904360056\n",
       " [6,] 6    naive_bayes_bow 0.974576271186441 0.0143266475644699 \n",
       " [7,] 7    naive_bayes_bow 0.950191570881226 0                  \n",
       " [8,] 8    naive_bayes_bow 0.960629921259842 0.00441176470588235\n",
       " [9,] 9    naive_bayes_bow 0.95397489539749  0.00719424460431655\n",
       "[10,] 10   naive_bayes_bow 0.954166666666667 0.0129682997118156 \n",
       "      prec              f1                acc              \n",
       " [1,] 0.956896551724138 0.950749464668094 0.975374732334047\n",
       " [2,] 0.97907949790795  0.962962962962963 0.980728051391863\n",
       " [3,] 0.987179487179487 0.968553459119497 0.983940042826552\n",
       " [4,] 0.972093023255814 0.965357967667437 0.983940042826552\n",
       " [5,] 0.981651376146789 0.970521541950113 0.986081370449679\n",
       " [6,] 0.958333333333333 0.966386554621849 0.982869379014989\n",
       " [7,] 1                 0.974459724950884 0.986081370449679\n",
       " [8,] 0.987854251012146 0.974051896207585 0.986081370449679\n",
       " [9,] 0.978540772532189 0.966101694915254 0.982869379014989\n",
       "[10,] 0.96218487394958  0.9581589958159   0.978586723768737"
      ]
     },
     "metadata": {},
     "output_type": "display_data"
    }
   ],
   "source": [
    "#calculate our metrics for naive Bayes\n",
    "cvratesNBbow = cbind(\"fold\" = 1:k,\n",
    "              \"method\" = rep(\"naive_bayes_bow\",k),\n",
    "              \"tpr\" = unlist(lapply(1:k, function(i) truePosRate(testFoldPred[,i], testFoldSpam[,i]))), \n",
    "              \"fpr\" = unlist(lapply(1:k, function(i) falsePosRate(testFoldPred[,i], testFoldSpam[,i]))),\n",
    "              \"prec\" = unlist(lapply(1:k, function(i) precision(testFoldPred[,i], testFoldSpam[,i]))),\n",
    "              \"f1\" = unlist(lapply(1:k, function(i) f1score(testFoldPred[,i], testFoldSpam[,i]))),\n",
    "              \"acc\" = unlist(lapply(1:k, function(i) accuracy(testFoldPred[,i], testFoldSpam[,i]))))\n",
    "cvratesNBbow"
   ]
  },
  {
   "cell_type": "markdown",
   "metadata": {},
   "source": [
    "#### The other models\n",
    "The preceding work was not just a naive Bayes classifier but a naive Bayes classifier using a bag-of-words framework. While it is not impossible to use the bag-of-words framework for the other models it will require some work to get the data into a usable format using bag-of-words. The following section will instead import the derived dataset as described in Nolan and Lang's text and proceed to use `naive_bayes`, `rpart`, and `random_forest` classifiers from their respective packages."
   ]
  },
  {
   "cell_type": "code",
   "execution_count": 11,
   "metadata": {},
   "outputs": [
    {
     "name": "stdout",
     "output_type": "stream",
     "text": [
      "[1] 9348   30\n"
     ]
    }
   ],
   "source": [
    "#load the data\n",
    "#this is for the CART part later\n",
    "load(\"spamAssassinDerivedDF.rda\")\n",
    "print(dim(emailDF))"
   ]
  },
  {
   "cell_type": "code",
   "execution_count": 12,
   "metadata": {
    "collapsed": true
   },
   "outputs": [],
   "source": [
    "#some setup for naivebayes\n",
    "library(naivebayes)"
   ]
  },
  {
   "cell_type": "code",
   "execution_count": 13,
   "metadata": {
    "collapsed": true
   },
   "outputs": [],
   "source": [
    "#some setup for rpart, this is from Nolan and Lang's code\n",
    "library(rpart)\n",
    "\n",
    "setupRpart = function(data) {\n",
    "  logicalVars = which(sapply(data, is.logical))\n",
    "  facVars = lapply(data[ , logicalVars], \n",
    "                   function(x) {\n",
    "                      x = as.factor(x)\n",
    "                      levels(x) = c(\"F\", \"T\")\n",
    "                      x\n",
    "                   })\n",
    "  cbind(facVars, data[ , - logicalVars])\n",
    "}\n",
    "\n",
    "emailDFrp = setupRpart(emailDF)"
   ]
  },
  {
   "cell_type": "code",
   "execution_count": 14,
   "metadata": {},
   "outputs": [
    {
     "name": "stderr",
     "output_type": "stream",
     "text": [
      "Warning message:\n",
      "\"package 'randomForest' was built under R version 3.4.4\"randomForest 4.6-12\n",
      "Type rfNews() to see new features/changes/bug fixes.\n"
     ]
    }
   ],
   "source": [
    "#some setup for random forest\n",
    "#taken from Professor Slater's notebook\n",
    "#tried using randomForest on emailDF and quickly realized there was something wrong\n",
    "library(randomForest)\n",
    "setupRnum = function(data) {\n",
    "  logicalVars = which(sapply(data, is.logical))\n",
    "  facVars = lapply(data[ , logicalVars], \n",
    "                   function(x) {\n",
    "                      x = as.numeric(x)\n",
    "                   })\n",
    "  cbind(facVars, data[ , - logicalVars])\n",
    "}\n",
    "\n",
    "emailDFnum = setupRnum(emailDF)\n",
    "\n",
    "#convert any na's to 0\n",
    "emailDFnum[is.na(emailDFnum)] <- 0"
   ]
  },
  {
   "cell_type": "code",
   "execution_count": 15,
   "metadata": {
    "collapsed": true
   },
   "outputs": [],
   "source": [
    "#set the seed for reproducibility\n",
    "#i'm not using caret, obviously. cv doesn't seem too unmanageable at this time\n",
    "set.seed(418910)\n",
    "\n",
    "#setup our folds, we'll use the same folds for every model we try\n",
    "k = 10 #set k\n",
    "numTrain = dim(emailDF)[1] #get number of training observations\n",
    "partK = sample(numTrain) #randomly sample digits between 1 and numTrain\n",
    "tot = k * floor(numTrain/k) #set the total number of observations we'll use in all k folds, ensures even amounts\n",
    "partK = matrix(partK[1:tot], ncol = k) #matrix using the the first tot items in the vector version of partK"
   ]
  },
  {
   "cell_type": "code",
   "execution_count": 16,
   "metadata": {},
   "outputs": [
    {
     "data": {
      "text/html": [
       "<ol>\n",
       "\t<li>0.277301927194861</li>\n",
       "\t<li>0.282655246252677</li>\n",
       "\t<li>0.247323340471092</li>\n",
       "\t<li>0.265524625267666</li>\n",
       "\t<li>0.259100642398287</li>\n",
       "\t<li>0.243040685224839</li>\n",
       "\t<li>0.246252676659529</li>\n",
       "\t<li>0.245182012847966</li>\n",
       "\t<li>0.243040685224839</li>\n",
       "\t<li>0.253747323340471</li>\n",
       "</ol>\n"
      ],
      "text/latex": [
       "\\begin{enumerate}\n",
       "\\item 0.277301927194861\n",
       "\\item 0.282655246252677\n",
       "\\item 0.247323340471092\n",
       "\\item 0.265524625267666\n",
       "\\item 0.259100642398287\n",
       "\\item 0.243040685224839\n",
       "\\item 0.246252676659529\n",
       "\\item 0.245182012847966\n",
       "\\item 0.243040685224839\n",
       "\\item 0.253747323340471\n",
       "\\end{enumerate}\n"
      ],
      "text/markdown": [
       "1. 0.277301927194861\n",
       "2. 0.282655246252677\n",
       "3. 0.247323340471092\n",
       "4. 0.265524625267666\n",
       "5. 0.259100642398287\n",
       "6. 0.243040685224839\n",
       "7. 0.246252676659529\n",
       "8. 0.245182012847966\n",
       "9. 0.243040685224839\n",
       "10. 0.253747323340471\n",
       "\n",
       "\n"
      ],
      "text/plain": [
       "[[1]]\n",
       "[1] 0.2773019\n",
       "\n",
       "[[2]]\n",
       "[1] 0.2826552\n",
       "\n",
       "[[3]]\n",
       "[1] 0.2473233\n",
       "\n",
       "[[4]]\n",
       "[1] 0.2655246\n",
       "\n",
       "[[5]]\n",
       "[1] 0.2591006\n",
       "\n",
       "[[6]]\n",
       "[1] 0.2430407\n",
       "\n",
       "[[7]]\n",
       "[1] 0.2462527\n",
       "\n",
       "[[8]]\n",
       "[1] 0.245182\n",
       "\n",
       "[[9]]\n",
       "[1] 0.2430407\n",
       "\n",
       "[[10]]\n",
       "[1] 0.2537473\n"
      ]
     },
     "metadata": {},
     "output_type": "display_data"
    }
   ],
   "source": [
    "#checking if the proportion of spam in our folds is similar to the actual\n",
    "lapply(1:k, function(i) sum(emailDF[partK[,i],\"isSpam\"])/(dim(partK)[1]))"
   ]
  },
  {
   "cell_type": "code",
   "execution_count": 17,
   "metadata": {
    "collapsed": true
   },
   "outputs": [],
   "source": [
    "#running cv for all models\n",
    "testFoldPredNB = NULL\n",
    "testFoldPredRP = NULL\n",
    "testFoldPredRF = NULL\n",
    "testFoldSpam = NULL\n",
    "for (i in 1:k) {\n",
    "  foldIdx = partK[ , i] #isolate indices for testing\n",
    "  nb <- naive_bayes(isSpam ~ ., data=emailDF[-foldIdx,]) #train with all data except for the test fold \n",
    "  rp <- rpart(isSpam ~ ., data = emailDFrp[-foldIdx,], method = \"class\")\n",
    "  rf <- randomForest(as.factor(isSpam) ~ ., data=emailDFnum[-foldIdx,], ntree=100)\n",
    "  testFoldPredNB = c(testFoldPredNB, as.logical(predict(nb, newdata=emailDF[foldIdx,])))\n",
    "  testFoldPredRP = c(testFoldPredRP, apply(predict(rp, newdata=emailDFrp[foldIdx,]),1, \n",
    "                                           function(x) which.max(x)-1) == 1)\n",
    "  testFoldPredRF = c(testFoldPredRF, (predict(rf, newdata=emailDFnum[foldIdx,]) == 1))\n",
    "  testFoldSpam = c(testFoldSpam, emailDF[foldIdx,'isSpam'])\n",
    "}\n",
    "\n",
    "#expand the odds and actual labels into matrices, one column for each set of out-of-sample folds\n",
    "testFoldPredNB = matrix(testFoldPredNB, ncol=k)\n",
    "testFoldPredRP = matrix(testFoldPredRP, ncol=k)\n",
    "testFoldPredRF = matrix(testFoldPredRF, ncol=k)\n",
    "testFoldSpam = matrix(testFoldSpam, ncol=k)"
   ]
  },
  {
   "cell_type": "markdown",
   "metadata": {},
   "source": [
    "The error metrics were already calculated for Naive Bayes using BOW, a similar computation will be done for the cross validation just completed."
   ]
  },
  {
   "cell_type": "code",
   "execution_count": 18,
   "metadata": {
    "collapsed": true
   },
   "outputs": [],
   "source": [
    "#now we can calculate all of our metrics for naivebayes and place it in nice matrix format\n",
    "nbcvrates = cbind(\"fold\" = 1:k,\n",
    "              \"method\" = rep(\"naive_bayes\",k),\n",
    "              \"tpr\" = unlist(lapply(1:k, function(i) truePosRate(testFoldPredNB[,i], testFoldSpam[,i]))), \n",
    "              \"fpr\" = unlist(lapply(1:k, function(i) falsePosRate(testFoldPredNB[,i], testFoldSpam[,i]))),\n",
    "              \"prec\" = unlist(lapply(1:k, function(i) precision(testFoldPredNB[,i], testFoldSpam[,i]))),\n",
    "              \"f1\" = unlist(lapply(1:k, function(i) f1score(testFoldPredNB[,i], testFoldSpam[,i]))),\n",
    "              \"acc\" = unlist(lapply(1:k, function(i) accuracy(testFoldPredNB[,i], testFoldSpam[,i]))))\n",
    "rpcvrates = cbind(\"fold\" = 1:k,\n",
    "              \"method\" = rep(\"rpart\",k),\n",
    "              \"tpr\" = unlist(lapply(1:k, function(i) truePosRate(testFoldPredRP[,i], testFoldSpam[,i]))), \n",
    "              \"fpr\" = unlist(lapply(1:k, function(i) falsePosRate(testFoldPredRP[,i], testFoldSpam[,i]))),\n",
    "              \"prec\" = unlist(lapply(1:k, function(i) precision(testFoldPredRP[,i], testFoldSpam[,i]))),\n",
    "              \"f1\" = unlist(lapply(1:k, function(i) f1score(testFoldPredRP[,i], testFoldSpam[,i]))),\n",
    "              \"acc\" = unlist(lapply(1:k, function(i) accuracy(testFoldPredRP[,i], testFoldSpam[,i]))))\n",
    "rfcvrates = cbind(\"fold\" = 1:k,\n",
    "              \"method\" = rep(\"randomForest\",k),\n",
    "              \"tpr\" = unlist(lapply(1:k, function(i) truePosRate(testFoldPredRF[,i], testFoldSpam[,i]))), \n",
    "              \"fpr\" = unlist(lapply(1:k, function(i) falsePosRate(testFoldPredRF[,i], testFoldSpam[,i]))),\n",
    "              \"prec\" = unlist(lapply(1:k, function(i) precision(testFoldPredRF[,i], testFoldSpam[,i]))),\n",
    "              \"f1\" = unlist(lapply(1:k, function(i) f1score(testFoldPredRF[,i], testFoldSpam[,i]))),\n",
    "              \"acc\" = unlist(lapply(1:k, function(i) accuracy(testFoldPredRF[,i], testFoldSpam[,i]))))\n",
    "cvrates = rbind(cvratesNBbow, nbcvrates, rpcvrates, rfcvrates)"
   ]
  },
  {
   "cell_type": "code",
   "execution_count": 19,
   "metadata": {
    "collapsed": true
   },
   "outputs": [],
   "source": [
    "#this will put \"method\" as the first column\n",
    "cvrates = as.matrix(merge(cvrates, cbind(\"method\"=unique(cvrates[,2]),\"num_method\"=c(1,2,3,4))))"
   ]
  },
  {
   "cell_type": "markdown",
   "metadata": {},
   "source": [
    "Below the average value for each metric is displayed for each method as well as a receiver operating characteristic plot. The plot shows where each out-of-fold test placed on the FPR and TPR axes. For each metric the ideal is a value of 1 except for the false positive rate of which the ideal value is 0. The average metric values show that `naive_bayes_bow` and `randomForest` are both attaining the best values while `naive_bayes` and `rpart` do not once attain a best average metric value."
   ]
  },
  {
   "cell_type": "code",
   "execution_count": 20,
   "metadata": {},
   "outputs": [
    {
     "data": {
      "text/html": [
       "<table>\n",
       "<thead><tr><th scope=col>method</th><th scope=col>tpr</th><th scope=col>fpr</th><th scope=col>prec</th><th scope=col>f1</th><th scope=col>acc</th></tr></thead>\n",
       "<tbody>\n",
       "\t<tr><td>naive_bayes        </td><td>0.730814590991379  </td><td>0.054079181908274  </td><td>0.822868780425136  </td><td>0.773654756337675  </td><td>0.8906852248394    </td></tr>\n",
       "\t<tr><td>naive_bayes_bow    </td><td>0.95545627333944   </td><td>0.00788324299305889</td><td>0.976381316704143  </td><td>0.965730426287958  </td><td>0.982655246252677  </td></tr>\n",
       "\t<tr><td>randomForest       </td><td>0.942260302032631  </td><td>0.00777128330245932</td><td>0.976590718237285  </td><td>0.959069263893225  </td><td>0.979443254817987  </td></tr>\n",
       "\t<tr><td>rpart              </td><td>0.816029465100105  </td><td>0.0526621655812766 </td><td>0.842264843623524  </td><td>0.82862084646381   </td><td>0.913704496788009  </td></tr>\n",
       "</tbody>\n",
       "</table>\n"
      ],
      "text/latex": [
       "\\begin{tabular}{llllll}\n",
       " method & tpr & fpr & prec & f1 & acc\\\\\n",
       "\\hline\n",
       "\t naive\\_bayes       & 0.730814590991379   & 0.054079181908274   & 0.822868780425136   & 0.773654756337675   & 0.8906852248394    \\\\\n",
       "\t naive\\_bayes\\_bow & 0.95545627333944    & 0.00788324299305889 & 0.976381316704143   & 0.965730426287958   & 0.982655246252677  \\\\\n",
       "\t randomForest        & 0.942260302032631   & 0.00777128330245932 & 0.976590718237285   & 0.959069263893225   & 0.979443254817987  \\\\\n",
       "\t rpart               & 0.816029465100105   & 0.0526621655812766  & 0.842264843623524   & 0.82862084646381    & 0.913704496788009  \\\\\n",
       "\\end{tabular}\n"
      ],
      "text/markdown": [
       "\n",
       "method | tpr | fpr | prec | f1 | acc | \n",
       "|---|---|---|---|\n",
       "| naive_bayes         | 0.730814590991379   | 0.054079181908274   | 0.822868780425136   | 0.773654756337675   | 0.8906852248394     | \n",
       "| naive_bayes_bow     | 0.95545627333944    | 0.00788324299305889 | 0.976381316704143   | 0.965730426287958   | 0.982655246252677   | \n",
       "| randomForest        | 0.942260302032631   | 0.00777128330245932 | 0.976590718237285   | 0.959069263893225   | 0.979443254817987   | \n",
       "| rpart               | 0.816029465100105   | 0.0526621655812766  | 0.842264843623524   | 0.82862084646381    | 0.913704496788009   | \n",
       "\n",
       "\n"
      ],
      "text/plain": [
       "     method          tpr               fpr                 prec             \n",
       "[1,] naive_bayes     0.730814590991379 0.054079181908274   0.822868780425136\n",
       "[2,] naive_bayes_bow 0.95545627333944  0.00788324299305889 0.976381316704143\n",
       "[3,] randomForest    0.942260302032631 0.00777128330245932 0.976590718237285\n",
       "[4,] rpart           0.816029465100105 0.0526621655812766  0.842264843623524\n",
       "     f1                acc              \n",
       "[1,] 0.773654756337675 0.8906852248394  \n",
       "[2,] 0.965730426287958 0.982655246252677\n",
       "[3,] 0.959069263893225 0.979443254817987\n",
       "[4,] 0.82862084646381  0.913704496788009"
      ]
     },
     "metadata": {},
     "output_type": "display_data"
    }
   ],
   "source": [
    "avgCVrates = t(matrix(unlist(lapply(unique(cvrates[,1]), function(m) \n",
    "    lapply(3:7, function(i) \n",
    "        mean(as.numeric(cvrates[cvrates[,1]==m,i]))))),ncol=4))\n",
    "        \n",
    "avgCVrates = cbind(unique(cvrates[,1]),avgCVrates)\n",
    "colnames(avgCVrates) = c(\"method\", \"tpr\", \"fpr\", \"prec\", \"f1\", \"acc\")\n",
    "avgCVrates"
   ]
  },
  {
   "cell_type": "code",
   "execution_count": 21,
   "metadata": {},
   "outputs": [
    {
     "data": {
      "image/png": "[encoded data removed]",
      "text/plain": [
       "Plot with title \"Receiver Operating Characteristic\""
      ]
     },
     "metadata": {},
     "output_type": "display_data"
    }
   ],
   "source": [
    "plot(cvrates[,4], cvrates[,3], ylim=c(0,1), xlim=c(0,1), pch=as.integer(cvrates[,8]), col=cvrates[,8],\n",
    "     xlab=\"False Positive Rate\", ylab=\"True Positive Rate\", main=\"Receiver Operating Characteristic\")\n",
    "abline(0, 1, lty=5, col=\"red\")\n",
    "legend(0.7, 0.2, legend=unique(cvrates[,1]),\n",
    "       col=as.integer(unique(cvrates[,8])), pch=as.integer(unique(cvrates[,8])), cex=0.8)"
   ]
  },
  {
   "cell_type": "markdown",
   "metadata": {
    "collapsed": true
   },
   "source": [
    "## Results\n",
    "\n",
    "The best metric for comparing classification models in this scenario is the f1 score since it incorporates both precision and the true positive rate (recall). For the email client user the precision part informs us of how much of my wanted mail is being incorrectly classified by the model (1 - precision), the recall part tells us how much of the all possible spam did the model catch. Each of these is certainly important so to be able to effectively summarize them in a single score makes the f1 score a good choice. Using the f1 score as the ultimate metric shows the `naive_bayes_bow` method to be the best with an average out-of-fold f1 score of `0.965`. It is also clear in the ROC plot that the `naive_bayes_bow` method is the best but with the 100 tree `randomForest` model very close."
   ]
  },
  {
   "cell_type": "markdown",
   "metadata": {},
   "source": [
    "## Conclusion\n",
    "\n",
    "The f1 score seemed to be the best metric for this scenario as it summarizes two important aspects of classification model performance. While there are some improvements to be made on the bag of words framework used with Naive Bayes the random forest model could still end up performing better. Indeed, it would be a simpler task to try various parameters on the random forest model than it would to make adjustments to the bag of words."
   ]
  },
  {
   "cell_type": "markdown",
   "metadata": {},
   "source": [
    "## References\n",
    "[1] Nolan, Deborah and Lang, Temple. Data Science in R: A Case Studies Approach, Chapter 3: Using Statistics to Identify Spam. 2015 Taylor & Francis Group, LLC."
   ]
  }
 ],
 "metadata": {
  "kernelspec": {
   "display_name": "R",
   "language": "R",
   "name": "ir"
  },
  "language_info": {
   "codemirror_mode": "r",
   "file_extension": ".r",
   "mimetype": "text/x-r-source",
   "name": "R",
   "pygments_lexer": "r",
   "version": "3.4.3"
  }
 },
 "nbformat": 4,
 "nbformat_minor": 2
}
