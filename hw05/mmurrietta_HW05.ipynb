{
 "cells": [
  {
   "cell_type": "markdown",
   "metadata": {},
   "source": [
    "# Comparison of Classification Models\n",
    "Michael Murrietta\n",
    "\n",
    "3/17/2018"
   ]
  },
  {
   "cell_type": "markdown",
   "metadata": {},
   "source": [
    "## Introduction\n",
    "Classification is a fundamental task of many machine learning and statistical algorithms. An effort is given here to compare three different models on the task of classifying email messages as spam or ham using a single dataset. Since a subset of all available models is used for the task emphasis is made on the method of how to compare such models. Naive Bayes, Classification Trees from the CART algorithm, and random forests will be compared."
   ]
  },
  {
   "cell_type": "markdown",
   "metadata": {},
   "source": [
    "## Abstract\n",
    "Problem from 10.8 \n",
    "Compare Naive Bayes, CART, and one other algorithm.\n",
    "A comparison means at least a 5 fold CV tuned model for each.\n",
    "Which has the best precision\n",
    "Which has the best recall\n",
    "Which has the best accuracy\n",
    "Which has the best F1\n",
    "Based on those questions which model performs 'best' aka which would you implement if given the choice of 1 and only 1 \n",
    "(no secret option D of ensemble them all)."
   ]
  },
  {
   "cell_type": "markdown",
   "metadata": {},
   "source": [
    "## Methods\n",
    "Naive Bayes was performed a la Nolan and Lang. Cart was also done. Random forests were done too.\n",
    "\n",
    "Metrics used:\n",
    "+ Precision\n",
    "+ Recall (True Positive Rate)\n",
    "+ Accuracy\n",
    "+ F1 score\n",
    "+ F2 score: I wanted to use this since it places more importance on negative cases. The rationale is that my preference as an email user would be to get all of my non-spam messages even at the cost of a few spam messages making into my inbox."
   ]
  },
  {
   "cell_type": "markdown",
   "metadata": {},
   "source": [
    "The functions that follow are due to Nolan and Lang from chapter 3 of their text (Nolan & Lang, 2015) and are used to read in and process the messages from a sub directory named `data`."
   ]
  },
  {
   "cell_type": "code",
   "execution_count": 47,
   "metadata": {},
   "outputs": [],
   "source": [
    "#read in functions and stopwords for naive Bayes\n",
    "library(tm)\n",
    "stopWords = stopwords()\n",
    "cleanSW = tolower(gsub(\"[[:punct:]0-9[:blank:]]+\", \" \", stopWords))\n",
    "SWords = unlist(strsplit(cleanSW, \"[[:blank:]]+\"))\n",
    "SWords = SWords[ nchar(SWords) > 1 ]\n",
    "stopWords = unique(SWords)\n",
    "\n",
    "splitMessage = function(msg) {\n",
    "  splitPoint = match(\"\", msg)\n",
    "  header = msg[1:(splitPoint-1)]\n",
    "  body = msg[ -(1:splitPoint) ]\n",
    "  return(list(header = header, body = body))\n",
    "}\n",
    "\n",
    "getBoundary = function(header) {\n",
    "  boundaryIdx = grep(\"boundary=\", header)\n",
    "  boundary = gsub('\"', \"\", header[boundaryIdx])\n",
    "  gsub(\".*boundary= *([^;]*);?.*\", \"\\\\1\", boundary)\n",
    "}\n",
    "\n",
    "dropAttach = function(body, boundary){\n",
    "  \n",
    "  bString = paste(\"--\", boundary, sep = \"\")\n",
    "  bStringLocs = which(bString == body)\n",
    "  \n",
    "  if (length(bStringLocs) <= 1) return(body)\n",
    "  \n",
    "  eString = paste(\"--\", boundary, \"--\", sep = \"\")\n",
    "  eStringLoc = which(eString == body)\n",
    "  if (length(eStringLoc) == 0) \n",
    "    return(body[ (bStringLocs[1] + 1) : (bStringLocs[2] - 1)])\n",
    "  \n",
    "  n = length(body)\n",
    "  if (eStringLoc < n) \n",
    "     return( body[ c( (bStringLocs[1] + 1) : (bStringLocs[2] - 1), \n",
    "                    ( (eStringLoc + 1) : n )) ] )\n",
    "  \n",
    "  return( body[ (bStringLocs[1] + 1) : (bStringLocs[2] - 1) ])\n",
    "}\n",
    "    \n",
    "cleanText =\n",
    "function(msg)   {\n",
    "  tolower(gsub(\"[[:punct:]0-9[:space:][:blank:]]+\", \" \", msg))\n",
    "}\n",
    "\n",
    "findMsgWords = \n",
    "function(msg, stopWords) {\n",
    " if(is.null(msg))\n",
    "  return(character())\n",
    "\n",
    " words = unique(unlist(strsplit(cleanText(msg), \"[[:blank:]\\t]+\")))\n",
    " \n",
    " # drop empty and 1 letter words\n",
    " words = words[ nchar(words) > 1]\n",
    " words = words[ !( words %in% stopWords) ]\n",
    " invisible(words)\n",
    "}\n",
    "\n",
    "processAllWords = function(dirName, stopWords)\n",
    "{\n",
    "       # read all files in the directory\n",
    "  fileNames = list.files(dirName, full.names = TRUE)\n",
    "       # drop files that are not email, i.e., cmds\n",
    "  notEmail = grep(\"cmds$\", fileNames)\n",
    "  if ( length(notEmail) > 0) fileNames = fileNames[ - notEmail ]\n",
    "\n",
    "  messages = lapply(fileNames, readLines, encoding = \"latin1\")\n",
    "  \n",
    "       # split header and body\n",
    "  emailSplit = lapply(messages, splitMessage)\n",
    "       # put body and header in own lists\n",
    "  bodyList = lapply(emailSplit, function(msg) msg$body)\n",
    "  headerList = lapply(emailSplit, function(msg) msg$header)\n",
    "  rm(emailSplit)\n",
    "  \n",
    "       # determine which messages have attachments\n",
    "  hasAttach = sapply(headerList, function(header) {\n",
    "    CTloc = grep(\"Content-Type\", header)\n",
    "    if (length(CTloc) == 0) return(0)\n",
    "    multi = grep(\"multi\", tolower(header[CTloc])) \n",
    "    if (length(multi) == 0) return(0)\n",
    "    multi\n",
    "  })\n",
    "  \n",
    "  hasAttach = which(hasAttach > 0)\n",
    "  \n",
    "       # find boundary strings for messages with attachments\n",
    "  boundaries = sapply(headerList[hasAttach], getBoundary)\n",
    "  \n",
    "       # drop attachments from message body\n",
    "  bodyList[hasAttach] = mapply(dropAttach, bodyList[hasAttach], \n",
    "                               boundaries, SIMPLIFY = FALSE)\n",
    "  \n",
    "       # extract words from body\n",
    "  msgWordsList = lapply(bodyList, findMsgWords, stopWords)\n",
    "  \n",
    "  invisible(msgWordsList)\n",
    "}"
   ]
  },
  {
   "cell_type": "code",
   "execution_count": 48,
   "metadata": {
    "collapsed": true
   },
   "outputs": [],
   "source": [
    "#some other constants to allow us to use the above functions when processing messages\n",
    "#for naive Bayes\n",
    "spamPath = \"./data\"\n",
    "dirNames = list.files(path = paste(spamPath, \"messages\",\n",
    "                      sep = .Platform$file.sep))\n",
    "fullDirNames = paste(spamPath, \"messages\", dirNames, \n",
    "                     sep = .Platform$file.sep)"
   ]
  },
  {
   "cell_type": "code",
   "execution_count": 49,
   "metadata": {},
   "outputs": [
    {
     "name": "stderr",
     "output_type": "stream",
     "text": [
      "Warning message in FUN(X[[i]], ...):\n",
      "\"incomplete final line found on './data/messages/hard_ham/00228.0eaef7857bbbf3ebf5edbbdae2b30493'\"Warning message in FUN(X[[i]], ...):\n",
      "\"incomplete final line found on './data/messages/hard_ham/0231.7c6cc716ce3f3bfad7130dd3c8d7b072'\"Warning message in FUN(X[[i]], ...):\n",
      "\"incomplete final line found on './data/messages/hard_ham/0250.7c6cc716ce3f3bfad7130dd3c8d7b072'\"Warning message in FUN(X[[i]], ...):\n",
      "\"incomplete final line found on './data/messages/spam/00136.faa39d8e816c70f23b4bb8758d8a74f0'\"Warning message in FUN(X[[i]], ...):\n",
      "\"incomplete final line found on './data/messages/spam/0143.260a940290dcb61f9327b224a368d4af'\""
     ]
    },
    {
     "name": "stdout",
     "output_type": "stream",
     "text": [
      "[1] 5051 1400  500 1000 1397\n"
     ]
    }
   ],
   "source": [
    "#now read in and process the raw messages using the above functions\n",
    "msgWordsList = lapply(fullDirNames, processAllWords, \n",
    "                      stopWords = stopWords) \n",
    "\n",
    "#get number of messages in each directory\n",
    "numMsgs = sapply(msgWordsList, length)\n",
    "print(numMsgs)"
   ]
  },
  {
   "cell_type": "markdown",
   "metadata": {},
   "source": [
    "At this point we have `msgWordsList` which is a list of 5 sub lists corresponding to the directories from which they came. The directories are: `easy_ham`, `easy_ham_2`, `hard_ham`, `spam`, and `spam_2`. Each sub list is a list of processed messages from the respective directory."
   ]
  },
  {
   "cell_type": "code",
   "execution_count": 50,
   "metadata": {
    "collapsed": true
   },
   "outputs": [],
   "source": [
    "#create logical labels for each message based on which folder they are in:\n",
    "#the first 3 are ham the last 2 are spam\n",
    "isSpam = rep(c(FALSE, FALSE, FALSE, TRUE, TRUE), numMsgs)\n",
    "\n",
    "#flatten into a single list of msgs\n",
    "msgWordsList = unlist(msgWordsList, recursive = FALSE)"
   ]
  },
  {
   "cell_type": "markdown",
   "metadata": {},
   "source": [
    "The following functions are again from the text (Nolan & Lang, 2015) and are used to train a model given some training messages (`computeFreqs`) and then compute the log likelihood ratio for a given message `computeMsgLLR`."
   ]
  },
  {
   "cell_type": "code",
   "execution_count": 51,
   "metadata": {
    "collapsed": true
   },
   "outputs": [],
   "source": [
    "computeFreqs =\n",
    "function(wordsList, spam, bow = unique(unlist(wordsList)))\n",
    "{\n",
    "   # create a matrix for spam, ham, and log odds\n",
    "  wordTable = matrix(0.5, nrow = 4, ncol = length(bow), \n",
    "                     dimnames = list(c(\"spam\", \"ham\", \n",
    "                                        \"presentLogOdds\", \n",
    "                                        \"absentLogOdds\"),  bow))\n",
    "\n",
    "   # For each spam message, add 1 to counts for words in message\n",
    "  counts.spam = table(unlist(lapply(wordsList[spam], unique)))\n",
    "  wordTable[\"spam\", names(counts.spam)] = counts.spam + .5\n",
    "\n",
    "   # Similarly for ham messages\n",
    "  counts.ham = table(unlist(lapply(wordsList[!spam], unique)))  \n",
    "  wordTable[\"ham\", names(counts.ham)] = counts.ham + .5  \n",
    "\n",
    "\n",
    "   # Find the total number of spam and ham\n",
    "  numSpam = sum(spam)\n",
    "  numHam = length(spam) - numSpam\n",
    "\n",
    "   # Prob(word|spam) and Prob(word | ham)\n",
    "  wordTable[\"spam\", ] = wordTable[\"spam\", ]/(numSpam + .5)\n",
    "  wordTable[\"ham\", ] = wordTable[\"ham\", ]/(numHam + .5)\n",
    "  \n",
    "   # log odds\n",
    "  wordTable[\"presentLogOdds\", ] = \n",
    "     log(wordTable[\"spam\",]) - log(wordTable[\"ham\", ])\n",
    "  wordTable[\"absentLogOdds\", ] = \n",
    "     log((1 - wordTable[\"spam\", ])) - log((1 -wordTable[\"ham\", ]))\n",
    "\n",
    "  invisible(wordTable)\n",
    "}"
   ]
  },
  {
   "cell_type": "code",
   "execution_count": 52,
   "metadata": {
    "collapsed": true
   },
   "outputs": [],
   "source": [
    "#compute LLR of a processed message\n",
    "computeMsgLLR = function(words, freqTable) \n",
    "{\n",
    "       # Discards words not in training data.\n",
    "  words = words[!is.na(match(words, colnames(freqTable)))]\n",
    "\n",
    "       # Find which words are present\n",
    "  present = colnames(freqTable) %in% words\n",
    "\n",
    "  sum(freqTable[\"presentLogOdds\", present]) +\n",
    "    sum(freqTable[\"absentLogOdds\", !present])\n",
    "}"
   ]
  },
  {
   "cell_type": "markdown",
   "metadata": {},
   "source": [
    "These functions are adapted from the `typeIErrorRate` function given by Nolan and Lang, these calculate all rates from the 2 x 2 confusion matrix associated with threshold `tau`, the log likelihood ratios `llrVals`, and the labels of spam or not-spam `spam`."
   ]
  },
  {
   "cell_type": "markdown",
   "metadata": {},
   "source": [
    "### Testing Naive Bayes\n",
    "Here we test the naive Bayes method as implemented in the Nolan and Lang's text (Nolan & Lang, 2015) using 10 fold cross validation. Most of the code below is taken from the text but was modified to easily calculate the metrics of interest as well as to produce the ROC plot.\n",
    "\n",
    "The work in chapter 3 of the text suggests that -35 is a choice for threshold that will produce a false positive rate of 0.01 and a false negative rate of about 0.06. The way this was arrived at was by pooling together the out-of-fold false positive/negative rates and then selecting the threshold that accounted for the best false negative rate after subsetting for thresholds that produced a false positive rate of 0.01. This was in effort to select the best threshold for the model independent of the training set used.\n",
    "\n",
    "In this case the threshold of -35 is retained where log likelihood ratios less than or equal to -35 are considered not spam and those with log likelihood ratios greater than -35 are considered to be spam."
   ]
  },
  {
   "cell_type": "code",
   "execution_count": 53,
   "metadata": {
    "collapsed": true
   },
   "outputs": [],
   "source": [
    "#calculate confusion matrix proportions and some other measures of error\n",
    "#adapted from previous definition but now for a generic vector of predictions and true labels (no threshold needed)\n",
    "falsePosRate = \n",
    "function(yhat, y)\n",
    "{\n",
    "  sum(yhat & !y)/sum(!y) #sum all false positives divide by sum of all actual positives\n",
    "}\n",
    "falseNegRate = \n",
    "function(yhat, y)\n",
    "{\n",
    "  sum(!yhat & y)/sum(y) #sum all false positives divide by sum of all actual positives\n",
    "}\n",
    "truePosRate = \n",
    "function(yhat, y)\n",
    "{\n",
    "  sum(yhat & y)/sum(y)\n",
    "}\n",
    "trueNegRate = \n",
    "function(yhat, y)\n",
    "{\n",
    "  sum(!yhat & !y)/sum(!y) #sum all non-spam that were actually negative, divide by all negatives\n",
    "}\n",
    "#precision is number of true positives divided by number of all predicted positives\n",
    "precision = function(yhat, y)\n",
    "{\n",
    "  sum(yhat & y)/sum(yhat)\n",
    "}\n",
    "#recall is number of true positives divided by number of all actual positives\n",
    "#which is just the true positive rate for which we already have a function to use\n",
    "\n",
    "#f1 score is the harmonic mean of precision and recall\n",
    "f1score = function(yhat, y)\n",
    "{\n",
    "  prec = precision(yhat, y)\n",
    "  rec = truePosRate(yhat, y)\n",
    "  (2*prec*rec)/(prec + rec)\n",
    "}\n",
    "\n",
    "accuracy = function(yhat, y)\n",
    "{\n",
    "  (sum(yhat & y) + sum(!yhat & !y))/length(y)\n",
    "}"
   ]
  },
  {
   "cell_type": "code",
   "execution_count": 54,
   "metadata": {
    "collapsed": true
   },
   "outputs": [],
   "source": [
    "#now collect FPR and TPR for each fold using the suggested threshold from the previous analysis\n",
    "k = 10 #set k\n",
    "numTrain = length(msgWordsList) #get number of training observations\n",
    "partK = sample(numTrain) #randomly sample digits between 1 and numTrain\n",
    "tot = k * floor(numTrain/k) #set the total number of observations we'll use in all k folds, ensures even amounts\n",
    "partK = matrix(partK[1:tot], ncol = k) #matrix using the the first tot items in the vector version of partK\n",
    "\n",
    "testFoldOdds = NULL #a blank vector: we'll append the Odds vectors produced for each test fold\n",
    "for (i in 1:k) {\n",
    "  foldIdx = partK[ , i] #use column i in partK to test, use the rest for training\n",
    "  trainTabFold = computeFreqs(msgWordsList[-foldIdx], isSpam[-foldIdx])\n",
    "  testFoldOdds = c(testFoldOdds, \n",
    "               sapply(msgWordsList[ foldIdx ], computeMsgLLR, trainTabFold))\n",
    "}\n",
    "\n",
    "testFoldSpam = NULL #blank vector that gets the labels for spam or not spam of each test fold\n",
    "for (i in 1:k) {\n",
    "  foldIdx = partK[ , i]\n",
    "  testFoldSpam = c(testFoldSpam, isSpam[foldIdx])\n",
    "}"
   ]
  },
  {
   "cell_type": "code",
   "execution_count": 55,
   "metadata": {
    "collapsed": true
   },
   "outputs": [],
   "source": [
    "#apply our threshold to the odds\n",
    "testFoldPred = testFoldOdds > -35\n",
    "#expand the predictions and actual labels into matrices, one column for each set of out-of-sample folds\n",
    "testFoldPred = matrix(testFoldPred, ncol=k)\n",
    "testFoldSpam = matrix(testFoldSpam, ncol=k)"
   ]
  },
  {
   "cell_type": "code",
   "execution_count": 56,
   "metadata": {},
   "outputs": [
    {
     "data": {
      "text/html": [
       "<table>\n",
       "<thead><tr><th scope=col>fold</th><th scope=col>method</th><th scope=col>tpr</th><th scope=col>fpr</th><th scope=col>prec</th><th scope=col>f1</th><th scope=col>acc</th></tr></thead>\n",
       "<tbody>\n",
       "\t<tr><td>1                  </td><td>naive_bayes_bow    </td><td>0.960869565217391  </td><td>0.00852272727272727</td><td>0.973568281938326  </td><td>0.967177242888403  </td><td>0.983940042826552  </td></tr>\n",
       "\t<tr><td>2                  </td><td>naive_bayes_bow    </td><td>0.956175298804781  </td><td>0.00878477306002928</td><td>0.975609756097561  </td><td>0.96579476861167   </td><td>0.981798715203426  </td></tr>\n",
       "\t<tr><td>3                  </td><td>naive_bayes_bow    </td><td>0.960352422907489  </td><td>0.0099009900990099 </td><td>0.968888888888889  </td><td>0.964601769911505  </td><td>0.982869379014989  </td></tr>\n",
       "\t<tr><td>4                  </td><td>naive_bayes_bow    </td><td>0.943127962085308  </td><td>0.00276625172890733</td><td>0.990049751243781  </td><td>0.966019417475728  </td><td>0.985010706638116  </td></tr>\n",
       "\t<tr><td>5                  </td><td>naive_bayes_bow    </td><td>0.962655601659751  </td><td>0.00577200577200577</td><td>0.983050847457627  </td><td>0.972746331236897  </td><td>0.986081370449679  </td></tr>\n",
       "\t<tr><td>6                  </td><td>naive_bayes_bow    </td><td>0.975903614457831  </td><td>0.00875912408759124</td><td>0.975903614457831  </td><td>0.975903614457831  </td><td>0.987152034261242  </td></tr>\n",
       "\t<tr><td>7                  </td><td>naive_bayes_bow    </td><td>0.956              </td><td>0.0087719298245614 </td><td>0.975510204081633  </td><td>0.965656565656566  </td><td>0.981798715203426  </td></tr>\n",
       "\t<tr><td>8                  </td><td>naive_bayes_bow    </td><td>0.936254980079681  </td><td>0.00732064421669107</td><td>0.979166666666667  </td><td>0.957230142566191  </td><td>0.977516059957173  </td></tr>\n",
       "\t<tr><td>9                  </td><td>naive_bayes_bow    </td><td>0.956862745098039  </td><td>0.00441826215022091</td><td>0.987854251012146  </td><td>0.97211155378486   </td><td>0.985010706638116  </td></tr>\n",
       "\t<tr><td>10                 </td><td>naive_bayes_bow    </td><td>0.952380952380952  </td><td>0.0113798008534851 </td><td>0.964912280701754  </td><td>0.958605664488017  </td><td>0.9796573875803    </td></tr>\n",
       "</tbody>\n",
       "</table>\n"
      ],
      "text/latex": [
       "\\begin{tabular}{lllllll}\n",
       " fold & method & tpr & fpr & prec & f1 & acc\\\\\n",
       "\\hline\n",
       "\t 1                   & naive\\_bayes\\_bow & 0.960869565217391   & 0.00852272727272727 & 0.973568281938326   & 0.967177242888403   & 0.983940042826552  \\\\\n",
       "\t 2                   & naive\\_bayes\\_bow & 0.956175298804781   & 0.00878477306002928 & 0.975609756097561   & 0.96579476861167    & 0.981798715203426  \\\\\n",
       "\t 3                   & naive\\_bayes\\_bow & 0.960352422907489   & 0.0099009900990099  & 0.968888888888889   & 0.964601769911505   & 0.982869379014989  \\\\\n",
       "\t 4                   & naive\\_bayes\\_bow & 0.943127962085308   & 0.00276625172890733 & 0.990049751243781   & 0.966019417475728   & 0.985010706638116  \\\\\n",
       "\t 5                   & naive\\_bayes\\_bow & 0.962655601659751   & 0.00577200577200577 & 0.983050847457627   & 0.972746331236897   & 0.986081370449679  \\\\\n",
       "\t 6                   & naive\\_bayes\\_bow & 0.975903614457831   & 0.00875912408759124 & 0.975903614457831   & 0.975903614457831   & 0.987152034261242  \\\\\n",
       "\t 7                   & naive\\_bayes\\_bow & 0.956               & 0.0087719298245614  & 0.975510204081633   & 0.965656565656566   & 0.981798715203426  \\\\\n",
       "\t 8                   & naive\\_bayes\\_bow & 0.936254980079681   & 0.00732064421669107 & 0.979166666666667   & 0.957230142566191   & 0.977516059957173  \\\\\n",
       "\t 9                   & naive\\_bayes\\_bow & 0.956862745098039   & 0.00441826215022091 & 0.987854251012146   & 0.97211155378486    & 0.985010706638116  \\\\\n",
       "\t 10                  & naive\\_bayes\\_bow & 0.952380952380952   & 0.0113798008534851  & 0.964912280701754   & 0.958605664488017   & 0.9796573875803    \\\\\n",
       "\\end{tabular}\n"
      ],
      "text/markdown": [
       "\n",
       "fold | method | tpr | fpr | prec | f1 | acc | \n",
       "|---|---|---|---|---|---|---|---|---|---|\n",
       "| 1                   | naive_bayes_bow     | 0.960869565217391   | 0.00852272727272727 | 0.973568281938326   | 0.967177242888403   | 0.983940042826552   | \n",
       "| 2                   | naive_bayes_bow     | 0.956175298804781   | 0.00878477306002928 | 0.975609756097561   | 0.96579476861167    | 0.981798715203426   | \n",
       "| 3                   | naive_bayes_bow     | 0.960352422907489   | 0.0099009900990099  | 0.968888888888889   | 0.964601769911505   | 0.982869379014989   | \n",
       "| 4                   | naive_bayes_bow     | 0.943127962085308   | 0.00276625172890733 | 0.990049751243781   | 0.966019417475728   | 0.985010706638116   | \n",
       "| 5                   | naive_bayes_bow     | 0.962655601659751   | 0.00577200577200577 | 0.983050847457627   | 0.972746331236897   | 0.986081370449679   | \n",
       "| 6                   | naive_bayes_bow     | 0.975903614457831   | 0.00875912408759124 | 0.975903614457831   | 0.975903614457831   | 0.987152034261242   | \n",
       "| 7                   | naive_bayes_bow     | 0.956               | 0.0087719298245614  | 0.975510204081633   | 0.965656565656566   | 0.981798715203426   | \n",
       "| 8                   | naive_bayes_bow     | 0.936254980079681   | 0.00732064421669107 | 0.979166666666667   | 0.957230142566191   | 0.977516059957173   | \n",
       "| 9                   | naive_bayes_bow     | 0.956862745098039   | 0.00441826215022091 | 0.987854251012146   | 0.97211155378486    | 0.985010706638116   | \n",
       "| 10                  | naive_bayes_bow     | 0.952380952380952   | 0.0113798008534851  | 0.964912280701754   | 0.958605664488017   | 0.9796573875803     | \n",
       "\n",
       "\n"
      ],
      "text/plain": [
       "      fold method          tpr               fpr                \n",
       " [1,] 1    naive_bayes_bow 0.960869565217391 0.00852272727272727\n",
       " [2,] 2    naive_bayes_bow 0.956175298804781 0.00878477306002928\n",
       " [3,] 3    naive_bayes_bow 0.960352422907489 0.0099009900990099 \n",
       " [4,] 4    naive_bayes_bow 0.943127962085308 0.00276625172890733\n",
       " [5,] 5    naive_bayes_bow 0.962655601659751 0.00577200577200577\n",
       " [6,] 6    naive_bayes_bow 0.975903614457831 0.00875912408759124\n",
       " [7,] 7    naive_bayes_bow 0.956             0.0087719298245614 \n",
       " [8,] 8    naive_bayes_bow 0.936254980079681 0.00732064421669107\n",
       " [9,] 9    naive_bayes_bow 0.956862745098039 0.00441826215022091\n",
       "[10,] 10   naive_bayes_bow 0.952380952380952 0.0113798008534851 \n",
       "      prec              f1                acc              \n",
       " [1,] 0.973568281938326 0.967177242888403 0.983940042826552\n",
       " [2,] 0.975609756097561 0.96579476861167  0.981798715203426\n",
       " [3,] 0.968888888888889 0.964601769911505 0.982869379014989\n",
       " [4,] 0.990049751243781 0.966019417475728 0.985010706638116\n",
       " [5,] 0.983050847457627 0.972746331236897 0.986081370449679\n",
       " [6,] 0.975903614457831 0.975903614457831 0.987152034261242\n",
       " [7,] 0.975510204081633 0.965656565656566 0.981798715203426\n",
       " [8,] 0.979166666666667 0.957230142566191 0.977516059957173\n",
       " [9,] 0.987854251012146 0.97211155378486  0.985010706638116\n",
       "[10,] 0.964912280701754 0.958605664488017 0.9796573875803  "
      ]
     },
     "metadata": {},
     "output_type": "display_data"
    }
   ],
   "source": [
    "#calculate our metrics for naive Bayes\n",
    "cvratesNBbow = cbind(\"fold\" = 1:k,\n",
    "              \"method\" = rep(\"naive_bayes_bow\",k),\n",
    "              \"tpr\" = unlist(lapply(1:k, function(i) truePosRate(testFoldPred[,i], testFoldSpam[,i]))), \n",
    "              \"fpr\" = unlist(lapply(1:k, function(i) falsePosRate(testFoldPred[,i], testFoldSpam[,i]))),\n",
    "              \"prec\" = unlist(lapply(1:k, function(i) precision(testFoldPred[,i], testFoldSpam[,i]))),\n",
    "              \"f1\" = unlist(lapply(1:k, function(i) f1score(testFoldPred[,i], testFoldSpam[,i]))),\n",
    "              \"acc\" = unlist(lapply(1:k, function(i) accuracy(testFoldPred[,i], testFoldSpam[,i]))))\n",
    "cvratesNBbow"
   ]
  },
  {
   "cell_type": "code",
   "execution_count": 57,
   "metadata": {},
   "outputs": [
    {
     "data": {
      "image/png": "[encoded data removed]",
      "text/plain": [
       "Plot with title \"Receiver Operating Characteristic\""
      ]
     },
     "metadata": {},
     "output_type": "display_data"
    }
   ],
   "source": [
    "plot(cvratesNBbow[,4], cvratesNBbow[,3], ylim=c(0,1), xlim=c(0,1), pch=4, col=\"blue\",\n",
    "     xlab=\"False Positive Rate\", ylab=\"True Positive Rate\", main=\"Receiver Operating Characteristic\")\n",
    "abline(0, 1, lty=5, col=\"red\")"
   ]
  },
  {
   "cell_type": "markdown",
   "metadata": {},
   "source": [
    "#### The other models\n",
    "The preceding work was not just a naive Bayes classifier but a naive Bayes classifier using a bag-of-words framework. While it is not impossible to use the bag-of-words framework for the other models it will require some work to get the data into a usable format using bag-of-words. The following section will instead import the derived dataset as described in Nolan and Lang's text and proceed to use `naive_bayes`, `rpart`, and `random_forest` classifiers from their respective packages."
   ]
  },
  {
   "cell_type": "code",
   "execution_count": 58,
   "metadata": {},
   "outputs": [
    {
     "name": "stdout",
     "output_type": "stream",
     "text": [
      "[1] 9348   30\n"
     ]
    }
   ],
   "source": [
    "#load the data\n",
    "#this is for the CART part later\n",
    "load(\"spamAssassinDerivedDF.rda\")\n",
    "print(dim(emailDF))"
   ]
  },
  {
   "cell_type": "code",
   "execution_count": 59,
   "metadata": {
    "collapsed": true
   },
   "outputs": [],
   "source": [
    "#some setup for naivebayes\n",
    "library(naivebayes)"
   ]
  },
  {
   "cell_type": "code",
   "execution_count": 60,
   "metadata": {
    "collapsed": true
   },
   "outputs": [],
   "source": [
    "#some setup for rpart, this is from Nolan and Lang's code\n",
    "library(rpart)\n",
    "\n",
    "setupRpart = function(data) {\n",
    "  logicalVars = which(sapply(data, is.logical))\n",
    "  facVars = lapply(data[ , logicalVars], \n",
    "                   function(x) {\n",
    "                      x = as.factor(x)\n",
    "                      levels(x) = c(\"F\", \"T\")\n",
    "                      x\n",
    "                   })\n",
    "  cbind(facVars, data[ , - logicalVars])\n",
    "}\n",
    "\n",
    "emailDFrp = setupRpart(emailDF)"
   ]
  },
  {
   "cell_type": "code",
   "execution_count": 61,
   "metadata": {},
   "outputs": [],
   "source": [
    "#some setup for random forest\n",
    "#taken from Professor Slater's notebook\n",
    "#tried using randomForest on emailDF and quickly realized there was something wrong\n",
    "library(randomForest)\n",
    "setupRnum = function(data) {\n",
    "  logicalVars = which(sapply(data, is.logical))\n",
    "  facVars = lapply(data[ , logicalVars], \n",
    "                   function(x) {\n",
    "                      x = as.numeric(x)\n",
    "                   })\n",
    "  cbind(facVars, data[ , - logicalVars])\n",
    "}\n",
    "\n",
    "emailDFnum = setupRnum(emailDF)\n",
    "\n",
    "#convert any na's to 0\n",
    "emailDFnum[is.na(emailDFnum)] <- 0"
   ]
  },
  {
   "cell_type": "code",
   "execution_count": 62,
   "metadata": {
    "collapsed": true
   },
   "outputs": [],
   "source": [
    "#set the seed for reproducibility\n",
    "#i'm not using caret, obviously. cv doesn't seem too unmanageable at this time\n",
    "set.seed(418910)\n",
    "\n",
    "#setup our folds, we'll use the same folds for every model we try\n",
    "k = 10 #set k\n",
    "numTrain = dim(emailDF)[1] #get number of training observations\n",
    "partK = sample(numTrain) #randomly sample digits between 1 and numTrain\n",
    "tot = k * floor(numTrain/k) #set the total number of observations we'll use in all k folds, ensures even amounts\n",
    "partK = matrix(partK[1:tot], ncol = k) #matrix using the the first tot items in the vector version of partK"
   ]
  },
  {
   "cell_type": "code",
   "execution_count": 63,
   "metadata": {},
   "outputs": [
    {
     "data": {
      "text/html": [
       "<ol>\n",
       "\t<li>0.277301927194861</li>\n",
       "\t<li>0.282655246252677</li>\n",
       "\t<li>0.247323340471092</li>\n",
       "\t<li>0.265524625267666</li>\n",
       "\t<li>0.259100642398287</li>\n",
       "\t<li>0.243040685224839</li>\n",
       "\t<li>0.246252676659529</li>\n",
       "\t<li>0.245182012847966</li>\n",
       "\t<li>0.243040685224839</li>\n",
       "\t<li>0.253747323340471</li>\n",
       "</ol>\n"
      ],
      "text/latex": [
       "\\begin{enumerate}\n",
       "\\item 0.277301927194861\n",
       "\\item 0.282655246252677\n",
       "\\item 0.247323340471092\n",
       "\\item 0.265524625267666\n",
       "\\item 0.259100642398287\n",
       "\\item 0.243040685224839\n",
       "\\item 0.246252676659529\n",
       "\\item 0.245182012847966\n",
       "\\item 0.243040685224839\n",
       "\\item 0.253747323340471\n",
       "\\end{enumerate}\n"
      ],
      "text/markdown": [
       "1. 0.277301927194861\n",
       "2. 0.282655246252677\n",
       "3. 0.247323340471092\n",
       "4. 0.265524625267666\n",
       "5. 0.259100642398287\n",
       "6. 0.243040685224839\n",
       "7. 0.246252676659529\n",
       "8. 0.245182012847966\n",
       "9. 0.243040685224839\n",
       "10. 0.253747323340471\n",
       "\n",
       "\n"
      ],
      "text/plain": [
       "[[1]]\n",
       "[1] 0.2773019\n",
       "\n",
       "[[2]]\n",
       "[1] 0.2826552\n",
       "\n",
       "[[3]]\n",
       "[1] 0.2473233\n",
       "\n",
       "[[4]]\n",
       "[1] 0.2655246\n",
       "\n",
       "[[5]]\n",
       "[1] 0.2591006\n",
       "\n",
       "[[6]]\n",
       "[1] 0.2430407\n",
       "\n",
       "[[7]]\n",
       "[1] 0.2462527\n",
       "\n",
       "[[8]]\n",
       "[1] 0.245182\n",
       "\n",
       "[[9]]\n",
       "[1] 0.2430407\n",
       "\n",
       "[[10]]\n",
       "[1] 0.2537473\n"
      ]
     },
     "metadata": {},
     "output_type": "display_data"
    }
   ],
   "source": [
    "#checking if the proportion of spam in our folds is similar to the actual\n",
    "lapply(1:k, function(i) sum(emailDF[partK[,i],\"isSpam\"])/(dim(partK)[1]))"
   ]
  },
  {
   "cell_type": "code",
   "execution_count": 64,
   "metadata": {
    "collapsed": true
   },
   "outputs": [],
   "source": [
    "#running cv for naive bayes model from naivebayes package\n",
    "testFoldPredNB = NULL\n",
    "testFoldPredRP = NULL\n",
    "testFoldPredRF = NULL\n",
    "testFoldSpam = NULL\n",
    "for (i in 1:k) {\n",
    "  foldIdx = partK[ , i] #isolate indices for testing\n",
    "  nb <- naive_bayes(isSpam ~ ., data=emailDF[-foldIdx,]) #train with all data except for the test fold \n",
    "  rp <- rpart(isSpam ~ ., data = emailDFrp[-foldIdx,], method = \"class\")\n",
    "  rf <- randomForest(as.factor(isSpam) ~ ., data=emailDFnum[-foldIdx,], ntree=100)\n",
    "  testFoldPredNB = c(testFoldPredNB, as.logical(predict(nb, newdata=emailDF[foldIdx,])))\n",
    "  testFoldPredRP = c(testFoldPredRP, apply(predict(rp, newdata=emailDFrp[foldIdx,]),1, \n",
    "                                           function(x) which.max(x)-1) == 1)\n",
    "  testFoldPredRF = c(testFoldPredRF, (predict(rf, newdata=emailDFnum[foldIdx,]) == 1))\n",
    "  testFoldSpam = c(testFoldSpam, emailDF[foldIdx,'isSpam'])\n",
    "}\n",
    "\n",
    "#expand the odds and actual labels into matrices, one column for each set of out-of-sample folds\n",
    "testFoldPredNB = matrix(testFoldPredNB, ncol=k)\n",
    "testFoldPredRP = matrix(testFoldPredRP, ncol=k)\n",
    "testFoldPredRF = matrix(testFoldPredRF, ncol=k)\n",
    "testFoldSpam = matrix(testFoldSpam, ncol=k)"
   ]
  },
  {
   "cell_type": "code",
   "execution_count": 117,
   "metadata": {},
   "outputs": [],
   "source": [
    "#now we can calculate all of our metrics for naivebayes and place it in nice matrix format\n",
    "nbcvrates = cbind(\"fold\" = 1:k,\n",
    "              \"method\" = rep(\"naive_bayes\",k),\n",
    "              \"tpr\" = unlist(lapply(1:k, function(i) truePosRate(testFoldPredNB[,i], testFoldSpam[,i]))), \n",
    "              \"fpr\" = unlist(lapply(1:k, function(i) falsePosRate(testFoldPredNB[,i], testFoldSpam[,i]))),\n",
    "              \"prec\" = unlist(lapply(1:k, function(i) precision(testFoldPredNB[,i], testFoldSpam[,i]))),\n",
    "              \"f1\" = unlist(lapply(1:k, function(i) f1score(testFoldPredNB[,i], testFoldSpam[,i]))),\n",
    "              \"acc\" = unlist(lapply(1:k, function(i) accuracy(testFoldPredNB[,i], testFoldSpam[,i]))))\n",
    "rpcvrates = cbind(\"fold\" = 1:k,\n",
    "              \"method\" = rep(\"rpart\",k),\n",
    "              \"tpr\" = unlist(lapply(1:k, function(i) truePosRate(testFoldPredRP[,i], testFoldSpam[,i]))), \n",
    "              \"fpr\" = unlist(lapply(1:k, function(i) falsePosRate(testFoldPredRP[,i], testFoldSpam[,i]))),\n",
    "              \"prec\" = unlist(lapply(1:k, function(i) precision(testFoldPredRP[,i], testFoldSpam[,i]))),\n",
    "              \"f1\" = unlist(lapply(1:k, function(i) f1score(testFoldPredRP[,i], testFoldSpam[,i]))),\n",
    "              \"acc\" = unlist(lapply(1:k, function(i) accuracy(testFoldPredRP[,i], testFoldSpam[,i]))))\n",
    "rfcvrates = cbind(\"fold\" = 1:k,\n",
    "              \"method\" = rep(\"randomForest\",k),\n",
    "              \"tpr\" = unlist(lapply(1:k, function(i) truePosRate(testFoldPredRF[,i], testFoldSpam[,i]))), \n",
    "              \"fpr\" = unlist(lapply(1:k, function(i) falsePosRate(testFoldPredRF[,i], testFoldSpam[,i]))),\n",
    "              \"prec\" = unlist(lapply(1:k, function(i) precision(testFoldPredRF[,i], testFoldSpam[,i]))),\n",
    "              \"f1\" = unlist(lapply(1:k, function(i) f1score(testFoldPredRF[,i], testFoldSpam[,i]))),\n",
    "              \"acc\" = unlist(lapply(1:k, function(i) accuracy(testFoldPredRF[,i], testFoldSpam[,i]))))\n",
    "cvrates = rbind(cvratesNBbow, nbcvrates, rpcvrates, rfcvrates)"
   ]
  },
  {
   "cell_type": "code",
   "execution_count": 118,
   "metadata": {},
   "outputs": [],
   "source": [
    "#this will put \"method\" as the first column\n",
    "cvrates = as.matrix(merge(cvrates, cbind(\"method\"=unique(cvrates[,2]),\"num_method\"=c(1,2,3,4))))"
   ]
  },
  {
   "cell_type": "code",
   "execution_count": 134,
   "metadata": {},
   "outputs": [
    {
     "data": {
      "image/png": "[encoded data removed]",
      "text/plain": [
       "Plot with title \"Receiver Operating Characteristic\""
      ]
     },
     "metadata": {},
     "output_type": "display_data"
    }
   ],
   "source": [
    "plot(cvrates[,4], cvrates[,3], ylim=c(0,1), xlim=c(0,1), pch=as.integer(cvrates[,8]), col=cvrates[,8],\n",
    "     xlab=\"False Positive Rate\", ylab=\"True Positive Rate\", main=\"Receiver Operating Characteristic\")\n",
    "abline(0, 1, lty=5, col=\"red\")\n",
    "legend(0.7, 0.2, legend=unique(cvrates[,1]),\n",
    "       col=as.integer(unique(cvrates[,8])), pch=as.integer(unique(cvrates[,8])), cex=0.8)\n",
    "# plot(cvrates[,4], cvrates[,3], pch=as.integer(cvrates[,8]), col=cvrates[,8],\n",
    "#      xlab=\"False Positive Rate\", ylab=\"True Positive Rate\", main=\"Receiver Operating Characteristic\")\n",
    "# legend(0.05, 0.97, legend=unique(cvrates[,1]),\n",
    "#        col=as.integer(unique(cvrates[,8])), pch=as.integer(unique(cvrates[,8])), cex=0.8)"
   ]
  },
  {
   "cell_type": "markdown",
   "metadata": {},
   "source": [
    "So using naive Bayes outside of the bag-of-words framework is not so great."
   ]
  },
  {
   "cell_type": "markdown",
   "metadata": {
    "collapsed": true
   },
   "source": [
    "## Results\n"
   ]
  },
  {
   "cell_type": "markdown",
   "metadata": {},
   "source": [
    "## Conclusion\n"
   ]
  },
  {
   "cell_type": "markdown",
   "metadata": {},
   "source": [
    "## References"
   ]
  }
 ],
 "metadata": {
  "kernelspec": {
   "display_name": "R",
   "language": "R",
   "name": "ir"
  },
  "language_info": {
   "codemirror_mode": "r",
   "file_extension": ".r",
   "mimetype": "text/x-r-source",
   "name": "R",
   "pygments_lexer": "r",
   "version": "3.4.3"
  }
 },
 "nbformat": 4,
 "nbformat_minor": 2
}
