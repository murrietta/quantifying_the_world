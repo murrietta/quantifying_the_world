{
 "cells": [
  {
   "cell_type": "markdown",
   "metadata": {},
   "source": [
    "# Statistical Approach to Spam Identification\n",
    "Getting up and running with R and the spamassassin email corpus downloaded from http://spamassassin.apache.org/old/publiccorpus/. Classifying using Naive Bayes and Recursive Partitioning and Classification Trees. Code is from chapter 3 of Deborah Nolan and Duncan Temple Lang's book \"Data Science in R: A Case Studies Approach to Computational Reasoning and Problem Solving\"."
   ]
  },
  {
   "cell_type": "markdown",
   "metadata": {},
   "source": [
    "#### Getting the data into R"
   ]
  },
  {
   "cell_type": "code",
   "execution_count": 15,
   "metadata": {
    "collapsed": true
   },
   "outputs": [],
   "source": [
    "# spamPath = system.file(package = \"RSpamData\")\n",
    "spamPath = \"./data\""
   ]
  },
  {
   "cell_type": "code",
   "execution_count": 16,
   "metadata": {},
   "outputs": [
    {
     "data": {
      "text/html": [
       "<ol class=list-inline>\n",
       "\t<li>''</li>\n",
       "\t<li>'messages'</li>\n",
       "\t<li>'messages/easy_ham'</li>\n",
       "\t<li>'messages/easy_ham_2'</li>\n",
       "\t<li>'messages/hard_ham'</li>\n",
       "\t<li>'messages/spam'</li>\n",
       "\t<li>'messages/spam_2'</li>\n",
       "</ol>\n"
      ],
      "text/latex": [
       "\\begin{enumerate*}\n",
       "\\item ''\n",
       "\\item 'messages'\n",
       "\\item 'messages/easy\\_ham'\n",
       "\\item 'messages/easy\\_ham\\_2'\n",
       "\\item 'messages/hard\\_ham'\n",
       "\\item 'messages/spam'\n",
       "\\item 'messages/spam\\_2'\n",
       "\\end{enumerate*}\n"
      ],
      "text/markdown": [
       "1. ''\n",
       "2. 'messages'\n",
       "3. 'messages/easy_ham'\n",
       "4. 'messages/easy_ham_2'\n",
       "5. 'messages/hard_ham'\n",
       "6. 'messages/spam'\n",
       "7. 'messages/spam_2'\n",
       "\n",
       "\n"
      ],
      "text/plain": [
       "[1] \"\"                    \"messages\"            \"messages/easy_ham\"  \n",
       "[4] \"messages/easy_ham_2\" \"messages/hard_ham\"   \"messages/spam\"      \n",
       "[7] \"messages/spam_2\"    "
      ]
     },
     "metadata": {},
     "output_type": "display_data"
    }
   ],
   "source": [
    "list.dirs(spamPath, full.names = FALSE)"
   ]
  },
  {
   "cell_type": "code",
   "execution_count": 17,
   "metadata": {},
   "outputs": [
    {
     "data": {
      "text/html": [
       "<ol class=list-inline>\n",
       "\t<li>'00001.317e78fa8ee2f54cd4890fdc09ba8176'</li>\n",
       "\t<li>'00002.9438920e9a55591b18e60d1ed37d992b'</li>\n",
       "\t<li>'00003.590eff932f8704d8b0fcbe69d023b54d'</li>\n",
       "\t<li>'00004.bdcc075fa4beb5157b5dd6cd41d8887b'</li>\n",
       "\t<li>'00005.ed0aba4d386c5e62bc737cf3f0ed9589'</li>\n",
       "\t<li>'00006.3ca1f399ccda5d897fecb8c57669a283'</li>\n",
       "</ol>\n"
      ],
      "text/latex": [
       "\\begin{enumerate*}\n",
       "\\item '00001.317e78fa8ee2f54cd4890fdc09ba8176'\n",
       "\\item '00002.9438920e9a55591b18e60d1ed37d992b'\n",
       "\\item '00003.590eff932f8704d8b0fcbe69d023b54d'\n",
       "\\item '00004.bdcc075fa4beb5157b5dd6cd41d8887b'\n",
       "\\item '00005.ed0aba4d386c5e62bc737cf3f0ed9589'\n",
       "\\item '00006.3ca1f399ccda5d897fecb8c57669a283'\n",
       "\\end{enumerate*}\n"
      ],
      "text/markdown": [
       "1. '00001.317e78fa8ee2f54cd4890fdc09ba8176'\n",
       "2. '00002.9438920e9a55591b18e60d1ed37d992b'\n",
       "3. '00003.590eff932f8704d8b0fcbe69d023b54d'\n",
       "4. '00004.bdcc075fa4beb5157b5dd6cd41d8887b'\n",
       "5. '00005.ed0aba4d386c5e62bc737cf3f0ed9589'\n",
       "6. '00006.3ca1f399ccda5d897fecb8c57669a283'\n",
       "\n",
       "\n"
      ],
      "text/plain": [
       "[1] \"00001.317e78fa8ee2f54cd4890fdc09ba8176\"\n",
       "[2] \"00002.9438920e9a55591b18e60d1ed37d992b\"\n",
       "[3] \"00003.590eff932f8704d8b0fcbe69d023b54d\"\n",
       "[4] \"00004.bdcc075fa4beb5157b5dd6cd41d8887b\"\n",
       "[5] \"00005.ed0aba4d386c5e62bc737cf3f0ed9589\"\n",
       "[6] \"00006.3ca1f399ccda5d897fecb8c57669a283\""
      ]
     },
     "metadata": {},
     "output_type": "display_data"
    }
   ],
   "source": [
    "head(list.files(path = paste(spamPath, \"messages\", \"spam_2\", sep = .Platform$file.sep)))"
   ]
  },
  {
   "cell_type": "code",
   "execution_count": 18,
   "metadata": {},
   "outputs": [
    {
     "data": {
      "text/html": [
       "9353"
      ],
      "text/latex": [
       "9353"
      ],
      "text/markdown": [
       "9353"
      ],
      "text/plain": [
       "[1] 9353"
      ]
     },
     "metadata": {},
     "output_type": "display_data"
    }
   ],
   "source": [
    "dirNames = list.files(path = paste(spamPath, \"messages\",\n",
    "                      sep = .Platform$file.sep))\n",
    "length(list.files(paste(spamPath, \"messages\", dirNames,\n",
    "                        sep = .Platform$file.sep)))"
   ]
  },
  {
   "cell_type": "code",
   "execution_count": 19,
   "metadata": {},
   "outputs": [
    {
     "data": {
      "text/html": [
       "<dl class=dl-horizontal>\n",
       "\t<dt>./data/messages/easy_ham</dt>\n",
       "\t\t<dd>5052</dd>\n",
       "\t<dt>./data/messages/easy_ham_2</dt>\n",
       "\t\t<dd>1401</dd>\n",
       "\t<dt>./data/messages/hard_ham</dt>\n",
       "\t\t<dd>501</dd>\n",
       "\t<dt>./data/messages/spam</dt>\n",
       "\t\t<dd>1001</dd>\n",
       "\t<dt>./data/messages/spam_2</dt>\n",
       "\t\t<dd>1398</dd>\n",
       "</dl>\n"
      ],
      "text/latex": [
       "\\begin{description*}\n",
       "\\item[./data/messages/easy\\textbackslash{}\\_ham] 5052\n",
       "\\item[./data/messages/easy\\textbackslash{}\\_ham\\textbackslash{}\\_2] 1401\n",
       "\\item[./data/messages/hard\\textbackslash{}\\_ham] 501\n",
       "\\item[./data/messages/spam] 1001\n",
       "\\item[./data/messages/spam\\textbackslash{}\\_2] 1398\n",
       "\\end{description*}\n"
      ],
      "text/markdown": [
       "./data/messages/easy_ham\n",
       ":   5052./data/messages/easy_ham_2\n",
       ":   1401./data/messages/hard_ham\n",
       ":   501./data/messages/spam\n",
       ":   1001./data/messages/spam_2\n",
       ":   1398\n",
       "\n"
      ],
      "text/plain": [
       "  ./data/messages/easy_ham ./data/messages/easy_ham_2 \n",
       "                      5052                       1401 \n",
       "  ./data/messages/hard_ham       ./data/messages/spam \n",
       "                       501                       1001 \n",
       "    ./data/messages/spam_2 \n",
       "                      1398 "
      ]
     },
     "metadata": {},
     "output_type": "display_data"
    }
   ],
   "source": [
    "sapply(paste(spamPath, \"messages\", dirNames, \n",
    "             sep = .Platform$file.sep), \n",
    "       function(dir) length(list.files(dir)) )"
   ]
  },
  {
   "cell_type": "code",
   "execution_count": 20,
   "metadata": {},
   "outputs": [
    {
     "data": {
      "text/html": [
       "'./data/messages/easy_ham/00001.7c53336b37003a9286aba55d2945844c'"
      ],
      "text/latex": [
       "'./data/messages/easy\\_ham/00001.7c53336b37003a9286aba55d2945844c'"
      ],
      "text/markdown": [
       "'./data/messages/easy_ham/00001.7c53336b37003a9286aba55d2945844c'"
      ],
      "text/plain": [
       "[1] \"./data/messages/easy_ham/00001.7c53336b37003a9286aba55d2945844c\""
      ]
     },
     "metadata": {},
     "output_type": "display_data"
    }
   ],
   "source": [
    "fullDirNames = paste(spamPath, \"messages\", dirNames, \n",
    "                     sep = .Platform$file.sep)\n",
    "\n",
    "fileNames = list.files(fullDirNames[1], full.names = TRUE)\n",
    "fileNames[1]"
   ]
  },
  {
   "cell_type": "code",
   "execution_count": 21,
   "metadata": {},
   "outputs": [
    {
     "name": "stdout",
     "output_type": "stream",
     "text": [
      "[1] \"From exmh-workers-admin@redhat.com  Thu Aug 22 12:36:23 2002\"     \n",
      "[2] \"Return-Path: <exmh-workers-admin@spamassassin.taint.org>\"         \n",
      "[3] \"Delivered-To: zzzz@localhost.netnoteinc.com\"                      \n",
      "[4] \"Received: from localhost (localhost [127.0.0.1])\"                 \n",
      "[5] \"\\tby phobos.labs.netnoteinc.com (Postfix) with ESMTP id D03E543C36\"\n",
      "[6] \"\\tfor <zzzz@localhost>; Thu, 22 Aug 2002 07:36:16 -0400 (EDT)\"     \n"
     ]
    }
   ],
   "source": [
    "msg = readLines(fileNames[1])\n",
    "print(head(msg))"
   ]
  },
  {
   "cell_type": "code",
   "execution_count": 22,
   "metadata": {
    "collapsed": true
   },
   "outputs": [],
   "source": [
    "#getting a subset of emails to aid in the development of email handling procedures\n",
    "indx = c(1:5, 15, 27, 68, 69, 329, 404, 427, 516, 852, 971)\n",
    "fn = list.files(fullDirNames[1], full.names = TRUE)[indx]\n",
    "sampleEmail = sapply(fn, readLines)"
   ]
  },
  {
   "cell_type": "markdown",
   "metadata": {},
   "source": [
    "#### Text Mining and Naive Bayes Classification\n",
    "We'll follow the bag of words method to allow us to compute log-likelihood estimates using the naive Bayes' approach."
   ]
  },
  {
   "cell_type": "markdown",
   "metadata": {},
   "source": [
    "#### Implementing Bag of Words in R on our corpus"
   ]
  },
  {
   "cell_type": "code",
   "execution_count": 23,
   "metadata": {},
   "outputs": [
    {
     "data": {
      "text/html": [
       "63"
      ],
      "text/latex": [
       "63"
      ],
      "text/markdown": [
       "63"
      ],
      "text/plain": [
       "[1] 63"
      ]
     },
     "metadata": {},
     "output_type": "display_data"
    }
   ],
   "source": [
    "msg = sampleEmail[[1]]\n",
    "which(msg == \"\")[1]"
   ]
  },
  {
   "cell_type": "code",
   "execution_count": 24,
   "metadata": {},
   "outputs": [
    {
     "data": {
      "text/html": [
       "63"
      ],
      "text/latex": [
       "63"
      ],
      "text/markdown": [
       "63"
      ],
      "text/plain": [
       "[1] 63"
      ]
     },
     "metadata": {},
     "output_type": "display_data"
    }
   ],
   "source": [
    "match(\"\", msg)"
   ]
  },
  {
   "cell_type": "code",
   "execution_count": 25,
   "metadata": {},
   "outputs": [
    {
     "name": "stdout",
     "output_type": "stream",
     "text": [
      "[1] \"List-Archive: <https://listman.spamassassin.taint.org/mailman/private/exmh-workers/>\"\n",
      "[2] \"Date: Thu, 22 Aug 2002 18:26:25 +0700\"                                               \n",
      "[3] \"\"                                                                                    \n",
      "[4] \"    Date:        Wed, 21 Aug 2002 10:54:46 -0500\"                                    \n",
      "[5] \"    From:        Chris Garrigues <cwg-dated-1030377287.06fa6d@DeepEddy.Com>\"         \n",
      "[6] \"    Message-ID:  <1029945287.4797.TMDA@deepeddy.vircio.com>\"                         \n",
      "[7] \"\"                                                                                    \n",
      "[8] \"\"                                                                                    \n",
      "[9] \"  | I can't reproduce this error.\"                                                   \n"
     ]
    }
   ],
   "source": [
    "splitPoint = match(\"\", msg)\n",
    "\n",
    "print(msg[ (splitPoint - 2):(splitPoint + 6) ])"
   ]
  },
  {
   "cell_type": "code",
   "execution_count": 26,
   "metadata": {
    "collapsed": true
   },
   "outputs": [],
   "source": [
    "header = msg[1:(splitPoint-1)]\n",
    "body = msg[ -(1:splitPoint) ]"
   ]
  },
  {
   "cell_type": "code",
   "execution_count": 27,
   "metadata": {
    "collapsed": true
   },
   "outputs": [],
   "source": [
    "splitMessage = function(msg) {\n",
    "  splitPoint = match(\"\", msg)\n",
    "  header = msg[1:(splitPoint-1)]\n",
    "  body = msg[ -(1:splitPoint) ]\n",
    "  return(list(header = header, body = body))\n",
    "}"
   ]
  },
  {
   "cell_type": "code",
   "execution_count": 28,
   "metadata": {
    "collapsed": true
   },
   "outputs": [],
   "source": [
    "sampleSplit = lapply(sampleEmail, splitMessage)"
   ]
  },
  {
   "cell_type": "code",
   "execution_count": 29,
   "metadata": {},
   "outputs": [
    {
     "data": {
      "text/html": [
       "46"
      ],
      "text/latex": [
       "46"
      ],
      "text/markdown": [
       "46"
      ],
      "text/plain": [
       "[1] 46"
      ]
     },
     "metadata": {},
     "output_type": "display_data"
    }
   ],
   "source": [
    "header = sampleSplit[[1]]$header\n",
    "grep(\"Content-Type\", header)"
   ]
  },
  {
   "cell_type": "code",
   "execution_count": 30,
   "metadata": {},
   "outputs": [
    {
     "name": "stdout",
     "output_type": "stream",
     "text": [
      "integer(0)\n"
     ]
    }
   ],
   "source": [
    "#checking for attachments. i.e. if content type is \"multipart\"\n",
    "print(grep(\"multi\", tolower(header[46])))"
   ]
  },
  {
   "cell_type": "code",
   "execution_count": 31,
   "metadata": {},
   "outputs": [
    {
     "data": {
      "text/html": [
       "'Content-Type: text/plain; charset=us-ascii'"
      ],
      "text/latex": [
       "'Content-Type: text/plain; charset=us-ascii'"
      ],
      "text/markdown": [
       "'Content-Type: text/plain; charset=us-ascii'"
      ],
      "text/plain": [
       "[1] \"Content-Type: text/plain; charset=us-ascii\""
      ]
     },
     "metadata": {},
     "output_type": "display_data"
    }
   ],
   "source": [
    "header[46]"
   ]
  },
  {
   "cell_type": "code",
   "execution_count": 32,
   "metadata": {
    "scrolled": true
   },
   "outputs": [
    {
     "name": "stdout",
     "output_type": "stream",
     "text": [
      "$`./data/messages/easy_ham/00001.7c53336b37003a9286aba55d2945844c`\n",
      "[1] 46\n",
      "\n",
      "$`./data/messages/easy_ham/00014.cb20e10b2bfcb8210a1c310798532a57`\n",
      "[1] 54\n",
      "\n",
      "$`./data/messages/easy_ham/00025.d685245bdc4444f44fa091e6620b20b3`\n",
      "integer(0)\n",
      "\n"
     ]
    }
   ],
   "source": [
    "headerList = lapply(sampleSplit, function(msg) msg$header)\n",
    "CTloc = sapply(headerList, grep, pattern = \"Content-Type\")\n",
    "print(CTloc[c(1,6,7)])"
   ]
  },
  {
   "cell_type": "code",
   "execution_count": 33,
   "metadata": {},
   "outputs": [
    {
     "name": "stdout",
     "output_type": "stream",
     "text": [
      "./data/messages/easy_ham/00001.7c53336b37003a9286aba55d2945844c \n",
      "                                                             46 \n",
      "./data/messages/easy_ham/00002.9c4069e25e1ef370c078db7ee85ff9ac \n",
      "                                                             45 \n",
      "./data/messages/easy_ham/00003.860e3c3cee1b42ead714c5c874fe25f7 \n",
      "                                                             42 \n",
      "./data/messages/easy_ham/00004.864220c5b6930b209cc287c361c99af1 \n",
      "                                                             30 \n",
      "./data/messages/easy_ham/00005.bf27cdeaf0b8c4647ecd61b1d09da613 \n",
      "                                                             44 \n",
      "./data/messages/easy_ham/00014.cb20e10b2bfcb8210a1c310798532a57 \n",
      "                                                             54 \n",
      "./data/messages/easy_ham/00025.d685245bdc4444f44fa091e6620b20b3 \n",
      "                                                             NA \n",
      "./data/messages/easy_ham/00062.009f5a1a8fa88f0b38299ad01562bb37 \n",
      "                                                             21 \n",
      "./data/messages/easy_ham/00063.0acbc484a73f0e0b727e06c100d8df7b \n",
      "                                                             17 \n",
      " ./data/messages/easy_ham/0030.77828e31de08ebb58b583688b87524cc \n",
      "                                                             52 \n",
      "./data/messages/easy_ham/00368.f86324a03e7ae7070cc40f302385f5d3 \n",
      "                                                             31 \n",
      "./data/messages/easy_ham/00389.8606961eaeef7b921ce1c53773248d69 \n",
      "                                                             52 \n",
      " ./data/messages/easy_ham/0047.5c3e049737a2813d4ac6f13f02362fb1 \n",
      "                                                             52 \n",
      "./data/messages/easy_ham/00775.0e012f373467846510d9db297e99a008 \n",
      "                                                             27 \n",
      "./data/messages/easy_ham/00883.c44a035e7589e83076b7f1fed8fa97d5 \n",
      "                                                             31 \n"
     ]
    }
   ],
   "source": [
    "#item 7 didn't have the Content-Type key so it returned nothing!\n",
    "print(sapply(headerList, function(header) {\n",
    "                       CTloc = grep(\"Content-Type\", header)\n",
    "                       if (length(CTloc) == 0) return(NA)\n",
    "                       CTloc\n",
    "                   }))"
   ]
  },
  {
   "cell_type": "code",
   "execution_count": 34,
   "metadata": {},
   "outputs": [
    {
     "name": "stdout",
     "output_type": "stream",
     "text": [
      "./data/messages/easy_ham/00001.7c53336b37003a9286aba55d2945844c \n",
      "                                                          FALSE \n",
      "./data/messages/easy_ham/00002.9c4069e25e1ef370c078db7ee85ff9ac \n",
      "                                                          FALSE \n",
      "./data/messages/easy_ham/00003.860e3c3cee1b42ead714c5c874fe25f7 \n",
      "                                                          FALSE \n",
      "./data/messages/easy_ham/00004.864220c5b6930b209cc287c361c99af1 \n",
      "                                                          FALSE \n",
      "./data/messages/easy_ham/00005.bf27cdeaf0b8c4647ecd61b1d09da613 \n",
      "                                                          FALSE \n",
      "./data/messages/easy_ham/00014.cb20e10b2bfcb8210a1c310798532a57 \n",
      "                                                           TRUE \n",
      "./data/messages/easy_ham/00025.d685245bdc4444f44fa091e6620b20b3 \n",
      "                                                          FALSE \n",
      "./data/messages/easy_ham/00062.009f5a1a8fa88f0b38299ad01562bb37 \n",
      "                                                           TRUE \n",
      "./data/messages/easy_ham/00063.0acbc484a73f0e0b727e06c100d8df7b \n",
      "                                                           TRUE \n",
      " ./data/messages/easy_ham/0030.77828e31de08ebb58b583688b87524cc \n",
      "                                                           TRUE \n",
      "./data/messages/easy_ham/00368.f86324a03e7ae7070cc40f302385f5d3 \n",
      "                                                           TRUE \n",
      "./data/messages/easy_ham/00389.8606961eaeef7b921ce1c53773248d69 \n",
      "                                                           TRUE \n",
      " ./data/messages/easy_ham/0047.5c3e049737a2813d4ac6f13f02362fb1 \n",
      "                                                           TRUE \n",
      "./data/messages/easy_ham/00775.0e012f373467846510d9db297e99a008 \n",
      "                                                           TRUE \n",
      "./data/messages/easy_ham/00883.c44a035e7589e83076b7f1fed8fa97d5 \n",
      "                                                           TRUE \n"
     ]
    }
   ],
   "source": [
    "hasAttach = sapply(headerList, function(header) {\n",
    "  CTloc = grep(\"Content-Type\", header)\n",
    "  if (length(CTloc) == 0) return(FALSE)\n",
    "  grepl(\"multi\", tolower(header[CTloc])) \n",
    "})\n",
    "\n",
    "print(hasAttach)"
   ]
  },
  {
   "cell_type": "code",
   "execution_count": 35,
   "metadata": {},
   "outputs": [
    {
     "name": "stdout",
     "output_type": "stream",
     "text": [
      "[1] \"    boundary=\\\"==_Exmh_-1317289252P\\\";\"\n"
     ]
    }
   ],
   "source": [
    "header = sampleSplit[[6]]$header\n",
    "boundaryIdx = grep(\"boundary=\", header)\n",
    "print(header[boundaryIdx])"
   ]
  },
  {
   "cell_type": "code",
   "execution_count": 36,
   "metadata": {},
   "outputs": [
    {
     "name": "stdout",
     "output_type": "stream",
     "text": [
      "[1] \"==_Exmh_-1317289252P\"\n"
     ]
    }
   ],
   "source": [
    "print(sub(\".*boundary=\\\"(.*)\\\";.*\", \"\\\\1\", header[boundaryIdx]))"
   ]
  },
  {
   "cell_type": "code",
   "execution_count": 37,
   "metadata": {},
   "outputs": [
    {
     "name": "stdout",
     "output_type": "stream",
     "text": [
      "[1] \"Content-Type: multipart/alternative; boundary=Apple-Mail-2-874629474\"\n"
     ]
    }
   ],
   "source": [
    "header2 = headerList[[9]]\n",
    "boundaryIdx2 = grep(\"boundary=\", header2)\n",
    "print(header2[boundaryIdx2])"
   ]
  },
  {
   "cell_type": "code",
   "execution_count": 38,
   "metadata": {
    "collapsed": true
   },
   "outputs": [],
   "source": [
    "# a bunch of testing out the functionality, skipping it\n",
    "# sub('.*boundary=\"(.*)\";.*', \"\\\\1\", header2[boundaryIdx2])\n",
    "\n",
    "# boundary2 = gsub('\"', \"\", header2[boundaryIdx2])\n",
    "\n",
    "# sub(\".*boundary= *(.*);?.*\", \"\\\\1\", boundary2)\n",
    "\n",
    "# boundary = gsub('\"', \"\", header[boundaryIdx])\n",
    "# sub(\".*boundary= *(.*);?.*\", \"\\\\1\", boundary)\n",
    "\n",
    "# sub(\".*boundary= *([^;]*);?.*\", \"\\\\1\", boundary)\n",
    "\n",
    "getBoundary = function(header) {\n",
    "  boundaryIdx = grep(\"boundary=\", header)\n",
    "  boundary = gsub('\"', \"\", header[boundaryIdx])\n",
    "  gsub(\".*boundary= *([^;]*);?.*\", \"\\\\1\", boundary)\n",
    "}"
   ]
  },
  {
   "cell_type": "code",
   "execution_count": 39,
   "metadata": {},
   "outputs": [
    {
     "name": "stdout",
     "output_type": "stream",
     "text": [
      " [1] \"--==_Exmh_-1317289252P\"                                                           \n",
      " [2] \"Content-Type: text/plain; charset=us-ascii\"                                       \n",
      " [3] \"\"                                                                                 \n",
      " [4] \"> From:  Chris Garrigues <cwg-exmh@DeepEddy.Com>\"                                 \n",
      " [5] \"> Date:  Wed, 21 Aug 2002 10:40:39 -0500\"                                         \n",
      " [6] \">\"                                                                                \n",
      " [7] \"> > From:  Chris Garrigues <cwg-exmh@DeepEddy.Com>\"                               \n",
      " [8] \"> > Date:  Wed, 21 Aug 2002 10:17:45 -0500\"                                       \n",
      " [9] \"> >\"                                                                              \n",
      "[10] \"> > Ouch...I'll get right on it.\"                                                 \n",
      "[11] \"> > \"                                                                             \n",
      "[12] \"> > > From:  Robert Elz <kre@munnari.OZ.AU>\"                                      \n",
      "[13] \"> > > Date:  Wed, 21 Aug 2002 19:30:01 +0700\"                                     \n",
      "[14] \"> > >\"                                                                            \n",
      "[15] \"> > > Any chance of having that lengthen instead?   I like all my exmh stuff\"     \n",
      "[16] \"> > > in nice columns (fits the display better).   That is, I use the detache\"    \n",
      "[17] \"> d\"                                                                              \n",
      "[18] \"> > > folder list, one column.   The main exmh window takes up full screen,\"      \n",
      "[19] \"> > > top to bottom, but less than half the width, etc...\"                        \n",
      "[20] \"> \"                                                                               \n",
      "[21] \"> I thought about that.  The first order approximation would be to just add \"     \n",
      "[22] \"> using pack .... -side top instead of pack ... -side left, however, since their \"\n",
      "[23] \"> each a different width, it would look funny.\"                                   \n",
      "[24] \"\"                                                                                 \n",
      "[25] \"I've done this.  It's not as pretty as I think it should be, but it works.  \"     \n",
      "[26] \"I'm going to leave the cosmetic issues to others.  When I update the \"            \n",
      "[27] \"documentation, I'll add this to the exmh.TODO file.\"                              \n",
      "[28] \"\"                                                                                 \n",
      "[29] \"I'm leaving for a 2 1/2 week vacation in a week, so this is the last new \"        \n",
      "[30] \"functionality I'm going to add for a while.  Also, I now have pretty much \"       \n",
      "[31] \"everything in there that I want for my own use, so I'm probably pretty much \"     \n",
      "[32] \"done.  I'll work on bug fixes and documentation before my vacation, and \"         \n",
      "[33] \"hopefully do nothing more afterwards.\"                                            \n",
      "[34] \"\"                                                                                 \n",
      "[35] \"Chris\"                                                                            \n",
      "[36] \"\"                                                                                 \n",
      "[37] \"-- \"                                                                              \n",
      "[38] \"Chris Garrigues                 http://www.DeepEddy.Com/~cwg/\"                    \n",
      "[39] \"virCIO                          http://www.virCIO.Com\"                            \n",
      "[40] \"716 Congress, Suite 200\"                                                          \n",
      "[41] \"Austin, TX  78701\\t\\t+1 512 374 0500\"                                               \n",
      "[42] \"\"                                                                                 \n",
      "[43] \"  World War III:  The Wrong-Doers Vs. the Evil-Doers.\"                            \n",
      "[44] \"\"                                                                                 \n",
      "[45] \"\"                                                                                 \n",
      "[46] \"\"                                                                                 \n",
      "[47] \"\"                                                                                 \n",
      "[48] \"--==_Exmh_-1317289252P\"                                                           \n",
      "[49] \"Content-Type: application/pgp-signature\"                                          \n",
      "[50] \"\"                                                                                 \n",
      "[51] \"-----BEGIN PGP SIGNATURE-----\"                                                    \n",
      "[52] \"Version: GnuPG v1.0.6 (GNU/Linux)\"                                                \n",
      "[53] \"Comment: Exmh version 2.2_20000822 06/23/2000\"                                    \n",
      "[54] \"\"                                                                                 \n",
      "[55] \"iD8DBQE9ZQJ/K9b4h5R0IUIRAiPuAJwL4mUus5whLNQZC8MsDlGpEdKNrACcDfZH\"                 \n",
      "[56] \"PcGgN9frLIM+C5Z3vagi2wE=\"                                                         \n",
      "[57] \"=qJoJ\"                                                                            \n",
      "[58] \"-----END PGP SIGNATURE-----\"                                                      \n",
      "[59] \"\"                                                                                 \n",
      "[60] \"--==_Exmh_-1317289252P--\"                                                         \n",
      "[61] \"\"                                                                                 \n",
      "[62] \"\"                                                                                 \n",
      "[63] \"\"                                                                                 \n",
      "[64] \"_______________________________________________\"                                  \n",
      "[65] \"Exmh-workers mailing list\"                                                        \n",
      "[66] \"Exmh-workers@redhat.com\"                                                          \n",
      "[67] \"https://listman.redhat.com/mailman/listinfo/exmh-workers\"                         \n",
      "[68] \"\"                                                                                 \n"
     ]
    }
   ],
   "source": [
    "#print out the body of a sample message\n",
    "print(sampleSplit[[6]]$body)"
   ]
  },
  {
   "cell_type": "code",
   "execution_count": 40,
   "metadata": {},
   "outputs": [
    {
     "name": "stdout",
     "output_type": "stream",
     "text": [
      "[1]  2 35\n"
     ]
    }
   ],
   "source": [
    "boundary = getBoundary(headerList[[15]]) \n",
    "body = sampleSplit[[15]]$body\n",
    "bString = paste(\"--\", boundary, sep = \"\")\n",
    "bStringLocs = which(bString == body)\n",
    "print(bStringLocs)"
   ]
  },
  {
   "cell_type": "code",
   "execution_count": 41,
   "metadata": {},
   "outputs": [
    {
     "name": "stdout",
     "output_type": "stream",
     "text": [
      "[1] 77\n"
     ]
    }
   ],
   "source": [
    "eString = paste(\"--\", boundary, \"--\", sep = \"\")\n",
    "eStringLoc = which(eString == body)\n",
    "print(eStringLoc)"
   ]
  },
  {
   "cell_type": "code",
   "execution_count": 42,
   "metadata": {},
   "outputs": [
    {
     "name": "stdout",
     "output_type": "stream",
     "text": [
      "[1] \">\"     \">Yuck\" \">  \"   \">\"     \"\"      \"\"     \n"
     ]
    }
   ],
   "source": [
    "msg = body[ (bStringLocs[1] + 1) : (bStringLocs[2] - 1)]\n",
    "print(tail(msg))"
   ]
  },
  {
   "cell_type": "code",
   "execution_count": 43,
   "metadata": {},
   "outputs": [
    {
     "name": "stdout",
     "output_type": "stream",
     "text": [
      "[1] \">  \" \">\"   \"\"    \"\"    \"\"    \"\"   \n"
     ]
    }
   ],
   "source": [
    "msg = c(msg, body[ (eStringLoc + 1) : length(body) ])\n",
    "print(tail(msg))"
   ]
  },
  {
   "cell_type": "code",
   "execution_count": 44,
   "metadata": {
    "collapsed": true
   },
   "outputs": [],
   "source": [
    "dropAttach = function(body, boundary){\n",
    "  \n",
    "  bString = paste(\"--\", boundary, sep = \"\")\n",
    "  bStringLocs = which(bString == body)\n",
    "  \n",
    "  if (length(bStringLocs) <= 1) return(body)\n",
    "  \n",
    "  eString = paste(\"--\", boundary, \"--\", sep = \"\")\n",
    "  eStringLoc = which(eString == body)\n",
    "  if (length(eStringLoc) == 0) \n",
    "    return(body[ (bStringLocs[1] + 1) : (bStringLocs[2] - 1)])\n",
    "  \n",
    "  n = length(body)\n",
    "  if (eStringLoc < n) \n",
    "     return( body[ c( (bStringLocs[1] + 1) : (bStringLocs[2] - 1), \n",
    "                    ( (eStringLoc + 1) : n )) ] )\n",
    "  \n",
    "  return( body[ (bStringLocs[1] + 1) : (bStringLocs[2] - 1) ])\n",
    "}"
   ]
  },
  {
   "cell_type": "code",
   "execution_count": 45,
   "metadata": {},
   "outputs": [
    {
     "name": "stdout",
     "output_type": "stream",
     "text": [
      "[1] \"    Date:        Wed, 21 Aug 2002 10:54:46 -0500\"                           \n",
      "[2] \"    From:        Chris Garrigues <cwg-dated-1030377287.06fa6d@DeepEddy.Com>\"\n",
      "[3] \"    Message-ID:  <1029945287.4797.TMDA@deepeddy.vircio.com>\"                \n",
      "[4] \"\"                                                                           \n",
      "[5] \"\"                                                                           \n",
      "[6] \"  | I can't reproduce this error.\"                                          \n"
     ]
    }
   ],
   "source": [
    "print(head(sampleSplit[[1]]$body))"
   ]
  },
  {
   "cell_type": "code",
   "execution_count": 46,
   "metadata": {},
   "outputs": [
    {
     "name": "stdout",
     "output_type": "stream",
     "text": [
      "[1] \"Man Threatens Explosion In Moscow \"                                        \n",
      "[2] \"\"                                                                          \n",
      "[3] \"Thursday August 22, 2002 1:40 PM\"                                          \n",
      "[4] \"MOSCOW (AP) - Security officers on Thursday seized an unidentified man who\"\n",
      "[5] \"said he was armed with explosives and threatened to blow up his truck in\"  \n",
      "[6] \"front of Russia's Federal Security Services headquarters in Moscow, NTV\"   \n"
     ]
    }
   ],
   "source": [
    "msg = sampleSplit[[3]]$body\n",
    "print(head(msg))"
   ]
  },
  {
   "cell_type": "code",
   "execution_count": 47,
   "metadata": {},
   "outputs": [
    {
     "name": "stdout",
     "output_type": "stream",
     "text": [
      "[1] \"Man Threatens Explosion In Moscow \"                      \n",
      "[2] \"Thursday August 22, 2002 1:40 PM\"                        \n",
      "[3] \"4 DVDs Free +s&p Join Now\"                               \n",
      "[4] \"http://us.click.yahoo.com/pt6YBB/NXiEAA/mG3HAA/7gSolB/TM\"\n"
     ]
    }
   ],
   "source": [
    "print(msg[ c(1, 3, 26, 27) ])"
   ]
  },
  {
   "cell_type": "code",
   "execution_count": 48,
   "metadata": {},
   "outputs": [
    {
     "name": "stdout",
     "output_type": "stream",
     "text": [
      "[1] \"man threatens explosion in moscow \"                   \n",
      "[2] \"thursday august pm\"                                   \n",
      "[3] \" dvds free s p join now\"                              \n",
      "[4] \"http us click yahoo com pt ybb nxieaa mg haa gsolb tm\"\n"
     ]
    }
   ],
   "source": [
    "cleanMsg = tolower(gsub(\"[[:punct:]0-9[:blank:]]+\", \" \", msg))\n",
    "print(cleanMsg[ c(1, 3, 26, 27) ])"
   ]
  },
  {
   "cell_type": "code",
   "execution_count": 49,
   "metadata": {},
   "outputs": [
    {
     "name": "stderr",
     "output_type": "stream",
     "text": [
      "Loading required package: NLP\n"
     ]
    }
   ],
   "source": [
    "library(tm)\n",
    "stopWords = stopwords()\n",
    "cleanSW = tolower(gsub(\"[[:punct:]0-9[:blank:]]+\", \" \", stopWords))\n",
    "SWords = unlist(strsplit(cleanSW, \"[[:blank:]]+\"))\n",
    "SWords = SWords[ nchar(SWords) > 1 ]\n",
    "stopWords = unique(SWords)"
   ]
  },
  {
   "cell_type": "code",
   "execution_count": 50,
   "metadata": {},
   "outputs": [
    {
     "name": "stdout",
     "output_type": "stream",
     "text": [
      "[1] \"man\"       \"threatens\" \"explosion\" \"moscow\"    \"thursday\"  \"august\"   \n"
     ]
    }
   ],
   "source": [
    "words = unlist(strsplit(cleanMsg, \"[[:blank:]]+\"))\n",
    "\n",
    "words = words[ nchar(words) > 1 ]\n",
    "\n",
    "words = words[ !( words %in% stopWords) ]\n",
    "print(head(words))"
   ]
  },
  {
   "cell_type": "code",
   "execution_count": 51,
   "metadata": {
    "collapsed": true
   },
   "outputs": [],
   "source": [
    "cleanText =\n",
    "function(msg)   {\n",
    "  tolower(gsub(\"[[:punct:]0-9[:space:][:blank:]]+\", \" \", msg))\n",
    "}\n",
    "\n",
    "findMsgWords = \n",
    "function(msg, stopWords) {\n",
    " if(is.null(msg))\n",
    "  return(character())\n",
    "\n",
    " words = unique(unlist(strsplit(cleanText(msg), \"[[:blank:]\\t]+\")))\n",
    " \n",
    " # drop empty and 1 letter words\n",
    " words = words[ nchar(words) > 1]\n",
    " words = words[ !( words %in% stopWords) ]\n",
    " invisible(words)\n",
    "}\n",
    "\n",
    "processAllWords = function(dirName, stopWords)\n",
    "{\n",
    "       # read all files in the directory\n",
    "  fileNames = list.files(dirName, full.names = TRUE)\n",
    "       # drop files that are not email, i.e., cmds\n",
    "  notEmail = grep(\"cmds$\", fileNames)\n",
    "  if ( length(notEmail) > 0) fileNames = fileNames[ - notEmail ]\n",
    "\n",
    "  messages = lapply(fileNames, readLines, encoding = \"latin1\")\n",
    "  \n",
    "       # split header and body\n",
    "  emailSplit = lapply(messages, splitMessage)\n",
    "       # put body and header in own lists\n",
    "  bodyList = lapply(emailSplit, function(msg) msg$body)\n",
    "  headerList = lapply(emailSplit, function(msg) msg$header)\n",
    "  rm(emailSplit)\n",
    "  \n",
    "       # determine which messages have attachments\n",
    "  hasAttach = sapply(headerList, function(header) {\n",
    "    CTloc = grep(\"Content-Type\", header)\n",
    "    if (length(CTloc) == 0) return(0)\n",
    "    multi = grep(\"multi\", tolower(header[CTloc])) \n",
    "    if (length(multi) == 0) return(0)\n",
    "    multi\n",
    "  })\n",
    "  \n",
    "  hasAttach = which(hasAttach > 0)\n",
    "  \n",
    "       # find boundary strings for messages with attachments\n",
    "  boundaries = sapply(headerList[hasAttach], getBoundary)\n",
    "  \n",
    "       # drop attachments from message body\n",
    "  bodyList[hasAttach] = mapply(dropAttach, bodyList[hasAttach], \n",
    "                               boundaries, SIMPLIFY = FALSE)\n",
    "  \n",
    "       # extract words from body\n",
    "  msgWordsList = lapply(bodyList, findMsgWords, stopWords)\n",
    "  \n",
    "  invisible(msgWordsList)\n",
    "}"
   ]
  },
  {
   "cell_type": "code",
   "execution_count": 52,
   "metadata": {},
   "outputs": [
    {
     "name": "stderr",
     "output_type": "stream",
     "text": [
      "Warning message in FUN(X[[i]], ...):\n",
      "\"incomplete final line found on './data/messages/hard_ham/00228.0eaef7857bbbf3ebf5edbbdae2b30493'\"Warning message in FUN(X[[i]], ...):\n",
      "\"incomplete final line found on './data/messages/hard_ham/0231.7c6cc716ce3f3bfad7130dd3c8d7b072'\"Warning message in FUN(X[[i]], ...):\n",
      "\"incomplete final line found on './data/messages/hard_ham/0250.7c6cc716ce3f3bfad7130dd3c8d7b072'\"Warning message in FUN(X[[i]], ...):\n",
      "\"incomplete final line found on './data/messages/spam/00136.faa39d8e816c70f23b4bb8758d8a74f0'\"Warning message in FUN(X[[i]], ...):\n",
      "\"incomplete final line found on './data/messages/spam/0143.260a940290dcb61f9327b224a368d4af'\""
     ]
    },
    {
     "name": "stdout",
     "output_type": "stream",
     "text": [
      "[1] 5051 1400  500 1000 1397\n"
     ]
    }
   ],
   "source": [
    "msgWordsList = lapply(fullDirNames, processAllWords, \n",
    "                      stopWords = stopWords) \n",
    "\n",
    "#get number of messages in each directory\n",
    "numMsgs = sapply(msgWordsList, length)\n",
    "print(numMsgs)"
   ]
  },
  {
   "cell_type": "code",
   "execution_count": 53,
   "metadata": {
    "collapsed": true
   },
   "outputs": [],
   "source": [
    "#create logical labels for each message based on which folder they are in:\n",
    "#the first 3 are ham the last 2 are spam\n",
    "isSpam = rep(c(FALSE, FALSE, FALSE, TRUE, TRUE), numMsgs)"
   ]
  },
  {
   "cell_type": "code",
   "execution_count": 54,
   "metadata": {
    "collapsed": true
   },
   "outputs": [],
   "source": [
    "#flatten into a single list of msgs\n",
    "msgWordsList = unlist(msgWordsList, recursive = FALSE)"
   ]
  },
  {
   "cell_type": "markdown",
   "metadata": {},
   "source": [
    "#### Implementing Naive Bayes\n",
    "As explained in the text we are approximating the conditional probability below as follows:\n",
    "\n",
    "<center>$\\mathbb{P}\\big(\\text{a word is present }\\big\\vert\\text{ spam}\\big) \\approx \\dfrac{\\text{# of spam messages with this word }+1/2}{\\text{# of spam messages} + 1/2}$</center>\n",
    "\n",
    "and\n",
    "\n",
    "<center>$\\mathbb{P}\\big(\\text{a word is absent }\\big\\vert\\text{ spam}\\big) \\approx \\dfrac{\\text{# of spam messages without this word }+1/2}{\\text{# of spam messages} + 1/2}$</center>\n",
    "\n",
    "We end up taking the log of the ratio of these probabilities to simplify computation (products become sums) and also for some better statistical properties. The log likelihood ratio is computed as:\n",
    "\n",
    "<center>$\\sum\\limits_{\\text{words in a message}}\\text{log}\\mathbb{P}\\big(\\text{word present }\\big\\vert\\text{ spam}\\big) - \\text{log}\\mathbb{P}\\big(\\text{word present }\\big\\vert\\text{ ham}\\big)$</center>\n",
    "<center>$ + \\sum\\limits_{\\text{words not in a message}}\\text{log}\\mathbb{P}\\big(\\text{word absent }\\big\\vert\\text{ spam}\\big) - \\text{log}\\mathbb{P}\\big(\\text{word absent }\\big\\vert\\text{ ham}\\big)$</center>\n",
    "<center>$ + \\text{log}\\mathbb{P}\\big(\\text{spam}\\big) - \\text{log}\\mathbb{P}\\big(\\text{ham}\\big)$</center>\n",
    "\n",
    "Again, we recognize the naivety in that the occurrence of these words in fact is not independent of one another but it has been shown that this simplification still produces decent results."
   ]
  },
  {
   "cell_type": "code",
   "execution_count": 55,
   "metadata": {
    "collapsed": true
   },
   "outputs": [],
   "source": [
    "#tally up number of span and ham to help us know how much to sample from each category\n",
    "numEmail = length(isSpam)\n",
    "numSpam = sum(isSpam)\n",
    "numHam = numEmail - numSpam"
   ]
  },
  {
   "cell_type": "code",
   "execution_count": 56,
   "metadata": {},
   "outputs": [
    {
     "data": {
      "text/html": [
       "0.743581514762516"
      ],
      "text/latex": [
       "0.743581514762516"
      ],
      "text/markdown": [
       "0.743581514762516"
      ],
      "text/plain": [
       "[1] 0.7435815"
      ]
     },
     "metadata": {},
     "output_type": "display_data"
    },
    {
     "data": {
      "text/html": [
       "0.256418485237484"
      ],
      "text/latex": [
       "0.256418485237484"
      ],
      "text/markdown": [
       "0.256418485237484"
      ],
      "text/plain": [
       "[1] 0.2564185"
      ]
     },
     "metadata": {},
     "output_type": "display_data"
    }
   ],
   "source": [
    "#a typical unbalanced problem, may want to maintain relative proportions when sampling\n",
    "numHam/numEmail\n",
    "numSpam/numEmail"
   ]
  },
  {
   "cell_type": "code",
   "execution_count": 57,
   "metadata": {
    "collapsed": true
   },
   "outputs": [],
   "source": [
    "#set seed for reproducibility\n",
    "set.seed(418910)\n",
    "\n",
    "#get indices for spam and ham messages to aid in proportional sampling\n",
    "testSpamIdx = sample(numSpam, size = floor(numSpam/3))\n",
    "testHamIdx = sample(numHam, size = floor(numHam/3))\n",
    "\n",
    "#select based on those test indices\n",
    "testMsgWords = c((msgWordsList[isSpam])[testSpamIdx],\n",
    "                 (msgWordsList[!isSpam])[testHamIdx] )\n",
    "trainMsgWords = c((msgWordsList[isSpam])[ - testSpamIdx], \n",
    "                  (msgWordsList[!isSpam])[ - testHamIdx])\n",
    "\n",
    "testIsSpam = rep(c(TRUE, FALSE), \n",
    "                 c(length(testSpamIdx), length(testHamIdx)))\n",
    "trainIsSpam = rep(c(TRUE, FALSE), \n",
    "                 c(numSpam - length(testSpamIdx), \n",
    "                   numHam - length(testHamIdx)))"
   ]
  },
  {
   "cell_type": "code",
   "execution_count": 58,
   "metadata": {},
   "outputs": [
    {
     "data": {
      "text/html": [
       "80059"
      ],
      "text/latex": [
       "80059"
      ],
      "text/markdown": [
       "80059"
      ],
      "text/plain": [
       "[1] 80059"
      ]
     },
     "metadata": {},
     "output_type": "display_data"
    }
   ],
   "source": [
    "#get our bag of words\n",
    "#keep in mind there are a lot of gibberish words from un-parsed URLs and also\n",
    "#a bunch of repeats that should be stemmed before getting the unique vector\n",
    "#apparently we'll find later that without this cleaning the classifier still\n",
    "#performs well!\n",
    "bow = unique(unlist(trainMsgWords))\n",
    "\n",
    "length(bow)"
   ]
  },
  {
   "cell_type": "code",
   "execution_count": 59,
   "metadata": {
    "collapsed": true
   },
   "outputs": [],
   "source": [
    "#make a vector to hold counts of all words from BOW\n",
    "spamWordCounts = rep(0, length(bow))\n",
    "#name each element for the word it represents in BOW\n",
    "names(spamWordCounts) = bow"
   ]
  },
  {
   "cell_type": "code",
   "execution_count": 60,
   "metadata": {
    "collapsed": true
   },
   "outputs": [],
   "source": [
    "#example, what does this do?\n",
    "tmp = lapply(trainMsgWords[trainIsSpam], unique) #get unique words for each message returned in a list of vectors\n",
    "tt = table( unlist(tmp) ) #make table from unlisted tmp\n",
    "spamWordCounts[ names(tt) ] = tt #add those counts to spamWordCounts in the appropriate rownames"
   ]
  },
  {
   "cell_type": "code",
   "execution_count": 61,
   "metadata": {
    "collapsed": true
   },
   "outputs": [],
   "source": [
    "computeFreqs =\n",
    "function(wordsList, spam, bow = unique(unlist(wordsList)))\n",
    "{\n",
    "   # create a matrix for spam, ham, and log odds\n",
    "  wordTable = matrix(0.5, nrow = 4, ncol = length(bow), \n",
    "                     dimnames = list(c(\"spam\", \"ham\", \n",
    "                                        \"presentLogOdds\", \n",
    "                                        \"absentLogOdds\"),  bow))\n",
    "\n",
    "   # For each spam message, add 1 to counts for words in message\n",
    "  counts.spam = table(unlist(lapply(wordsList[spam], unique)))\n",
    "  wordTable[\"spam\", names(counts.spam)] = counts.spam + .5\n",
    "\n",
    "   # Similarly for ham messages\n",
    "  counts.ham = table(unlist(lapply(wordsList[!spam], unique)))  \n",
    "  wordTable[\"ham\", names(counts.ham)] = counts.ham + .5  \n",
    "\n",
    "\n",
    "   # Find the total number of spam and ham\n",
    "  numSpam = sum(spam)\n",
    "  numHam = length(spam) - numSpam\n",
    "\n",
    "   # Prob(word|spam) and Prob(word | ham)\n",
    "  wordTable[\"spam\", ] = wordTable[\"spam\", ]/(numSpam + .5)\n",
    "  wordTable[\"ham\", ] = wordTable[\"ham\", ]/(numHam + .5)\n",
    "  \n",
    "   # log odds\n",
    "  wordTable[\"presentLogOdds\", ] = \n",
    "     log(wordTable[\"spam\",]) - log(wordTable[\"ham\", ])\n",
    "  wordTable[\"absentLogOdds\", ] = \n",
    "     log((1 - wordTable[\"spam\", ])) - log((1 -wordTable[\"ham\", ]))\n",
    "\n",
    "  invisible(wordTable)\n",
    "}"
   ]
  },
  {
   "cell_type": "code",
   "execution_count": 62,
   "metadata": {
    "collapsed": true
   },
   "outputs": [],
   "source": [
    "trainTable = computeFreqs(trainMsgWords, trainIsSpam)"
   ]
  },
  {
   "cell_type": "code",
   "execution_count": 63,
   "metadata": {},
   "outputs": [
    {
     "data": {
      "text/html": [
       "255.047582176991"
      ],
      "text/latex": [
       "255.047582176991"
      ],
      "text/markdown": [
       "255.047582176991"
      ],
      "text/plain": [
       "[1] 255.0476"
      ]
     },
     "metadata": {},
     "output_type": "display_data"
    }
   ],
   "source": [
    "newMsg = testMsgWords[[1]] #first one is spam\n",
    "\n",
    "#drop words that didn't show up in the BOW\n",
    "newMsg = newMsg[!is.na(match(newMsg, colnames(trainTable)))]\n",
    "\n",
    "#find the words that were in BOW\n",
    "present = colnames(trainTable) %in% newMsg\n",
    "\n",
    "#compute the log of the ratio of the probability a message is spam versus ham\n",
    "#large positive indicates it is spam\n",
    "sum(trainTable[\"presentLogOdds\", present]) + \n",
    "  sum(trainTable[\"absentLogOdds\", !present])"
   ]
  },
  {
   "cell_type": "code",
   "execution_count": 64,
   "metadata": {},
   "outputs": [
    {
     "data": {
      "text/html": [
       "-124.327460041106"
      ],
      "text/latex": [
       "-124.327460041106"
      ],
      "text/markdown": [
       "-124.327460041106"
      ],
      "text/plain": [
       "[1] -124.3275"
      ]
     },
     "metadata": {},
     "output_type": "display_data"
    }
   ],
   "source": [
    "#get the first ham by taking the first index of non-spams\n",
    "newMsg = testMsgWords[[ which(!testIsSpam)[1] ]]\n",
    "newMsg = newMsg[!is.na(match(newMsg, colnames(trainTable)))]\n",
    "present = (colnames(trainTable) %in% newMsg)\n",
    "#large negative indicates ham\n",
    "sum(trainTable[\"presentLogOdds\", present]) + \n",
    "     sum(trainTable[\"absentLogOdds\", !present])"
   ]
  },
  {
   "cell_type": "code",
   "execution_count": 65,
   "metadata": {
    "collapsed": true
   },
   "outputs": [],
   "source": [
    "# put the above steps in a function\n",
    "computeMsgLLR = function(words, freqTable) \n",
    "{\n",
    "       # Discards words not in training data.\n",
    "  words = words[!is.na(match(words, colnames(freqTable)))]\n",
    "\n",
    "       # Find which words are present\n",
    "  present = colnames(freqTable) %in% words\n",
    "\n",
    "  sum(freqTable[\"presentLogOdds\", present]) +\n",
    "    sum(freqTable[\"absentLogOdds\", !present])\n",
    "}"
   ]
  },
  {
   "cell_type": "code",
   "execution_count": 66,
   "metadata": {
    "collapsed": true
   },
   "outputs": [],
   "source": [
    "testLLR = sapply(testMsgWords, computeMsgLLR, trainTable)"
   ]
  },
  {
   "cell_type": "code",
   "execution_count": 67,
   "metadata": {},
   "outputs": [
    {
     "data": {
      "text/plain": [
       "$`FALSE`\n",
       "    Min.  1st Qu.   Median     Mean  3rd Qu.     Max. \n",
       "-1361.89  -127.06  -101.18  -116.25   -81.26   700.23 \n",
       "\n",
       "$`TRUE`\n",
       "     Min.   1st Qu.    Median      Mean   3rd Qu.      Max. \n",
       "  -60.574     6.369    49.837   137.546   131.719 23518.028 \n"
      ]
     },
     "metadata": {},
     "output_type": "display_data"
    }
   ],
   "source": [
    "#recall that testIsSpam is a vector of messages with label of TRUE or FALSE\n",
    "#where TRUE indicates spam\n",
    "tapply(testLLR, testIsSpam, summary)"
   ]
  },
  {
   "cell_type": "code",
   "execution_count": 68,
   "metadata": {},
   "outputs": [
    {
     "data": {
      "image/png": "[encoded data removed]",
      "text/plain": [
       "plot without title"
      ]
     },
     "metadata": {},
     "output_type": "display_data"
    }
   ],
   "source": [
    "# pdf(\"SP_Boxplot.pdf\", width = 6, height = 6)\n",
    "spamLab = c(\"ham\", \"spam\")[1 + testIsSpam]\n",
    "boxplot(testLLR ~ spamLab, ylab = \"Log Likelihood Ratio\",\n",
    "      #  main = \"Log Likelihood Ratio for Randomly Chosen Test Messages\",\n",
    "        ylim=c(-500, 500))\n",
    "# dev.off()"
   ]
  },
  {
   "cell_type": "code",
   "execution_count": 69,
   "metadata": {
    "collapsed": true
   },
   "outputs": [],
   "source": [
    "#function to calculate type 1 error rate so we can test out some threshold values\n",
    "typeIErrorRate = \n",
    "function(tau, llrVals, spam)\n",
    "{\n",
    "  classify = llrVals > tau #returns indices for positives (greater than tau means spam)\n",
    "  sum(classify & !spam)/sum(!spam) #sum all false positives divide by sum of all actual positives\n",
    "}"
   ]
  },
  {
   "cell_type": "code",
   "execution_count": 70,
   "metadata": {},
   "outputs": [
    {
     "data": {
      "text/html": [
       "0.00345274061286146"
      ],
      "text/latex": [
       "0.00345274061286146"
      ],
      "text/markdown": [
       "0.00345274061286146"
      ],
      "text/plain": [
       "[1] 0.003452741"
      ]
     },
     "metadata": {},
     "output_type": "display_data"
    }
   ],
   "source": [
    "typeIErrorRate(0, testLLR,testIsSpam)"
   ]
  },
  {
   "cell_type": "code",
   "execution_count": 71,
   "metadata": {},
   "outputs": [
    {
     "data": {
      "text/html": [
       "0.00561070349589987"
      ],
      "text/latex": [
       "0.00561070349589987"
      ],
      "text/markdown": [
       "0.00561070349589987"
      ],
      "text/plain": [
       "[1] 0.005610703"
      ]
     },
     "metadata": {},
     "output_type": "display_data"
    }
   ],
   "source": [
    "typeIErrorRate(-20, testLLR,testIsSpam)"
   ]
  },
  {
   "cell_type": "code",
   "execution_count": 72,
   "metadata": {
    "collapsed": true
   },
   "outputs": [],
   "source": [
    "#lets create two vectorized functions for computing type 1 and type 2 error rates\n",
    "#we don't need to pass in a vector of thresholds though, instead this function\n",
    "#looks at the ham messages and we recognize that the number of type 1 errors decreases\n",
    "#by 1 at each of these values and so is i/(# of ham messages). i.e. we'll test for \n",
    "#thresholds from (N:1)/N\n",
    "typeIErrorRates = \n",
    "function(llrVals, isSpam) \n",
    "{\n",
    "  o = order(llrVals)\n",
    "  llrVals =  llrVals[o]\n",
    "  isSpam = isSpam[o]\n",
    "\n",
    "  idx = which(!isSpam)\n",
    "  N = length(idx)\n",
    "  list(error = (N:1)/N, values = llrVals[idx])\n",
    "}\n",
    "\n",
    "#similarly for type 2 error except we go from 1:N\n",
    "typeIIErrorRates = function(llrVals, isSpam) {\n",
    "    \n",
    "  o = order(llrVals)\n",
    "  llrVals =  llrVals[o]\n",
    "  isSpam = isSpam[o]\n",
    "    \n",
    "    \n",
    "  idx = which(isSpam)\n",
    "  N = length(idx)\n",
    "  list(error = (1:(N))/N, values = llrVals[idx])\n",
    "  }  "
   ]
  },
  {
   "cell_type": "code",
   "execution_count": 73,
   "metadata": {
    "collapsed": true
   },
   "outputs": [],
   "source": [
    "xI = typeIErrorRates(testLLR, testIsSpam)\n",
    "xII = typeIIErrorRates(testLLR, testIsSpam)\n",
    "tau01 = round(min(xI$values[xI$error <= 0.01]))\n",
    "t2 = max(xII$error[ xII$values < tau01 ])"
   ]
  },
  {
   "cell_type": "code",
   "execution_count": 74,
   "metadata": {},
   "outputs": [
    {
     "data": {
      "image/png": "[encoded data removed]",
      "text/plain": [
       "plot without title"
      ]
     },
     "metadata": {},
     "output_type": "display_data"
    }
   ],
   "source": [
    "# pdf(\"LinePlotTypeI+IIErrors.pdf\", width = 8, height = 6)\n",
    "\n",
    "library(RColorBrewer)\n",
    "cols = brewer.pal(9, \"Set1\")[c(3, 4, 5)]\n",
    "plot(xII$error ~ xII$values,  type = \"l\", col = cols[1], lwd = 3,\n",
    "     xlim = c(-300, 250), ylim = c(0, 1),\n",
    "     xlab = \"Log Likelihood Ratio Values\", ylab=\"Error Rate\")\n",
    "points(xI$error ~ xI$values, type = \"l\", col = cols[2], lwd = 3)\n",
    "legend(x = 50, y = 0.4, fill = c(cols[2], cols[1]),\n",
    "       legend = c(\"Classify Ham as Spam\", \n",
    "                  \"Classify Spam as Ham\"), cex = 0.8,\n",
    "       bty = \"n\")\n",
    "abline(h=0.01, col =\"grey\", lwd = 3, lty = 2)\n",
    "text(-250, 0.05, pos = 4, \"Type I Error = 0.01\", col = cols[2])\n",
    "\n",
    "mtext(tau01, side = 1, line = 0.5, at = tau01, col = cols[3])\n",
    "segments(x0 = tau01, y0 = -.50, x1 = tau01, y1 = t2, \n",
    "         lwd = 2, col = \"grey\")\n",
    "text(tau01 + 20, 0.05, pos = 4,\n",
    "     paste(\"Type II Error = \", round(t2, digits = 2)), \n",
    "     col = cols[1])\n",
    "\n",
    "# dev.off()"
   ]
  },
  {
   "cell_type": "code",
   "execution_count": 75,
   "metadata": {
    "collapsed": true
   },
   "outputs": [],
   "source": [
    "#perform 5-fold cross validation to better select a threshold\n",
    "k = 5 #set k\n",
    "numTrain = length(trainMsgWords) #get number of training observations\n",
    "partK = sample(numTrain) #randomly sample digits between 1 and numTrain\n",
    "tot = k * floor(numTrain/k) #set the total number of observations we'll use in all k folds, ensures even amounts\n",
    "partK = matrix(partK[1:tot], ncol = k) #matrix using the the first tot items in the vector version of partK\n",
    "\n",
    "testFoldOdds = NULL #a blank vector: we'll append the Odds vectors produced for each test fold\n",
    "for (i in 1:k) {\n",
    "  foldIdx = partK[ , i] #use column i in partK to test, use the rest for training\n",
    "  trainTabFold = computeFreqs(trainMsgWords[-foldIdx], trainIsSpam[-foldIdx])\n",
    "  testFoldOdds = c(testFoldOdds, \n",
    "               sapply(trainMsgWords[ foldIdx ], computeMsgLLR, trainTabFold))\n",
    "}\n",
    "\n",
    "testFoldSpam = NULL #blank vector that gets the labels for spam or not spam of each test fold\n",
    "for (i in 1:k) {\n",
    "  foldIdx = partK[ , i]\n",
    "  testFoldSpam = c(testFoldSpam, trainIsSpam[foldIdx])\n",
    "}\n",
    "\n",
    "#now we have two vectors that contain the odds and their actual labels produced during\n",
    "#k-fold cross validation, now we just compute the error rates and then find the \n",
    "#best tau for a type 1 error rate less than or equal to 1%\n",
    "xFoldI = typeIErrorRates(testFoldOdds, testFoldSpam)\n",
    "xFoldII = typeIIErrorRates(testFoldOdds, testFoldSpam)\n",
    "tauFoldI = round(min(xFoldI$values[xFoldI$error <= 0.01]))\n",
    "tFold2 = max(xFoldII$error[ xFoldII$values < tauFoldI ])"
   ]
  },
  {
   "cell_type": "code",
   "execution_count": 76,
   "metadata": {},
   "outputs": [
    {
     "data": {
      "image/png": "[encoded data removed]",
      "text/plain": [
       "plot without title"
      ]
     },
     "metadata": {},
     "output_type": "display_data"
    }
   ],
   "source": [
    "plot(xFoldII$error ~ xFoldII$values,  type = \"l\", col = cols[1], lwd = 3,\n",
    "     xlim = c(-300, 250), ylim = c(0, 1),\n",
    "     xlab = \"Log Likelihood Ratio Values\", ylab=\"Error Rate\")\n",
    "points(xFoldI$error ~ xFoldI$values, type = \"l\", col = cols[2], lwd = 3)\n",
    "legend(x = 50, y = 0.4, fill = c(cols[2], cols[1]),\n",
    "       legend = c(\"Classify Ham as Spam\", \n",
    "                  \"Classify Spam as Ham\"), cex = 0.8,\n",
    "       bty = \"n\")\n",
    "abline(h=0.01, col =\"grey\", lwd = 3, lty = 2)\n",
    "text(-250, 0.05, pos = 4, \"Type I Error = 0.01\", col = cols[2])\n",
    "\n",
    "mtext(tauFoldI, side = 1, line = 0.5, at = tauFoldI, col = cols[3])\n",
    "segments(x0 = tauFoldI, y0 = -.50, x1 = tauFoldI, y1 = tFold2, \n",
    "         lwd = 2, col = \"grey\")\n",
    "text(tauFoldI + 20, 0.05, pos = 4,\n",
    "     paste(\"Type II Error = \", round(tFold2, digits = 2)), \n",
    "     col = cols[1])"
   ]
  },
  {
   "cell_type": "code",
   "execution_count": 77,
   "metadata": {
    "collapsed": true
   },
   "outputs": [],
   "source": [
    "#some of this code is my own, I copied some of the authors' code and modified it to produce \n",
    "#the ROC plot that follows\n",
    "#need true and false positive rates\n",
    "truePosRate = \n",
    "function(tau, llrVals, spam)\n",
    "{\n",
    "  classify = llrVals > tau\n",
    "  sum(classify & spam)/sum(spam)\n",
    "}\n",
    "falsePosRate = \n",
    "function(tau, llrVals, spam)\n",
    "{\n",
    "  classify = llrVals > tau #get all positives\n",
    "  sum(classify & !spam)/sum(!spam) #sum all positives that were actually negative, divide by all negatives\n",
    "}"
   ]
  },
  {
   "cell_type": "code",
   "execution_count": 78,
   "metadata": {
    "collapsed": true
   },
   "outputs": [],
   "source": [
    "#now collect FPR and TPR for each fold using the suggested threshold from the previous analysis\n",
    "k = 10 #set k\n",
    "numTrain = length(trainMsgWords) #get number of training observations\n",
    "partK = sample(numTrain) #randomly sample digits between 1 and numTrain\n",
    "tot = k * floor(numTrain/k) #set the total number of observations we'll use in all k folds, ensures even amounts\n",
    "partK = matrix(partK[1:tot], ncol = k) #matrix using the the first tot items in the vector version of partK\n",
    "\n",
    "testFoldOdds = NULL #a blank vector: we'll append the Odds vectors produced for each test fold\n",
    "for (i in 1:k) {\n",
    "  foldIdx = partK[ , i] #use column i in partK to test, use the rest for training\n",
    "  trainTabFold = computeFreqs(trainMsgWords[-foldIdx], trainIsSpam[-foldIdx])\n",
    "  testFoldOdds = c(testFoldOdds, \n",
    "               sapply(trainMsgWords[ foldIdx ], computeMsgLLR, trainTabFold))\n",
    "}\n",
    "\n",
    "testFoldSpam = NULL #blank vector that gets the labels for spam or not spam of each test fold\n",
    "for (i in 1:k) {\n",
    "  foldIdx = partK[ , i]\n",
    "  testFoldSpam = c(testFoldSpam, trainIsSpam[foldIdx])\n",
    "}\n",
    "testFoldOdds = matrix(testFoldOdds, ncol=k)\n",
    "testFoldSpam = matrix(testFoldSpam, ncol=k)"
   ]
  },
  {
   "cell_type": "code",
   "execution_count": 79,
   "metadata": {},
   "outputs": [
    {
     "data": {
      "image/png": "[encoded data removed]",
      "text/plain": [
       "Plot with title \"Receiver Operating Characteristic\""
      ]
     },
     "metadata": {},
     "output_type": "display_data"
    }
   ],
   "source": [
    "#sort of anticlimactic but shows results right where we want to be\n",
    "cvrates = cbind(\"fold\" = 1:k,\n",
    "              \"tpr\" = unlist(lapply(1:5, function(i) truePosRate(-35, testFoldOdds[,i], testFoldSpam[,i]))), \n",
    "              \"fpr\" = unlist(lapply(1:5, function(i) falsePosRate(-35, testFoldOdds[,i], testFoldSpam[,i]))))\n",
    "cvrates = cvrates[order(cvrates[,3]),] #sort in order of increasing fpr\n",
    "plot(cvrates[,3], cvrates[,2], ylim=c(0,1), xlim=c(0,1), pch=4, col=\"blue\",\n",
    "     xlab=\"False Positive Rate\", ylab=\"True Positive Rate\", main=\"Receiver Operating Characteristic\")\n",
    "abline(0, 1, lty=5, col=\"red\")"
   ]
  },
  {
   "cell_type": "code",
   "execution_count": 80,
   "metadata": {},
   "outputs": [
    {
     "name": "stdout",
     "output_type": "stream",
     "text": [
      "[1] 1.8189894035458565e-06\n",
      "[1] 10000.000001818989\n",
      "[1] 10000\n"
     ]
    }
   ],
   "source": [
    "#an exercise of the author showing how we may like to improve the accuracy of our computations\n",
    "smallNums = rep((1/2)^40, 2000000)\n",
    "largeNum = 10000\n",
    "\n",
    "print(sum(smallNums), digits = 20)\n",
    "\n",
    "print(largeNum + sum(smallNums), digits = 20)\n",
    "\n",
    "for (i in 1:length(smallNums)) {\n",
    "  largeNum = largeNum + smallNums[i]\n",
    "}\n",
    "print(largeNum, digits = 20)"
   ]
  },
  {
   "cell_type": "code",
   "execution_count": 81,
   "metadata": {},
   "outputs": [
    {
     "name": "stdout",
     "output_type": "stream",
     "text": [
      " [1] \"From exmh-workers-admin@redhat.com  Thu Aug 22 12:36:23 2002\"                                      \n",
      " [2] \"Return-Path: <exmh-workers-admin@spamassassin.taint.org>\"                                          \n",
      " [3] \"Delivered-To: zzzz@localhost.netnoteinc.com\"                                                       \n",
      " [4] \"Received: from localhost (localhost [127.0.0.1])\"                                                  \n",
      " [5] \"\\tby phobos.labs.netnoteinc.com (Postfix) with ESMTP id D03E543C36\"                                 \n",
      " [6] \"\\tfor <zzzz@localhost>; Thu, 22 Aug 2002 07:36:16 -0400 (EDT)\"                                      \n",
      " [7] \"Received: from phobos [127.0.0.1]\"                                                                 \n",
      " [8] \"\\tby localhost with IMAP (fetchmail-5.9.0)\"                                                         \n",
      " [9] \"\\tfor zzzz@localhost (single-drop); Thu, 22 Aug 2002 12:36:16 +0100 (IST)\"                          \n",
      "[10] \"Received: from listman.spamassassin.taint.org (listman.spamassassin.taint.org [66.187.233.211]) by\"\n",
      "[11] \"    dogma.slashnull.org (8.11.6/8.11.6) with ESMTP id g7MBYrZ04811 for\"                            \n",
      "[12] \"    <zzzz-exmh@spamassassin.taint.org>; Thu, 22 Aug 2002 12:34:53 +0100\"                           \n"
     ]
    }
   ],
   "source": [
    "sampleSplit = lapply(sampleEmail, splitMessage)\n",
    "\n",
    "header = sampleSplit[[1]]$header\n",
    "print(header[1:12])"
   ]
  },
  {
   "cell_type": "code",
   "execution_count": 82,
   "metadata": {},
   "outputs": [
    {
     "name": "stdout",
     "output_type": "stream",
     "text": [
      "[1] \"Top-From: exmh-workers-admin@redhat.com  Thu Aug 22 12:36:23 2002\"\n"
     ]
    }
   ],
   "source": [
    "header[1] = sub(\"^From\", \"Top-From:\", header[1])\n",
    "print(header[1])"
   ]
  },
  {
   "cell_type": "code",
   "execution_count": 83,
   "metadata": {},
   "outputs": [
    {
     "name": "stdout",
     "output_type": "stream",
     "text": [
      "[[1]]\n",
      "[1] \"zzzz@localhost.netnoteinc.com\"              \n",
      "[2] \"exmh-workers@listman.spamassassin.taint.org\"\n",
      "\n"
     ]
    }
   ],
   "source": [
    "headerPieces = read.dcf(textConnection(header), all = TRUE)\n",
    "\n",
    "print(headerPieces[, \"Delivered-To\"])"
   ]
  },
  {
   "cell_type": "code",
   "execution_count": 84,
   "metadata": {},
   "outputs": [
    {
     "name": "stdout",
     "output_type": "stream",
     "text": [
      "                                 Delivered-To \n",
      "              \"zzzz@localhost.netnoteinc.com\" \n",
      "                                 Delivered-To \n",
      "\"exmh-workers@listman.spamassassin.taint.org\" \n"
     ]
    }
   ],
   "source": [
    "headerVec = unlist(headerPieces)\n",
    "dupKeys = sapply(headerPieces, function(x) length(unlist(x)))\n",
    "names(headerVec) = rep(colnames(headerPieces), dupKeys)\n",
    "\n",
    "print(headerVec[ which(names(headerVec) == \"Delivered-To\") ])"
   ]
  },
  {
   "cell_type": "code",
   "execution_count": 85,
   "metadata": {},
   "outputs": [
    {
     "data": {
      "text/html": [
       "36"
      ],
      "text/latex": [
       "36"
      ],
      "text/markdown": [
       "36"
      ],
      "text/plain": [
       "[1] 36"
      ]
     },
     "metadata": {},
     "output_type": "display_data"
    }
   ],
   "source": [
    "length(headerVec)"
   ]
  },
  {
   "cell_type": "code",
   "execution_count": 86,
   "metadata": {},
   "outputs": [
    {
     "data": {
      "text/html": [
       "26"
      ],
      "text/latex": [
       "26"
      ],
      "text/markdown": [
       "26"
      ],
      "text/plain": [
       "[1] 26"
      ]
     },
     "metadata": {},
     "output_type": "display_data"
    }
   ],
   "source": [
    "length(unique(names(headerVec)))"
   ]
  },
  {
   "cell_type": "code",
   "execution_count": 87,
   "metadata": {
    "collapsed": true
   },
   "outputs": [],
   "source": [
    "processHeader = function(header)\n",
    "{\n",
    "       # modify the first line to create a key:value pair\n",
    "  header[1] = sub(\"^From\", \"Top-From:\", header[1])\n",
    "  \n",
    "  headerMat = read.dcf(textConnection(header), all = TRUE)\n",
    "  headerVec = unlist(headerMat)\n",
    "  \n",
    "  dupKeys = sapply(headerMat, function(x) length(unlist(x)))\n",
    "  names(headerVec) = rep(colnames(headerMat), dupKeys)\n",
    "  \n",
    "  return(headerVec)\n",
    "}"
   ]
  },
  {
   "cell_type": "code",
   "execution_count": 88,
   "metadata": {},
   "outputs": [
    {
     "name": "stdout",
     "output_type": "stream",
     "text": [
      " [1] \"text/plain; charset=us-ascii\"                                                                                   \n",
      " [2] \"text/plain; charset=US-ASCII\"                                                                                   \n",
      " [3] \"text/plain; charset=US-ASCII\"                                                                                   \n",
      " [4] \"text/plain; charset=\\\"us-ascii\\\"\"                                                                               \n",
      " [5] \"text/plain; charset=US-ASCII\"                                                                                   \n",
      " [6] \"multipart/signed;\\nboundary=\\\"==_Exmh_-1317289252P\\\";\\nmicalg=pgp-sha1;\\nprotocol=\\\"application/pgp-signature\\\"\"\n",
      " [7] NA                                                                                                               \n",
      " [8] \"multipart/alternative;\\nboundary=\\\"----=_NextPart_000_00C1_01C25017.F2F04E20\\\"\"                                 \n",
      " [9] \"multipart/alternative; boundary=Apple-Mail-2-874629474\"                                                         \n",
      "[10] \"multipart/signed;\\nboundary=\\\"==_Exmh_-518574644P\\\";\\nmicalg=pgp-sha1;\\nprotocol=\\\"application/pgp-signature\\\"\" \n",
      "[11] \"multipart/related;\\nboundary=\\\"------------090602010909000705010009\\\"\"                                          \n",
      "[12] \"multipart/signed;\\nboundary=\\\"==_Exmh_-451422450P\\\";\\nmicalg=pgp-sha1;\\nprotocol=\\\"application/pgp-signature\\\"\" \n",
      "[13] \"multipart/signed;\\nboundary=\\\"==_Exmh_267413022P\\\";\\nmicalg=pgp-sha1;\\nprotocol=\\\"application/pgp-signature\\\"\"  \n",
      "[14] \"multipart/mixed;\\nboundary=\\\"----=_NextPart_000_0005_01C26412.7545C1D0\\\"\"                                       \n",
      "[15] \"multipart/alternative;\\nboundary=\\\"------------080209060700030309080805\\\"\"                                      \n"
     ]
    }
   ],
   "source": [
    "headerList = lapply(sampleSplit, \n",
    "                    function(msg) {\n",
    "                      processHeader(msg$header)} )\n",
    "\n",
    "contentTypes = sapply(headerList, function(header) \n",
    "                                        header[\"Content-Type\"])\n",
    "names(contentTypes) = NULL\n",
    "print(contentTypes)"
   ]
  },
  {
   "cell_type": "code",
   "execution_count": 89,
   "metadata": {},
   "outputs": [
    {
     "name": "stdout",
     "output_type": "stream",
     "text": [
      "[1]  6  8  9 10 11 12 13 14 15\n"
     ]
    }
   ],
   "source": [
    "hasAttach = grep(\"^ *multi\", tolower(contentTypes))\n",
    "print(hasAttach)"
   ]
  },
  {
   "cell_type": "code",
   "execution_count": 90,
   "metadata": {},
   "outputs": [
    {
     "name": "stdout",
     "output_type": "stream",
     "text": [
      "[1] \"==_Exmh_-1317289252P\"                     \n",
      "[2] \"----=_NextPart_000_00C1_01C25017.F2F04E20\"\n",
      "[3] \"Apple-Mail-2-874629474\"                   \n",
      "[4] \"==_Exmh_-518574644P\"                      \n",
      "[5] \"------------090602010909000705010009\"     \n",
      "[6] \"==_Exmh_-451422450P\"                      \n",
      "[7] \"==_Exmh_267413022P\"                       \n",
      "[8] \"----=_NextPart_000_0005_01C26412.7545C1D0\"\n",
      "[9] \"------------080209060700030309080805\"     \n"
     ]
    }
   ],
   "source": [
    "boundaries = getBoundary(contentTypes[ hasAttach ])\n",
    "print(boundaries)"
   ]
  },
  {
   "cell_type": "code",
   "execution_count": 91,
   "metadata": {},
   "outputs": [
    {
     "name": "stdout",
     "output_type": "stream",
     "text": [
      "[1]  2 35\n"
     ]
    }
   ],
   "source": [
    "boundary = boundaries[9]\n",
    "body = sampleSplit[[15]]$body\n",
    "\n",
    "bString = paste(\"--\", boundary, sep = \"\")\n",
    "bStringLocs = which(bString == body)\n",
    "print(bStringLocs)"
   ]
  },
  {
   "cell_type": "code",
   "execution_count": 92,
   "metadata": {},
   "outputs": [
    {
     "name": "stdout",
     "output_type": "stream",
     "text": [
      "[1] 77\n"
     ]
    }
   ],
   "source": [
    "eString = paste(\"--\", boundary, \"--\", sep = \"\")\n",
    "eStringLoc = which(eString == body)\n",
    "print(eStringLoc)"
   ]
  },
  {
   "cell_type": "code",
   "execution_count": 93,
   "metadata": {},
   "outputs": [
    {
     "name": "stdout",
     "output_type": "stream",
     "text": [
      "[1] 42\n"
     ]
    }
   ],
   "source": [
    "print(diff(c(bStringLocs[-1], eStringLoc)))"
   ]
  },
  {
   "cell_type": "code",
   "execution_count": 94,
   "metadata": {
    "collapsed": true
   },
   "outputs": [],
   "source": [
    "### This code has mistakes in it - and we fix them later!\n",
    "processAttach = function(body, contentType){\n",
    "  \n",
    "  boundary = getBoundary(contentType)\n",
    "  \n",
    "  bString = paste(\"--\", boundary, \"$\", sep = \"\")\n",
    "  bStringLocs = grep(bString, body)\n",
    "  \n",
    "  eString = paste(\"--\", boundary, \"--$\", sep = \"\")\n",
    "  eStringLoc = grep(eString, body)\n",
    "  \n",
    "  n = length(body)\n",
    "  \n",
    "  if (length(eStringLoc) == 0) eStringLoc = n + 1\n",
    "  if (length(bStringLocs) == 1) attachLocs = NULL\n",
    "  else attachLocs = c(bStringLocs[-1],  eStringLoc)\n",
    "  \n",
    "  msg = body[ (bStringLocs[1] + 1) : min(n, (bStringLocs[2] - 1), \n",
    "                                         na.rm = TRUE)]\n",
    "  \n",
    "  if ( eStringLoc < n )\n",
    "    msg = c(msg, body[ (eStringLoc + 1) : n ])\n",
    "  \n",
    "  if ( !is.null(attachLocs) ) {\n",
    "    attachLens = diff(attachLocs, lag = 1) \n",
    "    attachTypes = mapply(function(begL, endL) {\n",
    "      contentTypeLoc = grep(\"[Cc]ontent-[Tt]ype\", body[ (begL + 1) : (endL - 1)])\n",
    "      contentType = body[ begL + contentTypeLoc]\n",
    "      contentType = gsub('\"', \"\", contentType )\n",
    "      MIMEType = sub(\" *Content-Type: *([^;]*);?.*\", \"\\\\1\", contentType)\n",
    "      return(MIMEType)\n",
    "    }, attachLocs[-length(attachLocs)], attachLocs[-1])\n",
    "  }\n",
    "  \n",
    "  if (is.null(attachLocs)) return(list(body = msg, attachInfo = NULL) )\n",
    "  else return(list(body = msg, \n",
    "                   attachDF = data.frame(aLen = attachLens, \n",
    "                                         aType = attachTypes,\n",
    "                                         stringsAsFactors = FALSE)))                                \n",
    "}"
   ]
  },
  {
   "cell_type": "code",
   "execution_count": 95,
   "metadata": {
    "collapsed": true
   },
   "outputs": [],
   "source": [
    "bodyList = lapply(sampleSplit, function(msg) msg$body)\n",
    "attList = mapply(processAttach, bodyList[hasAttach], \n",
    "                 contentTypes[hasAttach], \n",
    "                 SIMPLIFY = FALSE)"
   ]
  },
  {
   "cell_type": "code",
   "execution_count": 96,
   "metadata": {
    "collapsed": true
   },
   "outputs": [],
   "source": [
    "lens = sapply(attList, function(processedA) \n",
    "                           processedA$attachDF$aLen)"
   ]
  },
  {
   "cell_type": "code",
   "execution_count": 97,
   "metadata": {},
   "outputs": [
    {
     "name": "stdout",
     "output_type": "stream",
     "text": [
      "$`./data/messages/easy_ham/00014.cb20e10b2bfcb8210a1c310798532a57`\n",
      "[1] 12\n",
      "\n",
      "$`./data/messages/easy_ham/00062.009f5a1a8fa88f0b38299ad01562bb37`\n",
      "[1] 44 44\n",
      "\n",
      "$`./data/messages/easy_ham/00063.0acbc484a73f0e0b727e06c100d8df7b`\n",
      "[1] 83\n",
      "\n",
      "$`./data/messages/easy_ham/0030.77828e31de08ebb58b583688b87524cc`\n",
      "[1] 12\n",
      "\n",
      "$`./data/messages/easy_ham/00368.f86324a03e7ae7070cc40f302385f5d3`\n",
      "NULL\n",
      "\n",
      "$`./data/messages/easy_ham/00389.8606961eaeef7b921ce1c53773248d69`\n",
      "[1] 12\n",
      "\n"
     ]
    }
   ],
   "source": [
    "print(head(lens))"
   ]
  },
  {
   "cell_type": "code",
   "execution_count": 98,
   "metadata": {},
   "outputs": [
    {
     "name": "stdout",
     "output_type": "stream",
     "text": [
      "  aLen                                                  aType\n",
      "1   44                                              text/html\n",
      "2   44 <META http-equiv=3DContent-Type content=3Dtext/html; =\n"
     ]
    }
   ],
   "source": [
    "print(attList[[2]]$attachDF)"
   ]
  },
  {
   "cell_type": "code",
   "execution_count": 99,
   "metadata": {},
   "outputs": [
    {
     "data": {
      "text/html": [
       "86"
      ],
      "text/latex": [
       "86"
      ],
      "text/markdown": [
       "86"
      ],
      "text/plain": [
       "[1] 86"
      ]
     },
     "metadata": {},
     "output_type": "display_data"
    }
   ],
   "source": [
    "body = bodyList[hasAttach][[2]]\n",
    "length(body)"
   ]
  },
  {
   "cell_type": "code",
   "execution_count": 100,
   "metadata": {},
   "outputs": [
    {
     "name": "stdout",
     "output_type": "stream",
     "text": [
      " [1] \"\"                                                                \n",
      " [2] \"------=_NextPart_000_00C1_01C25017.F2F04E20\"                     \n",
      " [3] \"Content-Type: text/html;\"                                        \n",
      " [4] \"\\tcharset=\\\"Windows-1252\\\"\"                                       \n",
      " [5] \"Content-Transfer-Encoding: quoted-printable\"                     \n",
      " [6] \"\"                                                                \n",
      " [7] \"<!DOCTYPE HTML PUBLIC \\\"-//W3C//DTD HTML 4.0 Transitional//EN\\\">\"\n",
      " [8] \"<HTML><HEAD>\"                                                    \n",
      " [9] \"<META http-equiv=3DContent-Type content=3D\\\"text/html; =\"        \n",
      "[10] \"charset=3Dwindows-1252\\\">\"                                       \n",
      "[11] \"<META content=3D\\\"MSHTML 6.00.2716.2200\\\" name=3DGENERATOR>\"     \n"
     ]
    }
   ],
   "source": [
    "print(body[35:45])"
   ]
  },
  {
   "cell_type": "code",
   "execution_count": 101,
   "metadata": {
    "collapsed": true
   },
   "outputs": [],
   "source": [
    "processAttach = function(body, contentType){\n",
    "\n",
    "  n = length(body)\n",
    "  boundary = getBoundary(contentType)\n",
    " \n",
    "  bString = paste(\"--\", boundary, sep = \"\")\n",
    "  bStringLocs = which(bString == body)\n",
    "  eString = paste(\"--\", boundary, \"--\", sep = \"\")\n",
    "  eStringLoc = which(eString == body)\n",
    "  \n",
    "  if (length(eStringLoc) == 0) eStringLoc = n\n",
    "  if (length(bStringLocs) <= 1) {\n",
    "    attachLocs = NULL\n",
    "    msgLastLine = n\n",
    "    if (length(bStringLocs) == 0) bStringLocs = 0\n",
    "  } else {\n",
    "    attachLocs = c(bStringLocs[ -1 ],  eStringLoc)\n",
    "    msgLastLine = bStringLocs[2] - 1\n",
    "  }\n",
    "  \n",
    "  msg = body[ (bStringLocs[1] + 1) : msgLastLine] \n",
    "  if ( eStringLoc < n )\n",
    "    msg = c(msg, body[ (eStringLoc + 1) : n ])\n",
    "  \n",
    "  if ( !is.null(attachLocs) ) {\n",
    "    attachLens = diff(attachLocs, lag = 1) \n",
    "    attachTypes = mapply(function(begL, endL) {\n",
    "      CTloc = grep(\"^[Cc]ontent-[Tt]ype\", body[ (begL + 1) : (endL - 1)])\n",
    "      if ( length(CTloc) == 0 ) {\n",
    "        MIMEType = NA\n",
    "      } else {\n",
    "        CTval = body[ begL + CTloc[1] ]\n",
    "        CTval = gsub('\"', \"\", CTval )\n",
    "        MIMEType = sub(\" *[Cc]ontent-[Tt]ype: *([^;]*);?.*\", \"\\\\1\", CTval)   \n",
    "      }\n",
    "      return(MIMEType)\n",
    "    }, attachLocs[-length(attachLocs)], attachLocs[-1])\n",
    "  }\n",
    "  \n",
    "  if (is.null(attachLocs)) return(list(body = msg, attachDF = NULL) )\n",
    "  return(list(body = msg, \n",
    "             attachDF = data.frame(aLen = attachLens, \n",
    "                                     aType = unlist(attachTypes),\n",
    "                                     stringsAsFactors = FALSE)))                                \n",
    "}                       \n",
    "\n",
    "readEmail = function(dirName) {\n",
    "       # retrieve the names of files in directory\n",
    "  fileNames = list.files(dirName, full.names = TRUE)\n",
    "       # drop files that are not email\n",
    "  notEmail = grep(\"cmds$\", fileNames)\n",
    "  if ( length(notEmail) > 0) fileNames = fileNames[ - notEmail ]\n",
    "\n",
    "       # read all files in the directory\n",
    "  lapply(fileNames, readLines, encoding = \"latin1\")\n",
    "}\n",
    "\n",
    "processAllEmail = function(dirName, isSpam = FALSE)\n",
    "{\n",
    "       # read all files in the directory\n",
    "  messages = readEmail(dirName)\n",
    "  fileNames = names(messages)\n",
    "  n = length(messages)\n",
    "  \n",
    "       # split header from body\n",
    "  eSplit = lapply(messages, splitMessage)\n",
    "  rm(messages)\n",
    "\n",
    "       # process header as named character vector\n",
    "  headerList = lapply(eSplit, function(msg) \n",
    "                                 processHeader(msg$header))\n",
    "  \n",
    "       # extract content-type key\n",
    "  contentTypes = sapply(headerList, function(header) \n",
    "                                       header[\"Content-Type\"])\n",
    "  \n",
    "       # extract the body\n",
    "  bodyList = lapply(eSplit, function(msg) msg$body)\n",
    "  rm(eSplit)\n",
    "\n",
    "       # which email have attachments\n",
    "  hasAttach = grep(\"^ *multi\", tolower(contentTypes))\n",
    "\n",
    "       # get summary stats for attachments and the shorter body\n",
    "  attList = mapply(processAttach, bodyList[hasAttach], \n",
    "                   contentTypes[hasAttach], SIMPLIFY = FALSE)\n",
    "  \n",
    "  bodyList[hasAttach] = lapply(attList, function(attEl) \n",
    "                                           attEl$body)\n",
    " \n",
    "  attachInfo = vector(\"list\", length = n )\n",
    "  attachInfo[ hasAttach ] = lapply(attList, \n",
    "                                  function(attEl) attEl$attachDF)\n",
    " \n",
    "       # prepare return structure\n",
    "  emailList = mapply(function(header, body, attach, isSpam) {\n",
    "                       list(isSpam = isSpam, header = header, \n",
    "                            body = body, attach = attach)\n",
    "                     },\n",
    "                     headerList, bodyList, attachInfo, \n",
    "                     rep(isSpam, n), SIMPLIFY = FALSE )\n",
    "  names(emailList) = fileNames\n",
    "  \n",
    "  invisible(emailList)\n",
    "}"
   ]
  },
  {
   "cell_type": "code",
   "execution_count": 102,
   "metadata": {},
   "outputs": [
    {
     "name": "stderr",
     "output_type": "stream",
     "text": [
      "Warning message in FUN(X[[i]], ...):\n",
      "\"incomplete final line found on './data/messages/hard_ham/00228.0eaef7857bbbf3ebf5edbbdae2b30493'\"Warning message in FUN(X[[i]], ...):\n",
      "\"incomplete final line found on './data/messages/hard_ham/0231.7c6cc716ce3f3bfad7130dd3c8d7b072'\"Warning message in FUN(X[[i]], ...):\n",
      "\"incomplete final line found on './data/messages/hard_ham/0250.7c6cc716ce3f3bfad7130dd3c8d7b072'\"Warning message in FUN(X[[i]], ...):\n",
      "\"incomplete final line found on './data/messages/spam/00136.faa39d8e816c70f23b4bb8758d8a74f0'\"Warning message in FUN(X[[i]], ...):\n",
      "\"incomplete final line found on './data/messages/spam/0143.260a940290dcb61f9327b224a368d4af'\""
     ]
    }
   ],
   "source": [
    "emailStruct = mapply(processAllEmail, fullDirNames,\n",
    "                     isSpam = rep( c(FALSE, TRUE), 3:2))      \n",
    "emailStruct = unlist(emailStruct, recursive = FALSE)\n",
    "\n",
    "sampleStruct = emailStruct[ indx ]\n",
    "\n",
    "save(emailStruct, file=\"emailXX.rda\")"
   ]
  },
  {
   "cell_type": "code",
   "execution_count": 103,
   "metadata": {},
   "outputs": [
    {
     "data": {
      "text/html": [
       "FALSE"
      ],
      "text/latex": [
       "FALSE"
      ],
      "text/markdown": [
       "FALSE"
      ],
      "text/plain": [
       "[1] FALSE"
      ]
     },
     "metadata": {},
     "output_type": "display_data"
    }
   ],
   "source": [
    "header = sampleStruct[[1]]$header\n",
    "subject = header[\"Subject\"]\n",
    "els = strsplit(subject, \"\")\n",
    "all(els %in% LETTERS)"
   ]
  },
  {
   "cell_type": "code",
   "execution_count": 104,
   "metadata": {},
   "outputs": [
    {
     "data": {
      "text/html": [
       "<ol class=list-inline>\n",
       "\t<li>FALSE</li>\n",
       "\t<li>FALSE</li>\n",
       "\t<li>TRUE</li>\n",
       "</ol>\n"
      ],
      "text/latex": [
       "\\begin{enumerate*}\n",
       "\\item FALSE\n",
       "\\item FALSE\n",
       "\\item TRUE\n",
       "\\end{enumerate*}\n"
      ],
      "text/markdown": [
       "1. FALSE\n",
       "2. FALSE\n",
       "3. TRUE\n",
       "\n",
       "\n"
      ],
      "text/plain": [
       "[1] FALSE FALSE  TRUE"
      ]
     },
     "metadata": {},
     "output_type": "display_data"
    }
   ],
   "source": [
    "testSubject = c(\"DEAR MADAME\", \"WINNER!\", \"\")\n",
    "\n",
    "els = strsplit(testSubject, \"\")\n",
    "sapply(els, function(subject) all(subject %in% LETTERS))"
   ]
  },
  {
   "cell_type": "code",
   "execution_count": 105,
   "metadata": {},
   "outputs": [
    {
     "data": {
      "text/html": [
       "<ol class=list-inline>\n",
       "\t<li>'DEARMADAME'</li>\n",
       "\t<li>'WINNER'</li>\n",
       "\t<li>''</li>\n",
       "</ol>\n"
      ],
      "text/latex": [
       "\\begin{enumerate*}\n",
       "\\item 'DEARMADAME'\n",
       "\\item 'WINNER'\n",
       "\\item ''\n",
       "\\end{enumerate*}\n"
      ],
      "text/markdown": [
       "1. 'DEARMADAME'\n",
       "2. 'WINNER'\n",
       "3. ''\n",
       "\n",
       "\n"
      ],
      "text/plain": [
       "[1] \"DEARMADAME\" \"WINNER\"     \"\"          "
      ]
     },
     "metadata": {},
     "output_type": "display_data"
    }
   ],
   "source": [
    "gsub(\"[[:punct:] ]\", \"\", testSubject)"
   ]
  },
  {
   "cell_type": "code",
   "execution_count": 106,
   "metadata": {},
   "outputs": [
    {
     "data": {
      "text/html": [
       "<ol class=list-inline>\n",
       "\t<li>'DEARMADAME'</li>\n",
       "\t<li>'WINNER'</li>\n",
       "\t<li>''</li>\n",
       "</ol>\n"
      ],
      "text/latex": [
       "\\begin{enumerate*}\n",
       "\\item 'DEARMADAME'\n",
       "\\item 'WINNER'\n",
       "\\item ''\n",
       "\\end{enumerate*}\n"
      ],
      "text/markdown": [
       "1. 'DEARMADAME'\n",
       "2. 'WINNER'\n",
       "3. ''\n",
       "\n",
       "\n"
      ],
      "text/plain": [
       "[1] \"DEARMADAME\" \"WINNER\"     \"\"          "
      ]
     },
     "metadata": {},
     "output_type": "display_data"
    }
   ],
   "source": [
    "gsub(\"[^[:alpha:]]\", \"\", testSubject)"
   ]
  },
  {
   "cell_type": "code",
   "execution_count": 107,
   "metadata": {
    "collapsed": true
   },
   "outputs": [],
   "source": [
    "isYelling = function(msg) {\n",
    "  if ( \"Subject\" %in% names(msg$header) ) {\n",
    "     el = gsub(\"[^[:alpha:]]\", \"\", msg$header[\"Subject\"])\n",
    "     if (nchar(el) > 0) \n",
    "        nchar(gsub(\"[A-Z]\", \"\", el)) < 1\n",
    "     else \n",
    "        FALSE\n",
    "  } else \n",
    "    NA\n",
    "}\n",
    "\n",
    "perCaps =\n",
    "function(msg)\n",
    "{\n",
    "  body = paste(msg$body, collapse = \"\")\n",
    "\n",
    "       # Return NA if the body of the message is \"empty\"\n",
    "  if(length(body) == 0 || nchar(body) == 0) return(NA)\n",
    "\n",
    "       # Eliminate non-alpha characters\n",
    "  body = gsub(\"[^[:alpha:]]\", \"\", body)\n",
    "  capText = gsub(\"[^A-Z]\", \"\", body)\n",
    "  100 * nchar(capText)/nchar(body)\n",
    "}"
   ]
  },
  {
   "cell_type": "code",
   "execution_count": 108,
   "metadata": {},
   "outputs": [
    {
     "data": {
      "text/html": [
       "<dl class=dl-horizontal>\n",
       "\t<dt>./data/messages/easy_ham1</dt>\n",
       "\t\t<dd>4.45103857566766</dd>\n",
       "\t<dt>./data/messages/easy_ham2</dt>\n",
       "\t\t<dd>7.49128919860627</dd>\n",
       "\t<dt>./data/messages/easy_ham3</dt>\n",
       "\t\t<dd>7.43609604957397</dd>\n",
       "\t<dt>./data/messages/easy_ham4</dt>\n",
       "\t\t<dd>5.09090909090909</dd>\n",
       "\t<dt>./data/messages/easy_ham5</dt>\n",
       "\t\t<dd>6.11664295874822</dd>\n",
       "\t<dt>./data/messages/easy_ham15</dt>\n",
       "\t\t<dd>7.73286467486819</dd>\n",
       "\t<dt>./data/messages/easy_ham27</dt>\n",
       "\t\t<dd>5.52325581395349</dd>\n",
       "\t<dt>./data/messages/easy_ham68</dt>\n",
       "\t\t<dd>10.0591715976331</dd>\n",
       "\t<dt>./data/messages/easy_ham69</dt>\n",
       "\t\t<dd>10.8858057630736</dd>\n",
       "\t<dt>./data/messages/easy_ham329</dt>\n",
       "\t\t<dd>6.47249190938511</dd>\n",
       "\t<dt>./data/messages/easy_ham404</dt>\n",
       "\t\t<dd>9.59725792630677</dd>\n",
       "\t<dt>./data/messages/easy_ham427</dt>\n",
       "\t\t<dd>11.9700748129676</dd>\n",
       "\t<dt>./data/messages/easy_ham516</dt>\n",
       "\t\t<dd>9.23379174852652</dd>\n",
       "\t<dt>./data/messages/easy_ham852</dt>\n",
       "\t\t<dd>1.65562913907285</dd>\n",
       "\t<dt>./data/messages/easy_ham971</dt>\n",
       "\t\t<dd>6.41791044776119</dd>\n",
       "</dl>\n"
      ],
      "text/latex": [
       "\\begin{description*}\n",
       "\\item[./data/messages/easy\\textbackslash{}\\_ham1] 4.45103857566766\n",
       "\\item[./data/messages/easy\\textbackslash{}\\_ham2] 7.49128919860627\n",
       "\\item[./data/messages/easy\\textbackslash{}\\_ham3] 7.43609604957397\n",
       "\\item[./data/messages/easy\\textbackslash{}\\_ham4] 5.09090909090909\n",
       "\\item[./data/messages/easy\\textbackslash{}\\_ham5] 6.11664295874822\n",
       "\\item[./data/messages/easy\\textbackslash{}\\_ham15] 7.73286467486819\n",
       "\\item[./data/messages/easy\\textbackslash{}\\_ham27] 5.52325581395349\n",
       "\\item[./data/messages/easy\\textbackslash{}\\_ham68] 10.0591715976331\n",
       "\\item[./data/messages/easy\\textbackslash{}\\_ham69] 10.8858057630736\n",
       "\\item[./data/messages/easy\\textbackslash{}\\_ham329] 6.47249190938511\n",
       "\\item[./data/messages/easy\\textbackslash{}\\_ham404] 9.59725792630677\n",
       "\\item[./data/messages/easy\\textbackslash{}\\_ham427] 11.9700748129676\n",
       "\\item[./data/messages/easy\\textbackslash{}\\_ham516] 9.23379174852652\n",
       "\\item[./data/messages/easy\\textbackslash{}\\_ham852] 1.65562913907285\n",
       "\\item[./data/messages/easy\\textbackslash{}\\_ham971] 6.41791044776119\n",
       "\\end{description*}\n"
      ],
      "text/markdown": [
       "./data/messages/easy_ham1\n",
       ":   4.45103857566766./data/messages/easy_ham2\n",
       ":   7.49128919860627./data/messages/easy_ham3\n",
       ":   7.43609604957397./data/messages/easy_ham4\n",
       ":   5.09090909090909./data/messages/easy_ham5\n",
       ":   6.11664295874822./data/messages/easy_ham15\n",
       ":   7.73286467486819./data/messages/easy_ham27\n",
       ":   5.52325581395349./data/messages/easy_ham68\n",
       ":   10.0591715976331./data/messages/easy_ham69\n",
       ":   10.8858057630736./data/messages/easy_ham329\n",
       ":   6.47249190938511./data/messages/easy_ham404\n",
       ":   9.59725792630677./data/messages/easy_ham427\n",
       ":   11.9700748129676./data/messages/easy_ham516\n",
       ":   9.23379174852652./data/messages/easy_ham852\n",
       ":   1.65562913907285./data/messages/easy_ham971\n",
       ":   6.41791044776119\n",
       "\n"
      ],
      "text/plain": [
       "  ./data/messages/easy_ham1   ./data/messages/easy_ham2 \n",
       "                   4.451039                    7.491289 \n",
       "  ./data/messages/easy_ham3   ./data/messages/easy_ham4 \n",
       "                   7.436096                    5.090909 \n",
       "  ./data/messages/easy_ham5  ./data/messages/easy_ham15 \n",
       "                   6.116643                    7.732865 \n",
       " ./data/messages/easy_ham27  ./data/messages/easy_ham68 \n",
       "                   5.523256                   10.059172 \n",
       " ./data/messages/easy_ham69 ./data/messages/easy_ham329 \n",
       "                  10.885806                    6.472492 \n",
       "./data/messages/easy_ham404 ./data/messages/easy_ham427 \n",
       "                   9.597258                   11.970075 \n",
       "./data/messages/easy_ham516 ./data/messages/easy_ham852 \n",
       "                   9.233792                    1.655629 \n",
       "./data/messages/easy_ham971 \n",
       "                   6.417910 "
      ]
     },
     "metadata": {},
     "output_type": "display_data"
    }
   ],
   "source": [
    "sapply(sampleStruct, perCaps)"
   ]
  },
  {
   "cell_type": "code",
   "execution_count": 109,
   "metadata": {
    "collapsed": true
   },
   "outputs": [],
   "source": [
    "funcList = list( \n",
    " isRe = function(msg) {\n",
    "       \"Subject\" %in% names(msg$header) &&\n",
    "         length(grep(\"^[ \\t]*Re:\", msg$header[[\"Subject\"]])) > 0\n",
    "  },\n",
    "  numLines = function(msg) \n",
    "                length(msg$body),\n",
    "  isYelling = function(msg) {\n",
    "    if ( \"Subject\" %in% names(msg$header) ) {\n",
    "       el = gsub(\"[^[:alpha:]]\", \"\", msg$header[\"Subject\"])\n",
    "       if (nchar(el) > 0) \n",
    "         nchar(gsub(\"[A-Z]\", \"\", el)) < 1\n",
    "       else \n",
    "         FALSE\n",
    "    }\n",
    "    else NA\n",
    "  },\n",
    "  perCaps = function(msg) {\n",
    "    body = paste(msg$body, collapse = \"\")\n",
    "\n",
    "         # Return NA if the body of the message is \"empty\"\n",
    "    if(length(body) == 0 || nchar(body) == 0) return(NA)\n",
    "\n",
    "         # Eliminate non-alpha characters\n",
    "    body = gsub(\"[^[:alpha:]]\", \"\", body)\n",
    "    capText = gsub(\"[^A-Z]\", \"\", body)\n",
    "    100 * nchar(capText)/nchar(body)\n",
    "  }\n",
    ")"
   ]
  },
  {
   "cell_type": "code",
   "execution_count": 110,
   "metadata": {},
   "outputs": [
    {
     "data": {
      "text/html": [
       "<dl>\n",
       "\t<dt>$isRe</dt>\n",
       "\t\t<dd><dl class=dl-horizontal>\n",
       "\t<dt>./data/messages/easy_ham1</dt>\n",
       "\t\t<dd>TRUE</dd>\n",
       "\t<dt>./data/messages/easy_ham2</dt>\n",
       "\t\t<dd>FALSE</dd>\n",
       "\t<dt>./data/messages/easy_ham3</dt>\n",
       "\t\t<dd>FALSE</dd>\n",
       "\t<dt>./data/messages/easy_ham4</dt>\n",
       "\t\t<dd>FALSE</dd>\n",
       "\t<dt>./data/messages/easy_ham5</dt>\n",
       "\t\t<dd>TRUE</dd>\n",
       "\t<dt>./data/messages/easy_ham15</dt>\n",
       "\t\t<dd>TRUE</dd>\n",
       "\t<dt>./data/messages/easy_ham27</dt>\n",
       "\t\t<dd>TRUE</dd>\n",
       "\t<dt>./data/messages/easy_ham68</dt>\n",
       "\t\t<dd>FALSE</dd>\n",
       "\t<dt>./data/messages/easy_ham69</dt>\n",
       "\t\t<dd>TRUE</dd>\n",
       "\t<dt>./data/messages/easy_ham329</dt>\n",
       "\t\t<dd>TRUE</dd>\n",
       "\t<dt>./data/messages/easy_ham404</dt>\n",
       "\t\t<dd>TRUE</dd>\n",
       "\t<dt>./data/messages/easy_ham427</dt>\n",
       "\t\t<dd>TRUE</dd>\n",
       "\t<dt>./data/messages/easy_ham516</dt>\n",
       "\t\t<dd>TRUE</dd>\n",
       "\t<dt>./data/messages/easy_ham852</dt>\n",
       "\t\t<dd>FALSE</dd>\n",
       "\t<dt>./data/messages/easy_ham971</dt>\n",
       "\t\t<dd>TRUE</dd>\n",
       "</dl>\n",
       "</dd>\n",
       "\t<dt>$numLines</dt>\n",
       "\t\t<dd><dl class=dl-horizontal>\n",
       "\t<dt>./data/messages/easy_ham1</dt>\n",
       "\t\t<dd>50</dd>\n",
       "\t<dt>./data/messages/easy_ham2</dt>\n",
       "\t\t<dd>26</dd>\n",
       "\t<dt>./data/messages/easy_ham3</dt>\n",
       "\t\t<dd>38</dd>\n",
       "\t<dt>./data/messages/easy_ham4</dt>\n",
       "\t\t<dd>32</dd>\n",
       "\t<dt>./data/messages/easy_ham5</dt>\n",
       "\t\t<dd>31</dd>\n",
       "\t<dt>./data/messages/easy_ham15</dt>\n",
       "\t\t<dd>54</dd>\n",
       "\t<dt>./data/messages/easy_ham27</dt>\n",
       "\t\t<dd>35</dd>\n",
       "\t<dt>./data/messages/easy_ham68</dt>\n",
       "\t\t<dd>36</dd>\n",
       "\t<dt>./data/messages/easy_ham69</dt>\n",
       "\t\t<dd>65</dd>\n",
       "\t<dt>./data/messages/easy_ham329</dt>\n",
       "\t\t<dd>58</dd>\n",
       "\t<dt>./data/messages/easy_ham404</dt>\n",
       "\t\t<dd>70</dd>\n",
       "\t<dt>./data/messages/easy_ham427</dt>\n",
       "\t\t<dd>31</dd>\n",
       "\t<dt>./data/messages/easy_ham516</dt>\n",
       "\t\t<dd>38</dd>\n",
       "\t<dt>./data/messages/easy_ham852</dt>\n",
       "\t\t<dd>28</dd>\n",
       "\t<dt>./data/messages/easy_ham971</dt>\n",
       "\t\t<dd>34</dd>\n",
       "</dl>\n",
       "</dd>\n",
       "\t<dt>$isYelling</dt>\n",
       "\t\t<dd><dl class=dl-horizontal>\n",
       "\t<dt>./data/messages/easy_ham1.Subject</dt>\n",
       "\t\t<dd>FALSE</dd>\n",
       "\t<dt>./data/messages/easy_ham2.Subject</dt>\n",
       "\t\t<dd>FALSE</dd>\n",
       "\t<dt>./data/messages/easy_ham3.Subject</dt>\n",
       "\t\t<dd>FALSE</dd>\n",
       "\t<dt>./data/messages/easy_ham4.Subject</dt>\n",
       "\t\t<dd>FALSE</dd>\n",
       "\t<dt>./data/messages/easy_ham5.Subject</dt>\n",
       "\t\t<dd>FALSE</dd>\n",
       "\t<dt>./data/messages/easy_ham15.Subject</dt>\n",
       "\t\t<dd>FALSE</dd>\n",
       "\t<dt>./data/messages/easy_ham27.Subject</dt>\n",
       "\t\t<dd>FALSE</dd>\n",
       "\t<dt>./data/messages/easy_ham68.Subject</dt>\n",
       "\t\t<dd>FALSE</dd>\n",
       "\t<dt>./data/messages/easy_ham69.Subject</dt>\n",
       "\t\t<dd>FALSE</dd>\n",
       "\t<dt>./data/messages/easy_ham329.Subject</dt>\n",
       "\t\t<dd>FALSE</dd>\n",
       "\t<dt>./data/messages/easy_ham404.Subject</dt>\n",
       "\t\t<dd>FALSE</dd>\n",
       "\t<dt>./data/messages/easy_ham427.Subject</dt>\n",
       "\t\t<dd>FALSE</dd>\n",
       "\t<dt>./data/messages/easy_ham516.Subject</dt>\n",
       "\t\t<dd>FALSE</dd>\n",
       "\t<dt>./data/messages/easy_ham852.Subject</dt>\n",
       "\t\t<dd>FALSE</dd>\n",
       "\t<dt>./data/messages/easy_ham971.Subject</dt>\n",
       "\t\t<dd>FALSE</dd>\n",
       "</dl>\n",
       "</dd>\n",
       "\t<dt>$perCaps</dt>\n",
       "\t\t<dd><dl class=dl-horizontal>\n",
       "\t<dt>./data/messages/easy_ham1</dt>\n",
       "\t\t<dd>4.45103857566766</dd>\n",
       "\t<dt>./data/messages/easy_ham2</dt>\n",
       "\t\t<dd>7.49128919860627</dd>\n",
       "\t<dt>./data/messages/easy_ham3</dt>\n",
       "\t\t<dd>7.43609604957397</dd>\n",
       "\t<dt>./data/messages/easy_ham4</dt>\n",
       "\t\t<dd>5.09090909090909</dd>\n",
       "\t<dt>./data/messages/easy_ham5</dt>\n",
       "\t\t<dd>6.11664295874822</dd>\n",
       "\t<dt>./data/messages/easy_ham15</dt>\n",
       "\t\t<dd>7.73286467486819</dd>\n",
       "\t<dt>./data/messages/easy_ham27</dt>\n",
       "\t\t<dd>5.52325581395349</dd>\n",
       "\t<dt>./data/messages/easy_ham68</dt>\n",
       "\t\t<dd>10.0591715976331</dd>\n",
       "\t<dt>./data/messages/easy_ham69</dt>\n",
       "\t\t<dd>10.8858057630736</dd>\n",
       "\t<dt>./data/messages/easy_ham329</dt>\n",
       "\t\t<dd>6.47249190938511</dd>\n",
       "\t<dt>./data/messages/easy_ham404</dt>\n",
       "\t\t<dd>9.59725792630677</dd>\n",
       "\t<dt>./data/messages/easy_ham427</dt>\n",
       "\t\t<dd>11.9700748129676</dd>\n",
       "\t<dt>./data/messages/easy_ham516</dt>\n",
       "\t\t<dd>9.23379174852652</dd>\n",
       "\t<dt>./data/messages/easy_ham852</dt>\n",
       "\t\t<dd>1.65562913907285</dd>\n",
       "\t<dt>./data/messages/easy_ham971</dt>\n",
       "\t\t<dd>6.41791044776119</dd>\n",
       "</dl>\n",
       "</dd>\n",
       "</dl>\n"
      ],
      "text/latex": [
       "\\begin{description}\n",
       "\\item[\\$isRe] \\begin{description*}\n",
       "\\item[./data/messages/easy\\textbackslash{}\\_ham1] TRUE\n",
       "\\item[./data/messages/easy\\textbackslash{}\\_ham2] FALSE\n",
       "\\item[./data/messages/easy\\textbackslash{}\\_ham3] FALSE\n",
       "\\item[./data/messages/easy\\textbackslash{}\\_ham4] FALSE\n",
       "\\item[./data/messages/easy\\textbackslash{}\\_ham5] TRUE\n",
       "\\item[./data/messages/easy\\textbackslash{}\\_ham15] TRUE\n",
       "\\item[./data/messages/easy\\textbackslash{}\\_ham27] TRUE\n",
       "\\item[./data/messages/easy\\textbackslash{}\\_ham68] FALSE\n",
       "\\item[./data/messages/easy\\textbackslash{}\\_ham69] TRUE\n",
       "\\item[./data/messages/easy\\textbackslash{}\\_ham329] TRUE\n",
       "\\item[./data/messages/easy\\textbackslash{}\\_ham404] TRUE\n",
       "\\item[./data/messages/easy\\textbackslash{}\\_ham427] TRUE\n",
       "\\item[./data/messages/easy\\textbackslash{}\\_ham516] TRUE\n",
       "\\item[./data/messages/easy\\textbackslash{}\\_ham852] FALSE\n",
       "\\item[./data/messages/easy\\textbackslash{}\\_ham971] TRUE\n",
       "\\end{description*}\n",
       "\n",
       "\\item[\\$numLines] \\begin{description*}\n",
       "\\item[./data/messages/easy\\textbackslash{}\\_ham1] 50\n",
       "\\item[./data/messages/easy\\textbackslash{}\\_ham2] 26\n",
       "\\item[./data/messages/easy\\textbackslash{}\\_ham3] 38\n",
       "\\item[./data/messages/easy\\textbackslash{}\\_ham4] 32\n",
       "\\item[./data/messages/easy\\textbackslash{}\\_ham5] 31\n",
       "\\item[./data/messages/easy\\textbackslash{}\\_ham15] 54\n",
       "\\item[./data/messages/easy\\textbackslash{}\\_ham27] 35\n",
       "\\item[./data/messages/easy\\textbackslash{}\\_ham68] 36\n",
       "\\item[./data/messages/easy\\textbackslash{}\\_ham69] 65\n",
       "\\item[./data/messages/easy\\textbackslash{}\\_ham329] 58\n",
       "\\item[./data/messages/easy\\textbackslash{}\\_ham404] 70\n",
       "\\item[./data/messages/easy\\textbackslash{}\\_ham427] 31\n",
       "\\item[./data/messages/easy\\textbackslash{}\\_ham516] 38\n",
       "\\item[./data/messages/easy\\textbackslash{}\\_ham852] 28\n",
       "\\item[./data/messages/easy\\textbackslash{}\\_ham971] 34\n",
       "\\end{description*}\n",
       "\n",
       "\\item[\\$isYelling] \\begin{description*}\n",
       "\\item[./data/messages/easy\\textbackslash{}\\_ham1.Subject] FALSE\n",
       "\\item[./data/messages/easy\\textbackslash{}\\_ham2.Subject] FALSE\n",
       "\\item[./data/messages/easy\\textbackslash{}\\_ham3.Subject] FALSE\n",
       "\\item[./data/messages/easy\\textbackslash{}\\_ham4.Subject] FALSE\n",
       "\\item[./data/messages/easy\\textbackslash{}\\_ham5.Subject] FALSE\n",
       "\\item[./data/messages/easy\\textbackslash{}\\_ham15.Subject] FALSE\n",
       "\\item[./data/messages/easy\\textbackslash{}\\_ham27.Subject] FALSE\n",
       "\\item[./data/messages/easy\\textbackslash{}\\_ham68.Subject] FALSE\n",
       "\\item[./data/messages/easy\\textbackslash{}\\_ham69.Subject] FALSE\n",
       "\\item[./data/messages/easy\\textbackslash{}\\_ham329.Subject] FALSE\n",
       "\\item[./data/messages/easy\\textbackslash{}\\_ham404.Subject] FALSE\n",
       "\\item[./data/messages/easy\\textbackslash{}\\_ham427.Subject] FALSE\n",
       "\\item[./data/messages/easy\\textbackslash{}\\_ham516.Subject] FALSE\n",
       "\\item[./data/messages/easy\\textbackslash{}\\_ham852.Subject] FALSE\n",
       "\\item[./data/messages/easy\\textbackslash{}\\_ham971.Subject] FALSE\n",
       "\\end{description*}\n",
       "\n",
       "\\item[\\$perCaps] \\begin{description*}\n",
       "\\item[./data/messages/easy\\textbackslash{}\\_ham1] 4.45103857566766\n",
       "\\item[./data/messages/easy\\textbackslash{}\\_ham2] 7.49128919860627\n",
       "\\item[./data/messages/easy\\textbackslash{}\\_ham3] 7.43609604957397\n",
       "\\item[./data/messages/easy\\textbackslash{}\\_ham4] 5.09090909090909\n",
       "\\item[./data/messages/easy\\textbackslash{}\\_ham5] 6.11664295874822\n",
       "\\item[./data/messages/easy\\textbackslash{}\\_ham15] 7.73286467486819\n",
       "\\item[./data/messages/easy\\textbackslash{}\\_ham27] 5.52325581395349\n",
       "\\item[./data/messages/easy\\textbackslash{}\\_ham68] 10.0591715976331\n",
       "\\item[./data/messages/easy\\textbackslash{}\\_ham69] 10.8858057630736\n",
       "\\item[./data/messages/easy\\textbackslash{}\\_ham329] 6.47249190938511\n",
       "\\item[./data/messages/easy\\textbackslash{}\\_ham404] 9.59725792630677\n",
       "\\item[./data/messages/easy\\textbackslash{}\\_ham427] 11.9700748129676\n",
       "\\item[./data/messages/easy\\textbackslash{}\\_ham516] 9.23379174852652\n",
       "\\item[./data/messages/easy\\textbackslash{}\\_ham852] 1.65562913907285\n",
       "\\item[./data/messages/easy\\textbackslash{}\\_ham971] 6.41791044776119\n",
       "\\end{description*}\n",
       "\n",
       "\\end{description}\n"
      ],
      "text/markdown": [
       "$isRe\n",
       ":   ./data/messages/easy_ham1\n",
       ":   TRUE./data/messages/easy_ham2\n",
       ":   FALSE./data/messages/easy_ham3\n",
       ":   FALSE./data/messages/easy_ham4\n",
       ":   FALSE./data/messages/easy_ham5\n",
       ":   TRUE./data/messages/easy_ham15\n",
       ":   TRUE./data/messages/easy_ham27\n",
       ":   TRUE./data/messages/easy_ham68\n",
       ":   FALSE./data/messages/easy_ham69\n",
       ":   TRUE./data/messages/easy_ham329\n",
       ":   TRUE./data/messages/easy_ham404\n",
       ":   TRUE./data/messages/easy_ham427\n",
       ":   TRUE./data/messages/easy_ham516\n",
       ":   TRUE./data/messages/easy_ham852\n",
       ":   FALSE./data/messages/easy_ham971\n",
       ":   TRUE\n",
       "\n",
       "\n",
       "$numLines\n",
       ":   ./data/messages/easy_ham1\n",
       ":   50./data/messages/easy_ham2\n",
       ":   26./data/messages/easy_ham3\n",
       ":   38./data/messages/easy_ham4\n",
       ":   32./data/messages/easy_ham5\n",
       ":   31./data/messages/easy_ham15\n",
       ":   54./data/messages/easy_ham27\n",
       ":   35./data/messages/easy_ham68\n",
       ":   36./data/messages/easy_ham69\n",
       ":   65./data/messages/easy_ham329\n",
       ":   58./data/messages/easy_ham404\n",
       ":   70./data/messages/easy_ham427\n",
       ":   31./data/messages/easy_ham516\n",
       ":   38./data/messages/easy_ham852\n",
       ":   28./data/messages/easy_ham971\n",
       ":   34\n",
       "\n",
       "\n",
       "$isYelling\n",
       ":   ./data/messages/easy_ham1.Subject\n",
       ":   FALSE./data/messages/easy_ham2.Subject\n",
       ":   FALSE./data/messages/easy_ham3.Subject\n",
       ":   FALSE./data/messages/easy_ham4.Subject\n",
       ":   FALSE./data/messages/easy_ham5.Subject\n",
       ":   FALSE./data/messages/easy_ham15.Subject\n",
       ":   FALSE./data/messages/easy_ham27.Subject\n",
       ":   FALSE./data/messages/easy_ham68.Subject\n",
       ":   FALSE./data/messages/easy_ham69.Subject\n",
       ":   FALSE./data/messages/easy_ham329.Subject\n",
       ":   FALSE./data/messages/easy_ham404.Subject\n",
       ":   FALSE./data/messages/easy_ham427.Subject\n",
       ":   FALSE./data/messages/easy_ham516.Subject\n",
       ":   FALSE./data/messages/easy_ham852.Subject\n",
       ":   FALSE./data/messages/easy_ham971.Subject\n",
       ":   FALSE\n",
       "\n",
       "\n",
       "$perCaps\n",
       ":   ./data/messages/easy_ham1\n",
       ":   4.45103857566766./data/messages/easy_ham2\n",
       ":   7.49128919860627./data/messages/easy_ham3\n",
       ":   7.43609604957397./data/messages/easy_ham4\n",
       ":   5.09090909090909./data/messages/easy_ham5\n",
       ":   6.11664295874822./data/messages/easy_ham15\n",
       ":   7.73286467486819./data/messages/easy_ham27\n",
       ":   5.52325581395349./data/messages/easy_ham68\n",
       ":   10.0591715976331./data/messages/easy_ham69\n",
       ":   10.8858057630736./data/messages/easy_ham329\n",
       ":   6.47249190938511./data/messages/easy_ham404\n",
       ":   9.59725792630677./data/messages/easy_ham427\n",
       ":   11.9700748129676./data/messages/easy_ham516\n",
       ":   9.23379174852652./data/messages/easy_ham852\n",
       ":   1.65562913907285./data/messages/easy_ham971\n",
       ":   6.41791044776119\n",
       "\n",
       "\n",
       "\n",
       "\n"
      ],
      "text/plain": [
       "$isRe\n",
       "  ./data/messages/easy_ham1   ./data/messages/easy_ham2 \n",
       "                       TRUE                       FALSE \n",
       "  ./data/messages/easy_ham3   ./data/messages/easy_ham4 \n",
       "                      FALSE                       FALSE \n",
       "  ./data/messages/easy_ham5  ./data/messages/easy_ham15 \n",
       "                       TRUE                        TRUE \n",
       " ./data/messages/easy_ham27  ./data/messages/easy_ham68 \n",
       "                       TRUE                       FALSE \n",
       " ./data/messages/easy_ham69 ./data/messages/easy_ham329 \n",
       "                       TRUE                        TRUE \n",
       "./data/messages/easy_ham404 ./data/messages/easy_ham427 \n",
       "                       TRUE                        TRUE \n",
       "./data/messages/easy_ham516 ./data/messages/easy_ham852 \n",
       "                       TRUE                       FALSE \n",
       "./data/messages/easy_ham971 \n",
       "                       TRUE \n",
       "\n",
       "$numLines\n",
       "  ./data/messages/easy_ham1   ./data/messages/easy_ham2 \n",
       "                         50                          26 \n",
       "  ./data/messages/easy_ham3   ./data/messages/easy_ham4 \n",
       "                         38                          32 \n",
       "  ./data/messages/easy_ham5  ./data/messages/easy_ham15 \n",
       "                         31                          54 \n",
       " ./data/messages/easy_ham27  ./data/messages/easy_ham68 \n",
       "                         35                          36 \n",
       " ./data/messages/easy_ham69 ./data/messages/easy_ham329 \n",
       "                         65                          58 \n",
       "./data/messages/easy_ham404 ./data/messages/easy_ham427 \n",
       "                         70                          31 \n",
       "./data/messages/easy_ham516 ./data/messages/easy_ham852 \n",
       "                         38                          28 \n",
       "./data/messages/easy_ham971 \n",
       "                         34 \n",
       "\n",
       "$isYelling\n",
       "  ./data/messages/easy_ham1.Subject   ./data/messages/easy_ham2.Subject \n",
       "                              FALSE                               FALSE \n",
       "  ./data/messages/easy_ham3.Subject   ./data/messages/easy_ham4.Subject \n",
       "                              FALSE                               FALSE \n",
       "  ./data/messages/easy_ham5.Subject  ./data/messages/easy_ham15.Subject \n",
       "                              FALSE                               FALSE \n",
       " ./data/messages/easy_ham27.Subject  ./data/messages/easy_ham68.Subject \n",
       "                              FALSE                               FALSE \n",
       " ./data/messages/easy_ham69.Subject ./data/messages/easy_ham329.Subject \n",
       "                              FALSE                               FALSE \n",
       "./data/messages/easy_ham404.Subject ./data/messages/easy_ham427.Subject \n",
       "                              FALSE                               FALSE \n",
       "./data/messages/easy_ham516.Subject ./data/messages/easy_ham852.Subject \n",
       "                              FALSE                               FALSE \n",
       "./data/messages/easy_ham971.Subject \n",
       "                              FALSE \n",
       "\n",
       "$perCaps\n",
       "  ./data/messages/easy_ham1   ./data/messages/easy_ham2 \n",
       "                   4.451039                    7.491289 \n",
       "  ./data/messages/easy_ham3   ./data/messages/easy_ham4 \n",
       "                   7.436096                    5.090909 \n",
       "  ./data/messages/easy_ham5  ./data/messages/easy_ham15 \n",
       "                   6.116643                    7.732865 \n",
       " ./data/messages/easy_ham27  ./data/messages/easy_ham68 \n",
       "                   5.523256                   10.059172 \n",
       " ./data/messages/easy_ham69 ./data/messages/easy_ham329 \n",
       "                  10.885806                    6.472492 \n",
       "./data/messages/easy_ham404 ./data/messages/easy_ham427 \n",
       "                   9.597258                   11.970075 \n",
       "./data/messages/easy_ham516 ./data/messages/easy_ham852 \n",
       "                   9.233792                    1.655629 \n",
       "./data/messages/easy_ham971 \n",
       "                   6.417910 \n"
      ]
     },
     "metadata": {},
     "output_type": "display_data"
    }
   ],
   "source": [
    "lapply(funcList, function(func) \n",
    "                   sapply(sampleStruct, function(msg) func(msg)))"
   ]
  },
  {
   "cell_type": "code",
   "execution_count": 111,
   "metadata": {
    "collapsed": true
   },
   "outputs": [],
   "source": [
    "createDerivedDF =\n",
    "function(email = emailStruct, operations = funcList, \n",
    "         verbose = FALSE)\n",
    "{\n",
    "  els = lapply(names(operations),\n",
    "               function(id) {\n",
    "                 if(verbose) print(id)\n",
    "                 e = operations[[id]]\n",
    "                 v = if(is.function(e)) \n",
    "                        sapply(email, e)\n",
    "                      else \n",
    "                        sapply(email, function(msg) eval(e))\n",
    "                 v\n",
    "         })\n",
    "\n",
    "   df = as.data.frame(els)\n",
    "   names(df) = names(operations)\n",
    "   invisible(df)\n",
    "}"
   ]
  },
  {
   "cell_type": "code",
   "execution_count": 112,
   "metadata": {},
   "outputs": [
    {
     "data": {
      "text/html": [
       "<table>\n",
       "<thead><tr><th></th><th scope=col>isRe</th><th scope=col>numLines</th><th scope=col>isYelling</th><th scope=col>perCaps</th></tr></thead>\n",
       "<tbody>\n",
       "\t<tr><th scope=row>./data/messages/easy_ham1</th><td> TRUE   </td><td>50      </td><td>FALSE   </td><td>4.451039</td></tr>\n",
       "\t<tr><th scope=row>./data/messages/easy_ham2</th><td>FALSE   </td><td>26      </td><td>FALSE   </td><td>7.491289</td></tr>\n",
       "\t<tr><th scope=row>./data/messages/easy_ham3</th><td>FALSE   </td><td>38      </td><td>FALSE   </td><td>7.436096</td></tr>\n",
       "\t<tr><th scope=row>./data/messages/easy_ham4</th><td>FALSE   </td><td>32      </td><td>FALSE   </td><td>5.090909</td></tr>\n",
       "\t<tr><th scope=row>./data/messages/easy_ham5</th><td> TRUE   </td><td>31      </td><td>FALSE   </td><td>6.116643</td></tr>\n",
       "\t<tr><th scope=row>./data/messages/easy_ham15</th><td> TRUE   </td><td>54      </td><td>FALSE   </td><td>7.732865</td></tr>\n",
       "</tbody>\n",
       "</table>\n"
      ],
      "text/latex": [
       "\\begin{tabular}{r|llll}\n",
       "  & isRe & numLines & isYelling & perCaps\\\\\n",
       "\\hline\n",
       "\t./data/messages/easy\\_ham1 &  TRUE    & 50       & FALSE    & 4.451039\\\\\n",
       "\t./data/messages/easy\\_ham2 & FALSE    & 26       & FALSE    & 7.491289\\\\\n",
       "\t./data/messages/easy\\_ham3 & FALSE    & 38       & FALSE    & 7.436096\\\\\n",
       "\t./data/messages/easy\\_ham4 & FALSE    & 32       & FALSE    & 5.090909\\\\\n",
       "\t./data/messages/easy\\_ham5 &  TRUE    & 31       & FALSE    & 6.116643\\\\\n",
       "\t./data/messages/easy\\_ham15 &  TRUE    & 54       & FALSE    & 7.732865\\\\\n",
       "\\end{tabular}\n"
      ],
      "text/markdown": [
       "\n",
       "| <!--/--> | isRe | numLines | isYelling | perCaps | \n",
       "|---|---|---|---|---|---|\n",
       "| ./data/messages/easy_ham1 |  TRUE    | 50       | FALSE    | 4.451039 | \n",
       "| ./data/messages/easy_ham2 | FALSE    | 26       | FALSE    | 7.491289 | \n",
       "| ./data/messages/easy_ham3 | FALSE    | 38       | FALSE    | 7.436096 | \n",
       "| ./data/messages/easy_ham4 | FALSE    | 32       | FALSE    | 5.090909 | \n",
       "| ./data/messages/easy_ham5 |  TRUE    | 31       | FALSE    | 6.116643 | \n",
       "| ./data/messages/easy_ham15 |  TRUE    | 54       | FALSE    | 7.732865 | \n",
       "\n",
       "\n"
      ],
      "text/plain": [
       "                           isRe  numLines isYelling perCaps \n",
       "./data/messages/easy_ham1   TRUE 50       FALSE     4.451039\n",
       "./data/messages/easy_ham2  FALSE 26       FALSE     7.491289\n",
       "./data/messages/easy_ham3  FALSE 38       FALSE     7.436096\n",
       "./data/messages/easy_ham4  FALSE 32       FALSE     5.090909\n",
       "./data/messages/easy_ham5   TRUE 31       FALSE     6.116643\n",
       "./data/messages/easy_ham15  TRUE 54       FALSE     7.732865"
      ]
     },
     "metadata": {},
     "output_type": "display_data"
    }
   ],
   "source": [
    "sampleDF = createDerivedDF(sampleStruct)\n",
    "head(sampleDF)"
   ]
  },
  {
   "cell_type": "code",
   "execution_count": 113,
   "metadata": {
    "collapsed": true
   },
   "outputs": [],
   "source": [
    "funcList = list(\n",
    "  isSpam =\n",
    "    expression(msg$isSpam)\n",
    "  ,\n",
    "  isRe =\n",
    "    function(msg) {\n",
    "      # Can have a Fwd: Re:  ... but we are not looking for this here.\n",
    "      # We may want to look at In-Reply-To field.\n",
    "      \"Subject\" %in% names(msg$header) && \n",
    "        length(grep(\"^[ \\t]*Re:\", msg$header[[\"Subject\"]])) > 0\n",
    "    }\n",
    "  ,\n",
    "  numLines =\n",
    "    function(msg) length(msg$body)\n",
    "  ,\n",
    "  bodyCharCt =\n",
    "    function(msg)\n",
    "      sum(nchar(msg$body))\n",
    "  ,\n",
    "  underscore =\n",
    "    function(msg) {\n",
    "      if(!\"Reply-To\" %in% names(msg$header))\n",
    "        return(FALSE)\n",
    "      \n",
    "      txt <- msg$header[[\"Reply-To\"]]\n",
    "      length(grep(\"_\", txt)) > 0  && \n",
    "        length(grep(\"[0-9A-Za-z]+\", txt)) > 0\n",
    "    }\n",
    "  ,\n",
    "  subExcCt = \n",
    "    function(msg) {\n",
    "      x = msg$header[\"Subject\"]\n",
    "      if(length(x) == 0 || sum(nchar(x)) == 0 || is.na(x))\n",
    "        return(NA)\n",
    "      \n",
    "      sum(nchar(gsub(\"[^!]\",\"\", x)))\n",
    "    }\n",
    "  ,\n",
    "  subQuesCt =\n",
    "    function(msg) {\n",
    "      x = msg$header[\"Subject\"]\n",
    "      if(length(x) == 0 || sum(nchar(x)) == 0 || is.na(x))\n",
    "        return(NA)\n",
    "      \n",
    "      sum(nchar(gsub(\"[^?]\",\"\", x)))\n",
    "    }\n",
    "  ,\n",
    "  numAtt = \n",
    "    function(msg) {\n",
    "      if (is.null(msg$attach)) return(0)\n",
    "      else nrow(msg$attach)\n",
    "    }\n",
    "   \n",
    "  ,\n",
    "  priority =\n",
    "    function(msg) {\n",
    "      ans <- FALSE\n",
    "      # Look for names X-Priority, Priority, X-Msmail-Priority\n",
    "      # Look for high any where in the value\n",
    "      ind = grep(\"priority\", tolower(names(msg$header)))\n",
    "      if (length(ind) > 0)  {\n",
    "        ans <- length(grep(\"high\", tolower(msg$header[ind]))) >0\n",
    "      }\n",
    "      ans\n",
    "    }\n",
    "  ,\n",
    "  numRec =\n",
    "    function(msg) {\n",
    "      # unique or not.\n",
    "      els = getMessageRecipients(msg$header)\n",
    "      \n",
    "      if(length(els) == 0)\n",
    "        return(NA)\n",
    "      \n",
    "      # Split each line by \",\"  and in each of these elements, look for\n",
    "      # the @ sign. This handles\n",
    "      tmp = sapply(strsplit(els, \",\"), function(x) grep(\"@\", x))\n",
    "      sum(sapply(tmp, length))\n",
    "    }\n",
    "  ,\n",
    "  perCaps =\n",
    "    function(msg)\n",
    "    {\n",
    "      body = paste(msg$body, collapse = \"\")\n",
    "      \n",
    "      # Return NA if the body of the message is \"empty\"\n",
    "      if(length(body) == 0 || nchar(body) == 0) return(NA)\n",
    "      \n",
    "      # Eliminate non-alpha characters and empty lines \n",
    "      body = gsub(\"[^[:alpha:]]\", \"\", body)\n",
    "      els = unlist(strsplit(body, \"\"))\n",
    "      ctCap = sum(els %in% LETTERS)\n",
    "      100 * ctCap / length(els)\n",
    "    }\n",
    "  ,\n",
    "  isInReplyTo =\n",
    "    function(msg)\n",
    "    {\n",
    "      \"In-Reply-To\" %in% names(msg$header)\n",
    "    }\n",
    "  ,\n",
    "  sortedRec =\n",
    "    function(msg)\n",
    "    {\n",
    "      ids = getMessageRecipients(msg$header)\n",
    "      all(sort(ids) == ids)\n",
    "    }\n",
    "  ,\n",
    "  subPunc =\n",
    "    function(msg)\n",
    "    {\n",
    "      if(\"Subject\" %in% names(msg$header)) {\n",
    "        el = gsub(\"['/.:@-]\", \"\", msg$header[\"Subject\"])\n",
    "        length(grep(\"[A-Za-z][[:punct:]]+[A-Za-z]\", el)) > 0\n",
    "      }\n",
    "      else\n",
    "        FALSE\n",
    "    },\n",
    "  hour =\n",
    "    function(msg)\n",
    "    {\n",
    "      date = msg$header[\"Date\"]\n",
    "      if ( is.null(date) ) return(NA)\n",
    "      # Need to handle that there may be only one digit in the hour\n",
    "      locate = regexpr(\"[0-2]?[0-9]:[0-5][0-9]:[0-5][0-9]\", date)\n",
    "      \n",
    "      if (locate < 0)\n",
    "        locate = regexpr(\"[0-2]?[0-9]:[0-5][0-9]\", date)\n",
    "      if (locate < 0) return(NA)\n",
    "      \n",
    "      hour = substring(date, locate, locate+1)\n",
    "      hour = as.numeric(gsub(\":\", \"\", hour))\n",
    "      \n",
    "      locate = regexpr(\"PM\", date)\n",
    "      if (locate > 0) hour = hour + 12\n",
    "      \n",
    "      locate = regexpr(\"[+-][0-2][0-9]00\", date)\n",
    "      if (locate < 0) offset = 0\n",
    "      else offset = as.numeric(substring(date, locate, locate + 2))\n",
    "      (hour - offset) %% 24\n",
    "    }\n",
    "  ,\n",
    "  multipartText =\n",
    "    function(msg)\n",
    "    {\n",
    "      if (is.null(msg$attach)) return(FALSE)\n",
    "      numAtt = nrow(msg$attach)\n",
    "      \n",
    "      types = \n",
    "        length(grep(\"(html|plain|text)\", msg$attach$aType)) > (numAtt/2)\n",
    "    }\n",
    "  ,\n",
    "  hasImages =\n",
    "    function(msg)\n",
    "    {\n",
    "      if (is.null(msg$attach)) return(FALSE)\n",
    "      \n",
    "      length(grep(\"^ *image\", tolower(msg$attach$aType))) > 0\n",
    "    }\n",
    "  ,\n",
    "  isPGPsigned =\n",
    "    function(msg)\n",
    "    {\n",
    "      if (is.null(msg$attach)) return(FALSE)\n",
    "      \n",
    "      length(grep(\"pgp\", tolower(msg$attach$aType))) > 0\n",
    "    },\n",
    "  perHTML =\n",
    "    function(msg)\n",
    "    {\n",
    "      if(! (\"Content-Type\" %in% names(msg$header))) return(0)\n",
    "      \n",
    "      el = tolower(msg$header[\"Content-Type\"]) \n",
    "      if (length(grep(\"html\", el)) == 0) return(0)\n",
    "      \n",
    "      els = gsub(\"[[:space:]]\", \"\", msg$body)\n",
    "      totchar = sum(nchar(els))\n",
    "      totplain = sum(nchar(gsub(\"<[^<]+>\", \"\", els )))\n",
    "      100 * (totchar - totplain)/totchar\n",
    "    },\n",
    "  subSpamWords =\n",
    "    function(msg)\n",
    "    {\n",
    "      if(\"Subject\" %in% names(msg$header))\n",
    "        length(grep(paste(SpamCheckWords, collapse = \"|\"), \n",
    "                    tolower(msg$header[\"Subject\"]))) > 0\n",
    "      else\n",
    "        NA\n",
    "    }\n",
    "  ,\n",
    "  subBlanks =\n",
    "    function(msg)\n",
    "    {\n",
    "      if(\"Subject\" %in% names(msg$header)) {\n",
    "        x = msg$header[\"Subject\"]\n",
    "        # should we count blank subject line as 0 or 1 or NA?\n",
    "        if (nchar(x) == 1) return(0)\n",
    "        else 100 *(1 - (nchar(gsub(\"[[:blank:]]\", \"\", x))/nchar(x)))\n",
    "      } else NA\n",
    "    }\n",
    "  ,\n",
    "  noHost =\n",
    "    function(msg)\n",
    "    {\n",
    "      # Or use partial matching.\n",
    "      idx = pmatch(\"Message-\", names(msg$header))\n",
    "      \n",
    "      if(is.na(idx)) return(NA)\n",
    "      \n",
    "      tmp = msg$header[idx]\n",
    "      return(length(grep(\".*@[^[:space:]]+\", tmp)) ==  0)\n",
    "    }\n",
    "  ,\n",
    "  numEnd =\n",
    "    function(msg)\n",
    "    {\n",
    "      # If we just do a grep(\"[0-9]@\",  )\n",
    "      # we get matches on messages that have a From something like\n",
    "      # \" \\\"marty66@aol.com\\\" <synjan@ecis.com>\"\n",
    "      # and the marty66 is the \"user's name\" not the login\n",
    "      # So we can be more precise if we want.\n",
    "      x = names(msg$header)\n",
    "      if ( !( \"From\" %in% x) ) return(NA)\n",
    "      login = gsub(\"^.*<\", \"\", msg$header[\"From\"])\n",
    "      if ( is.null(login) ) \n",
    "        login = gsub(\"^.*<\", \"\", msg$header[\"X-From\"])\n",
    "      if ( is.null(login) ) return(NA)\n",
    "      login = strsplit(login, \"@\")[[1]][1]\n",
    "      length(grep(\"[0-9]+$\", login)) > 0\n",
    "    },\n",
    "  isYelling =\n",
    "    function(msg)\n",
    "    {\n",
    "      if ( \"Subject\" %in% names(msg$header) ) {\n",
    "        el = gsub(\"[^[:alpha:]]\", \"\", msg$header[\"Subject\"])\n",
    "        if (nchar(el) > 0) nchar(gsub(\"[A-Z]\", \"\", el)) < 1\n",
    "        else FALSE\n",
    "      }\n",
    "      else\n",
    "        NA\n",
    "    },\n",
    "  forwards =\n",
    "    function(msg)\n",
    "    {\n",
    "      x = msg$body\n",
    "      if(length(x) == 0 || sum(nchar(x)) == 0)\n",
    "        return(NA)\n",
    "      \n",
    "      ans = length(grep(\"^[[:space:]]*>\", x))\n",
    "      100 * ans / length(x)\n",
    "    },\n",
    "  isOrigMsg =\n",
    "    function(msg)\n",
    "    {\n",
    "      x = msg$body\n",
    "      if(length(x) == 0) return(NA)\n",
    "      \n",
    "      length(grep(\"^[^[:alpha:]]*original[^[:alpha:]]+message[^[:alpha:]]*$\", \n",
    "                  tolower(x) ) ) > 0\n",
    "    },\n",
    "  isDear =\n",
    "    function(msg)\n",
    "    {\n",
    "      x = msg$body\n",
    "      if(length(x) == 0) return(NA)\n",
    "      \n",
    "      length(grep(\"^[[:blank:]]*dear +(sir|madam)\\\\>\", \n",
    "                  tolower(x))) > 0\n",
    "    },\n",
    "  isWrote =\n",
    "    function(msg)\n",
    "    {\n",
    "      x = msg$body\n",
    "      if(length(x) == 0) return(NA)\n",
    "      \n",
    "      length(grep(\"(wrote|schrieb|ecrit|escribe):\", tolower(x) )) > 0\n",
    "    },\n",
    "  avgWordLen =\n",
    "    function(msg)\n",
    "    {\n",
    "      txt = paste(msg$body, collapse = \" \")\n",
    "      if(length(txt) == 0 || sum(nchar(txt)) == 0) return(0)\n",
    "      \n",
    "      txt = gsub(\"[^[:alpha:]]\", \" \", txt)\n",
    "      words = unlist(strsplit(txt, \"[[:blank:]]+\"))\n",
    "      wordLens = nchar(words)\n",
    "      mean(wordLens[ wordLens > 0 ])\n",
    "    }\n",
    "  ,\n",
    "  numDlr =\n",
    "    function(msg)\n",
    "    {\n",
    "      x = paste(msg$body, collapse = \"\")\n",
    "      if(length(x) == 0 || sum(nchar(x)) == 0)\n",
    "        return(NA)\n",
    "      \n",
    "      nchar(gsub(\"[^$]\",\"\", x))\n",
    "    }\n",
    ")"
   ]
  },
  {
   "cell_type": "code",
   "execution_count": 114,
   "metadata": {
    "collapsed": true
   },
   "outputs": [],
   "source": [
    "SpamCheckWords =\n",
    "  c(\"viagra\", \"pounds\", \"free\", \"weight\", \"guarantee\", \"million\", \n",
    "    \"dollars\", \"credit\", \"risk\", \"prescription\", \"generic\", \"drug\",\n",
    "    \"financial\", \"save\", \"dollar\", \"erotic\", \"million\", \"barrister\",\n",
    "    \"beneficiary\", \"easy\", \n",
    "    \"money back\", \"money\", \"credit card\")"
   ]
  },
  {
   "cell_type": "code",
   "execution_count": 115,
   "metadata": {
    "collapsed": true
   },
   "outputs": [],
   "source": [
    "getMessageRecipients =\n",
    "  function(header)\n",
    "  {\n",
    "    c(if(\"To\" %in% names(header))  header[[\"To\"]] else character(0),\n",
    "      if(\"Cc\" %in% names(header))  header[[\"Cc\"]] else character(0),\n",
    "      if(\"Bcc\" %in% names(header)) header[[\"Bcc\"]] else character(0)\n",
    "    )\n",
    "  }"
   ]
  },
  {
   "cell_type": "code",
   "execution_count": 116,
   "metadata": {},
   "outputs": [
    {
     "name": "stdout",
     "output_type": "stream",
     "text": [
      "[1] 9348   30\n"
     ]
    }
   ],
   "source": [
    "emailDF = createDerivedDF(emailStruct)\n",
    "print(dim(emailDF))\n",
    "save(emailDF, file = \"spamAssassinDerivedDF.rda\")"
   ]
  },
  {
   "cell_type": "code",
   "execution_count": 117,
   "metadata": {},
   "outputs": [
    {
     "name": "stdout",
     "output_type": "stream",
     "text": [
      "[1] 9348   30\n"
     ]
    }
   ],
   "source": [
    "load(\"spamAssassinDerivedDF.rda\")\n",
    "print(dim(emailDF))"
   ]
  },
  {
   "cell_type": "code",
   "execution_count": 118,
   "metadata": {
    "collapsed": true
   },
   "outputs": [],
   "source": [
    "perCaps2 =\n",
    "function(msg)\n",
    "{\n",
    "  body = paste(msg$body, collapse = \"\")\n",
    "\n",
    "       # Return NA if the body of the message is \"empty\"\n",
    "  if(length(body) == 0 || nchar(body) == 0) return(NA)\n",
    "\n",
    "       # Eliminate non-alpha characters and empty lines \n",
    "  body = gsub(\"[^[:alpha:]]\", \"\", body)\n",
    "  els = unlist(strsplit(body, \"\"))\n",
    "  ctCap = sum(els %in% LETTERS)\n",
    "  100 * ctCap / length(els)\n",
    "}"
   ]
  },
  {
   "cell_type": "code",
   "execution_count": 119,
   "metadata": {},
   "outputs": [
    {
     "name": "stdout",
     "output_type": "stream",
     "text": [
      "[1] TRUE\n"
     ]
    }
   ],
   "source": [
    "pC = sapply(emailStruct, perCaps)\n",
    "pC2 = sapply(emailStruct, perCaps2)\n",
    "print(identical(pC, pC2))"
   ]
  },
  {
   "cell_type": "code",
   "execution_count": 120,
   "metadata": {},
   "outputs": [
    {
     "name": "stderr",
     "output_type": "stream",
     "text": [
      "Warning message in indNA == indNoSubject:\n",
      "\"longer object length is not a multiple of shorter object length\""
     ]
    },
    {
     "name": "stdout",
     "output_type": "stream",
     "text": [
      "[1] FALSE\n"
     ]
    }
   ],
   "source": [
    "indNA = which(is.na(emailDF$subExcCt))\n",
    "\n",
    "indNoSubject = which(sapply(emailStruct, \n",
    "                            function(msg) \n",
    "                              !(\"Subject\" %in% names(msg$header))))\n",
    "\n",
    "print(all(indNA == indNoSubject))"
   ]
  },
  {
   "cell_type": "code",
   "execution_count": 121,
   "metadata": {},
   "outputs": [
    {
     "data": {
      "text/html": [
       "TRUE"
      ],
      "text/latex": [
       "TRUE"
      ],
      "text/markdown": [
       "TRUE"
      ],
      "text/plain": [
       "[1] TRUE"
      ]
     },
     "metadata": {},
     "output_type": "display_data"
    }
   ],
   "source": [
    "all(emailDF$bodyCharCt > emailDF$numLines)"
   ]
  },
  {
   "cell_type": "code",
   "execution_count": 122,
   "metadata": {},
   "outputs": [
    {
     "data": {
      "image/png": "[encoded data removed]",
      "text/plain": [
       "plot without title"
      ]
     },
     "metadata": {},
     "output_type": "display_data"
    }
   ],
   "source": [
    "x.at = c(1,10,100,1000,10000,100000)\n",
    "y.at = c(1, 5, 10, 50, 100, 500, 5000)\n",
    "nL = 1 + emailDF$numLines\n",
    "nC = 1 + emailDF$bodyCharCt\n",
    "# pdf(\"ScatterPlotNumLinesNumChars.pdf\", width = 6, height = 4.5)\n",
    "plot(nL ~ nC, log = \"xy\", pch=\".\", xlim=c(1,100000), axes = FALSE,\n",
    "     xlab = \"Number of Characters\", ylab = \"Number of Lines\")\n",
    "box() \n",
    "axis(1, at = x.at, labels = formatC(x.at, digits = 0, format=\"d\"))\n",
    "axis(2, at = y.at, labels = formatC(y.at, digits = 0, format=\"d\")) \n",
    "abline(a=0, b=1, col=\"red\", lwd = 2)\n",
    "# dev.off()"
   ]
  },
  {
   "cell_type": "code",
   "execution_count": 123,
   "metadata": {},
   "outputs": [
    {
     "data": {
      "image/png": "[encoded data removed]",
      "text/plain": [
       "plot without title"
      ]
     },
     "metadata": {},
     "output_type": "display_data"
    }
   ],
   "source": [
    "# pdf(\"SPAM_boxplotsPercentCaps.pdf\", width = 5, height = 5)\n",
    "\n",
    "percent = emailDF$perCaps\n",
    "isSpamLabs = factor(emailDF$isSpam, labels = c(\"ham\", \"spam\"))\n",
    "boxplot(log(1 + percent) ~ isSpamLabs,\n",
    "        ylab = \"Percent Capitals (log)\")\n",
    "\n",
    "# dev.off()"
   ]
  },
  {
   "cell_type": "code",
   "execution_count": 124,
   "metadata": {},
   "outputs": [
    {
     "data": {
      "image/png": "[encoded data removed]",
      "text/plain": [
       "Plot with title \"Percentage of Capital Letters (log scale)\""
      ]
     },
     "metadata": {},
     "output_type": "display_data"
    }
   ],
   "source": [
    "logPerCapsSpam = log(1 + emailDF$perCaps[ emailDF$isSpam ])\n",
    "logPerCapsHam = log(1 + emailDF$perCaps[ !emailDF$isSpam ])\n",
    "\n",
    "qqplot(logPerCapsSpam, logPerCapsHam, \n",
    "       xlab = \"Regular Email\", ylab = \"Spam Email\", \n",
    "       main = \"Percentage of Capital Letters (log scale)\",\n",
    "       pch = 19, cex = 0.3)"
   ]
  },
  {
   "cell_type": "code",
   "execution_count": 125,
   "metadata": {},
   "outputs": [
    {
     "data": {
      "image/png": "[encoded data removed]",
      "text/plain": [
       "plot without title"
      ]
     },
     "metadata": {},
     "output_type": "display_data"
    }
   ],
   "source": [
    "# pdf(\"SPAM_scatterplotPercentCapsTotChars.pdf\", width = 8, height = 6)\n",
    " \n",
    "colI = c(\"#4DAF4A80\", \"#984EA380\")\n",
    "logBodyCharCt = log(1 + emailDF$bodyCharCt)\n",
    "logPerCaps = log(1 + emailDF$perCaps)\n",
    "plot(logPerCaps ~ logBodyCharCt, xlab = \"Total Characters (log)\",\n",
    "     ylab = \"Percent Capitals (log)\",\n",
    "     col = colI[1 + emailDF$isSpam],\n",
    "     xlim = c(2,12), pch = 19, cex = 0.5)\n",
    "\n",
    "# dev.off()"
   ]
  },
  {
   "cell_type": "code",
   "execution_count": 126,
   "metadata": {},
   "outputs": [
    {
     "data": {
      "text/plain": [
       "    isSpamLabs\n",
       "      ham spam\n",
       "  0  6624 2158\n",
       "  1   314  230\n",
       "  2    11    6\n",
       "  4     0    1\n",
       "  5     1    2\n",
       "  18    1    0"
      ]
     },
     "metadata": {},
     "output_type": "display_data"
    }
   ],
   "source": [
    "table(emailDF$numAtt, isSpamLabs)"
   ]
  },
  {
   "cell_type": "code",
   "execution_count": 127,
   "metadata": {},
   "outputs": [
    {
     "data": {
      "image/png": "[encoded data removed]",
      "text/plain": [
       "Plot with title \"\""
      ]
     },
     "metadata": {},
     "output_type": "display_data"
    }
   ],
   "source": [
    "# pdf(\"SPAM_mosaicPlots.pdf\", width = 8, height = 4)\n",
    "\n",
    "oldPar = par(mfrow = c(1, 2), mar = c(1,1,1,1))\n",
    "\n",
    "colM = c(\"#E41A1C80\", \"#377EB880\")\n",
    "isRe = factor(emailDF$isRe, labels = c(\"no Re:\", \"Re:\"))\n",
    "mosaicplot(table(isSpamLabs, isRe), main = \"\",\n",
    "           xlab = \"\", ylab = \"\", color = colM)\n",
    "\n",
    "fromNE = factor(emailDF$numEnd, labels = c(\"No #\", \"#\"))\n",
    "mosaicplot(table(isSpamLabs, fromNE), color = colM,\n",
    "           main = \"\", xlab=\"\", ylab = \"\")\n",
    "\n",
    "par(oldPar)\n",
    "\n",
    "# dev.off()"
   ]
  },
  {
   "cell_type": "code",
   "execution_count": 128,
   "metadata": {
    "collapsed": true
   },
   "outputs": [],
   "source": [
    "library(rpart)\n",
    "\n",
    "setupRpart = function(data) {\n",
    "  logicalVars = which(sapply(data, is.logical))\n",
    "  facVars = lapply(data[ , logicalVars], \n",
    "                   function(x) {\n",
    "                      x = as.factor(x)\n",
    "                      levels(x) = c(\"F\", \"T\")\n",
    "                      x\n",
    "                   })\n",
    "  cbind(facVars, data[ , - logicalVars])\n",
    "}"
   ]
  },
  {
   "cell_type": "code",
   "execution_count": 129,
   "metadata": {
    "collapsed": true
   },
   "outputs": [],
   "source": [
    "emailDFrp = setupRpart(emailDF)\n",
    "\n",
    "set.seed(418910)\n",
    "testSpamIdx = sample(numSpam, size = floor(numSpam/3))\n",
    "testHamIdx = sample(numHam, size = floor(numHam/3))\n",
    "\n",
    "testDF = \n",
    "  rbind( emailDFrp[ emailDFrp$isSpam == \"T\", ][testSpamIdx, ],\n",
    "         emailDFrp[emailDFrp$isSpam == \"F\", ][testHamIdx, ] )\n",
    "trainDF =\n",
    "  rbind( emailDFrp[emailDFrp$isSpam == \"T\", ][-testSpamIdx, ], \n",
    "         emailDFrp[emailDFrp$isSpam == \"F\", ][-testHamIdx, ])\n",
    "\n",
    "rpartFit = rpart(isSpam ~ ., data = trainDF, method = \"class\")"
   ]
  },
  {
   "cell_type": "code",
   "execution_count": 130,
   "metadata": {},
   "outputs": [
    {
     "data": {
      "image/png": "[encoded data removed]",
      "text/plain": [
       "plot without title"
      ]
     },
     "metadata": {},
     "output_type": "display_data"
    }
   ],
   "source": [
    "library(rpart.plot)\n",
    "prp(rpartFit, extra = 1)\n",
    "\n",
    "library(rpart.plot)\n",
    "# pdf(\"SPAM_rpartTree.pdf\", width = 7, height = 7)\n",
    "\n",
    "prp(rpartFit, extra = 1)\n",
    "# dev.off()"
   ]
  },
  {
   "cell_type": "code",
   "execution_count": 131,
   "metadata": {},
   "outputs": [
    {
     "name": "stdout",
     "output_type": "stream",
     "text": [
      "   F    T \n",
      "2192  125 \n"
     ]
    }
   ],
   "source": [
    "predictions = predict(rpartFit, \n",
    "       newdata = testDF[, names(testDF) != \"isSpam\"],\n",
    "       type = \"class\")\n",
    " \n",
    "predsForHam = predictions[ testDF$isSpam == \"F\" ]\n",
    "print(summary(predsForHam))"
   ]
  },
  {
   "cell_type": "code",
   "execution_count": 132,
   "metadata": {},
   "outputs": [
    {
     "name": "stdout",
     "output_type": "stream",
     "text": [
      "[1] 0.05394907\n"
     ]
    }
   ],
   "source": [
    "print(sum(predsForHam == \"T\") / length(predsForHam))"
   ]
  },
  {
   "cell_type": "code",
   "execution_count": 133,
   "metadata": {},
   "outputs": [
    {
     "name": "stdout",
     "output_type": "stream",
     "text": [
      "[1] 0.1564456\n"
     ]
    }
   ],
   "source": [
    "predsForSpam = predictions[ testDF$isSpam == \"T\" ]\n",
    "print(sum(predsForSpam == \"F\") / length(predsForSpam))"
   ]
  },
  {
   "cell_type": "code",
   "execution_count": 134,
   "metadata": {
    "collapsed": true
   },
   "outputs": [],
   "source": [
    "complexityVals = c(seq(0.00001, 0.0001, length=19),\n",
    "                   seq(0.0001, 0.001, length=19), \n",
    "                   seq(0.001, 0.005, length=9),\n",
    "                   seq(0.005, 0.01, length=9))\n",
    "\n",
    "fits = lapply(complexityVals, function(x) {\n",
    "         rpartObj = rpart(isSpam ~ ., data = trainDF,\n",
    "                          method=\"class\", \n",
    "                          control = rpart.control(cp=x) )\n",
    "           \n",
    "         predict(rpartObj, \n",
    "                 newdata = testDF[ , names(testDF) != \"isSpam\"],\n",
    "                 type = \"class\")\n",
    "        })\n",
    "\n",
    "spam = testDF$isSpam == \"T\"\n",
    "numSpam = sum(spam)\n",
    "numHam = sum(!spam)\n",
    "errs = sapply(fits, function(preds) {\n",
    "                      typeI = sum(preds[ !spam ] == \"T\") / numHam\n",
    "                      typeII = sum(preds[ spam ] == \"F\") / numSpam\n",
    "                      c(typeI = typeI, typeII = typeII)\n",
    "                     })"
   ]
  },
  {
   "cell_type": "code",
   "execution_count": 135,
   "metadata": {},
   "outputs": [
    {
     "data": {
      "image/png": "[encoded data removed]",
      "text/plain": [
       "plot without title"
      ]
     },
     "metadata": {},
     "output_type": "display_data"
    }
   ],
   "source": [
    "# pdf(\"SPAM_rpartTypeIandII.pdf\", width = 8, height = 7)\n",
    "library(RColorBrewer)\n",
    "cols = brewer.pal(9, \"Set1\")[c(3, 4, 5)]\n",
    "plot(errs[1,] ~ complexityVals, type=\"l\", col=cols[2], \n",
    "     lwd = 2, ylim = c(0,0.2), xlim = c(0,0.005), \n",
    "     ylab=\"Error\", xlab=\"complexity parameter values\")\n",
    "points(errs[2,] ~ complexityVals, type=\"l\", col=cols[1], lwd = 2)\n",
    "\n",
    "text(x =c(0.003, 0.0035), y = c(0.12, 0.05), \n",
    "     labels=c(\"Type II Error\", \"Type I Error\"))\n",
    "\n",
    "minI = which(errs[1,] == min(errs[1,]))[1]\n",
    "abline(v = complexityVals[minI], col =\"grey\", lty =3, lwd=2)\n",
    "\n",
    "text(0.0007, errs[1, minI]+0.01, \n",
    "     formatC(errs[1, minI], digits = 2))\n",
    "text(0.0007, errs[2, minI]+0.01, \n",
    "     formatC(errs[2, minI], digits = 3))\n",
    "\n",
    "# dev.off()"
   ]
  }
 ],
 "metadata": {
  "kernelspec": {
   "display_name": "R",
   "language": "R",
   "name": "ir"
  },
  "language_info": {
   "codemirror_mode": "r",
   "file_extension": ".r",
   "mimetype": "text/x-r-source",
   "name": "R",
   "pygments_lexer": "r",
   "version": "3.4.3"
  }
 },
 "nbformat": 4,
 "nbformat_minor": 2
}
